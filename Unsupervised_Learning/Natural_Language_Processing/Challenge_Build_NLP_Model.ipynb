{
 "cells": [
  {
   "cell_type": "code",
   "execution_count": 1,
   "metadata": {
    "collapsed": true
   },
   "outputs": [],
   "source": [
    "%matplotlib inline\n",
    "import numpy as np\n",
    "import pandas as pd\n",
    "import scipy\n",
    "import sklearn\n",
    "import spacy\n",
    "import matplotlib.pyplot as plt\n",
    "import seaborn as sns\n",
    "import re\n",
    "from nltk.corpus import gutenberg, stopwords\n",
    "from collections import Counter\n",
    "from sklearn.feature_extraction.text import TfidfVectorizer"
   ]
  },
  {
   "cell_type": "code",
   "execution_count": 2,
   "metadata": {},
   "outputs": [
    {
     "name": "stdout",
     "output_type": "stream",
     "text": [
      "['austen-emma.txt', 'austen-persuasion.txt', 'austen-sense.txt', 'bible-kjv.txt', 'blake-poems.txt', 'bryant-stories.txt', 'burgess-busterbrown.txt', 'carroll-alice.txt', 'chesterton-ball.txt', 'chesterton-brown.txt', 'chesterton-thursday.txt', 'edgeworth-parents.txt', 'melville-moby_dick.txt', 'milton-paradise.txt', 'shakespeare-caesar.txt', 'shakespeare-hamlet.txt', 'shakespeare-macbeth.txt', 'whitman-leaves.txt']\n"
     ]
    }
   ],
   "source": [
    "print(gutenberg.fileids())"
   ]
  },
  {
   "cell_type": "code",
   "execution_count": 3,
   "metadata": {},
   "outputs": [
    {
     "name": "stdout",
     "output_type": "stream",
     "text": [
      "\n",
      "Raw:\n",
      " [Leaves of Grass by Walt Whitman 1855]\n",
      "\n",
      "\n",
      "Come, said my soul,\n",
      "Such verses for my Body let us write, (for we are one,)\n",
      "That should I after return,\n",
      "Or, long, long hence, in other spheres,\n",
      "There to some group of mates the chants resuming,\n",
      "(Tallying Earth\n"
     ]
    }
   ],
   "source": [
    "leaves = gutenberg.raw('whitman-leaves.txt')\n",
    "paradise = gutenberg.raw('milton-paradise.txt')\n",
    "\n",
    "# Print the first 250 characters of Leaves.\n",
    "print('\\nRaw:\\n', leaves[0:250])"
   ]
  },
  {
   "cell_type": "code",
   "execution_count": 4,
   "metadata": {},
   "outputs": [
    {
     "name": "stdout",
     "output_type": "stream",
     "text": [
      "Chapter headings removed:\n",
      " Come, said my soul, Such verses for my Body let us write, (for we are one,) That should I after return, Or, long, long hence, in other spheres, There to some group of mates the chants resuming, (Tallying Earth's soil, trees, winds, tumultuous waves,)\n"
     ]
    }
   ],
   "source": [
    "# Utility function for standard text cleaning. Remove all text between square brackets, double hyphens & extra whitespace \n",
    "# by splitting and rejoining\n",
    "\n",
    "def text_cleaner(text):\n",
    "   \n",
    "    text = re.sub(r'--',' ',text)\n",
    "    text = re.sub(\"[\\[].*?[\\]]\", \"\", text)\n",
    "    text = ' '.join(text.split())\n",
    "    return text\n",
    "    \n",
    "# Load and clean the data.\n",
    "\n",
    "leaves = gutenberg.raw('whitman-leaves.txt')\n",
    "paradise = gutenberg.raw('milton-paradise.txt')\n",
    "\n",
    "# The Chapter indicator is idiosyncratic\n",
    "\n",
    "leaves = re.sub(r'Chapter \\d+', '', leaves)\n",
    "leaves = re.sub(r'CHAPTER .*', '', leaves)\n",
    "\n",
    "paradise = re.sub(r'Chapter \\d+', '', paradise)\n",
    "paradise = re.sub(r'CHAPTER .*', '', paradise)\n",
    "    \n",
    "leaves = text_cleaner(leaves)\n",
    "paradidse = text_cleaner(paradise)\n",
    "\n",
    "# Ok, what's it look like now?\n",
    "print('Chapter headings removed:\\n', leaves[0:250])"
   ]
  },
  {
   "cell_type": "code",
   "execution_count": 5,
   "metadata": {
    "collapsed": true
   },
   "outputs": [],
   "source": [
    "# Parse the cleaned novels. This can take a bit.\n",
    "nlp = spacy.load('en')\n",
    "leaves_doc = nlp(leaves)\n",
    "paradise_doc = nlp(paradise)"
   ]
  },
  {
   "cell_type": "code",
   "execution_count": 6,
   "metadata": {},
   "outputs": [
    {
     "data": {
      "text/html": [
       "<div>\n",
       "<style>\n",
       "    .dataframe thead tr:only-child th {\n",
       "        text-align: right;\n",
       "    }\n",
       "\n",
       "    .dataframe thead th {\n",
       "        text-align: left;\n",
       "    }\n",
       "\n",
       "    .dataframe tbody tr th {\n",
       "        vertical-align: top;\n",
       "    }\n",
       "</style>\n",
       "<table border=\"1\" class=\"dataframe\">\n",
       "  <thead>\n",
       "    <tr style=\"text-align: right;\">\n",
       "      <th></th>\n",
       "      <th>0</th>\n",
       "      <th>1</th>\n",
       "    </tr>\n",
       "  </thead>\n",
       "  <tbody>\n",
       "    <tr>\n",
       "      <th>0</th>\n",
       "      <td>(Come, ,, said, my, soul, ,, Such, verses, for...</td>\n",
       "      <td>Whitman</td>\n",
       "    </tr>\n",
       "    <tr>\n",
       "      <th>1</th>\n",
       "      <td>(That, should, I, after, return, ,, Or, ,, lon...</td>\n",
       "      <td>Whitman</td>\n",
       "    </tr>\n",
       "    <tr>\n",
       "      <th>2</th>\n",
       "      <td>(Ever, with, pleas'd, smile, I, may, keep, on,...</td>\n",
       "      <td>Whitman</td>\n",
       "    </tr>\n",
       "    <tr>\n",
       "      <th>3</th>\n",
       "      <td>(I, here, and, now, Signing, for, Soul, and, B...</td>\n",
       "      <td>Whitman</td>\n",
       "    </tr>\n",
       "    <tr>\n",
       "      <th>4</th>\n",
       "      <td>(One's)</td>\n",
       "      <td>Whitman</td>\n",
       "    </tr>\n",
       "  </tbody>\n",
       "</table>\n",
       "</div>"
      ],
      "text/plain": [
       "                                                   0        1\n",
       "0  (Come, ,, said, my, soul, ,, Such, verses, for...  Whitman\n",
       "1  (That, should, I, after, return, ,, Or, ,, lon...  Whitman\n",
       "2  (Ever, with, pleas'd, smile, I, may, keep, on,...  Whitman\n",
       "3  (I, here, and, now, Signing, for, Soul, and, B...  Whitman\n",
       "4                                            (One's)  Whitman"
      ]
     },
     "execution_count": 6,
     "metadata": {},
     "output_type": "execute_result"
    }
   ],
   "source": [
    "# Group into sentences.\n",
    "leaves_sents = [[sent, 'Whitman'] for sent in leaves_doc.sents]\n",
    "paradise_sents = [[sent, 'Milton'] for sent in paradise_doc.sents]\n",
    "\n",
    "# Save the sentences as data frame.\n",
    "sentences = pd.DataFrame(leaves_sents + paradise_sents)\n",
    "sentences.head()"
   ]
  },
  {
   "cell_type": "code",
   "execution_count": 7,
   "metadata": {
    "collapsed": true
   },
   "outputs": [],
   "source": [
    "# Utility function to create a list of the 2500 most common words.\n",
    "def bag_of_words(text):\n",
    "    \n",
    "    # Filter out punctuation and stop words.\n",
    "    allwords = [token.lemma_\n",
    "                for token in text\n",
    "                if not token.is_punct\n",
    "                and not token.is_stop]\n",
    "    \n",
    "    # Return the most common words.\n",
    "    return [item[0] for item in Counter(allwords).most_common(2500)]\n",
    "    \n",
    "\n",
    "# Creates a data frame with features for each word in our common word set.\n",
    "# Each value is the count of the times the word appears in each sentence.\n",
    "def bow_features(sentences, common_words):\n",
    "    \n",
    "    # Scaffold the data frame and initialize counts to zero.\n",
    "    df = pd.DataFrame(columns=common_words)\n",
    "    df['text_sentence'] = sentences[0]\n",
    "    df['text_source'] = sentences[1]\n",
    "    df.loc[:, common_words] = 0\n",
    "    \n",
    "    # Process each row, counting the occurrence of words in each sentence.\n",
    "    for i, sentence in enumerate(df['text_sentence']):\n",
    "        \n",
    "        # Convert the sentence to lemmas, then filter out punctuation,\n",
    "        # stop words, and uncommon words.\n",
    "        words = [token.lemma_\n",
    "                 for token in sentence\n",
    "                 if (\n",
    "                     not token.is_punct\n",
    "                     and not token.is_stop\n",
    "                     and token.lemma_ in common_words\n",
    "                 )]\n",
    "        \n",
    "        # Populate the row with word counts.\n",
    "        for word in words:\n",
    "            df.loc[i, word] += 1\n",
    "        \n",
    "        # This counter is just to make sure the kernel didn't hang.\n",
    "        if i % 500 == 0:\n",
    "            print(\"Processing row {}\".format(i))\n",
    "            \n",
    "    return df\n",
    "\n",
    "# Set up the bags.\n",
    "leaveswords = bag_of_words(leaves_doc)\n",
    "paradisewords = bag_of_words(paradise_doc)\n",
    "\n",
    "# Combine bags to create a set of unique words.\n",
    "common_words = set(leaveswords + paradisewords)"
   ]
  },
  {
   "cell_type": "code",
   "execution_count": 8,
   "metadata": {},
   "outputs": [
    {
     "name": "stdout",
     "output_type": "stream",
     "text": [
      "Processing row 0\n",
      "Processing row 500\n",
      "Processing row 1000\n",
      "Processing row 1500\n",
      "Processing row 2000\n",
      "Processing row 2500\n",
      "Processing row 3000\n",
      "Processing row 3500\n",
      "Processing row 4000\n",
      "Processing row 4500\n",
      "Processing row 5000\n",
      "Processing row 5500\n",
      "Processing row 6000\n",
      "Processing row 6500\n",
      "Processing row 7000\n",
      "Processing row 7500\n",
      "Processing row 8000\n",
      "Processing row 8500\n",
      "Processing row 9000\n",
      "Processing row 9500\n"
     ]
    },
    {
     "data": {
      "text/html": [
       "<div>\n",
       "<style>\n",
       "    .dataframe thead tr:only-child th {\n",
       "        text-align: right;\n",
       "    }\n",
       "\n",
       "    .dataframe thead th {\n",
       "        text-align: left;\n",
       "    }\n",
       "\n",
       "    .dataframe tbody tr th {\n",
       "        vertical-align: top;\n",
       "    }\n",
       "</style>\n",
       "<table border=\"1\" class=\"dataframe\">\n",
       "  <thead>\n",
       "    <tr style=\"text-align: right;\">\n",
       "      <th></th>\n",
       "      <th>crew</th>\n",
       "      <th>ecstasy</th>\n",
       "      <th>sit</th>\n",
       "      <th>foul</th>\n",
       "      <th>say</th>\n",
       "      <th>evolution</th>\n",
       "      <th>venerable</th>\n",
       "      <th>interior</th>\n",
       "      <th>dangerous</th>\n",
       "      <th>outline</th>\n",
       "      <th>...</th>\n",
       "      <th>interrupt</th>\n",
       "      <th>dream</th>\n",
       "      <th>pioneer</th>\n",
       "      <th>autumn</th>\n",
       "      <th>false</th>\n",
       "      <th>rough</th>\n",
       "      <th>moloch</th>\n",
       "      <th>virginia</th>\n",
       "      <th>text_sentence</th>\n",
       "      <th>text_source</th>\n",
       "    </tr>\n",
       "  </thead>\n",
       "  <tbody>\n",
       "    <tr>\n",
       "      <th>0</th>\n",
       "      <td>0</td>\n",
       "      <td>0</td>\n",
       "      <td>0</td>\n",
       "      <td>0</td>\n",
       "      <td>1</td>\n",
       "      <td>0</td>\n",
       "      <td>0</td>\n",
       "      <td>0</td>\n",
       "      <td>0</td>\n",
       "      <td>0</td>\n",
       "      <td>...</td>\n",
       "      <td>0</td>\n",
       "      <td>0</td>\n",
       "      <td>0</td>\n",
       "      <td>0</td>\n",
       "      <td>0</td>\n",
       "      <td>0</td>\n",
       "      <td>0</td>\n",
       "      <td>0</td>\n",
       "      <td>(Come, ,, said, my, soul, ,, Such, verses, for...</td>\n",
       "      <td>Whitman</td>\n",
       "    </tr>\n",
       "    <tr>\n",
       "      <th>1</th>\n",
       "      <td>0</td>\n",
       "      <td>0</td>\n",
       "      <td>0</td>\n",
       "      <td>0</td>\n",
       "      <td>0</td>\n",
       "      <td>0</td>\n",
       "      <td>0</td>\n",
       "      <td>0</td>\n",
       "      <td>0</td>\n",
       "      <td>0</td>\n",
       "      <td>...</td>\n",
       "      <td>0</td>\n",
       "      <td>0</td>\n",
       "      <td>0</td>\n",
       "      <td>0</td>\n",
       "      <td>0</td>\n",
       "      <td>0</td>\n",
       "      <td>0</td>\n",
       "      <td>0</td>\n",
       "      <td>(That, should, I, after, return, ,, Or, ,, lon...</td>\n",
       "      <td>Whitman</td>\n",
       "    </tr>\n",
       "    <tr>\n",
       "      <th>2</th>\n",
       "      <td>0</td>\n",
       "      <td>0</td>\n",
       "      <td>0</td>\n",
       "      <td>0</td>\n",
       "      <td>0</td>\n",
       "      <td>0</td>\n",
       "      <td>0</td>\n",
       "      <td>0</td>\n",
       "      <td>0</td>\n",
       "      <td>0</td>\n",
       "      <td>...</td>\n",
       "      <td>0</td>\n",
       "      <td>0</td>\n",
       "      <td>0</td>\n",
       "      <td>0</td>\n",
       "      <td>0</td>\n",
       "      <td>0</td>\n",
       "      <td>0</td>\n",
       "      <td>0</td>\n",
       "      <td>(Ever, with, pleas'd, smile, I, may, keep, on,...</td>\n",
       "      <td>Whitman</td>\n",
       "    </tr>\n",
       "    <tr>\n",
       "      <th>3</th>\n",
       "      <td>0</td>\n",
       "      <td>0</td>\n",
       "      <td>0</td>\n",
       "      <td>0</td>\n",
       "      <td>0</td>\n",
       "      <td>0</td>\n",
       "      <td>0</td>\n",
       "      <td>0</td>\n",
       "      <td>0</td>\n",
       "      <td>0</td>\n",
       "      <td>...</td>\n",
       "      <td>0</td>\n",
       "      <td>0</td>\n",
       "      <td>0</td>\n",
       "      <td>0</td>\n",
       "      <td>0</td>\n",
       "      <td>0</td>\n",
       "      <td>0</td>\n",
       "      <td>0</td>\n",
       "      <td>(I, here, and, now, Signing, for, Soul, and, B...</td>\n",
       "      <td>Whitman</td>\n",
       "    </tr>\n",
       "    <tr>\n",
       "      <th>4</th>\n",
       "      <td>0</td>\n",
       "      <td>0</td>\n",
       "      <td>0</td>\n",
       "      <td>0</td>\n",
       "      <td>0</td>\n",
       "      <td>0</td>\n",
       "      <td>0</td>\n",
       "      <td>0</td>\n",
       "      <td>0</td>\n",
       "      <td>0</td>\n",
       "      <td>...</td>\n",
       "      <td>0</td>\n",
       "      <td>0</td>\n",
       "      <td>0</td>\n",
       "      <td>0</td>\n",
       "      <td>0</td>\n",
       "      <td>0</td>\n",
       "      <td>0</td>\n",
       "      <td>0</td>\n",
       "      <td>(One's)</td>\n",
       "      <td>Whitman</td>\n",
       "    </tr>\n",
       "  </tbody>\n",
       "</table>\n",
       "<p>5 rows × 3801 columns</p>\n",
       "</div>"
      ],
      "text/plain": [
       "  crew ecstasy sit foul say evolution venerable interior dangerous outline  \\\n",
       "0    0       0   0    0   1         0         0        0         0       0   \n",
       "1    0       0   0    0   0         0         0        0         0       0   \n",
       "2    0       0   0    0   0         0         0        0         0       0   \n",
       "3    0       0   0    0   0         0         0        0         0       0   \n",
       "4    0       0   0    0   0         0         0        0         0       0   \n",
       "\n",
       "      ...     interrupt dream pioneer autumn false rough moloch virginia  \\\n",
       "0     ...             0     0       0      0     0     0      0        0   \n",
       "1     ...             0     0       0      0     0     0      0        0   \n",
       "2     ...             0     0       0      0     0     0      0        0   \n",
       "3     ...             0     0       0      0     0     0      0        0   \n",
       "4     ...             0     0       0      0     0     0      0        0   \n",
       "\n",
       "                                       text_sentence text_source  \n",
       "0  (Come, ,, said, my, soul, ,, Such, verses, for...     Whitman  \n",
       "1  (That, should, I, after, return, ,, Or, ,, lon...     Whitman  \n",
       "2  (Ever, with, pleas'd, smile, I, may, keep, on,...     Whitman  \n",
       "3  (I, here, and, now, Signing, for, Soul, and, B...     Whitman  \n",
       "4                                            (One's)     Whitman  \n",
       "\n",
       "[5 rows x 3801 columns]"
      ]
     },
     "execution_count": 8,
     "metadata": {},
     "output_type": "execute_result"
    }
   ],
   "source": [
    "# Create our data frame with features. This can take a while to run.\n",
    "word_counts = bow_features(sentences, common_words)\n",
    "word_counts.head()"
   ]
  },
  {
   "cell_type": "code",
   "execution_count": 9,
   "metadata": {},
   "outputs": [
    {
     "name": "stdout",
     "output_type": "stream",
     "text": [
      "Training set score: 0.996173247521\n",
      "\n",
      "Test set score: 0.961658841941\n"
     ]
    }
   ],
   "source": [
    "# bag of words random forest\n",
    "\n",
    "from sklearn import ensemble\n",
    "from sklearn.model_selection import train_test_split\n",
    "\n",
    "rfc = ensemble.RandomForestClassifier()\n",
    "Y = word_counts['text_source']\n",
    "X = np.array(word_counts.drop(['text_sentence','text_source'], 1))\n",
    "\n",
    "X_train, X_test, y_train, y_test = train_test_split(X, \n",
    "                                                    Y,\n",
    "                                                    test_size=0.4,\n",
    "                                                    random_state=0)\n",
    "train = rfc.fit(X_train, y_train)\n",
    "\n",
    "print('Training set score:', rfc.score(X_train, y_train))\n",
    "print('\\nTest set score:', rfc.score(X_test, y_test))"
   ]
  },
  {
   "cell_type": "code",
   "execution_count": 10,
   "metadata": {},
   "outputs": [
    {
     "data": {
      "text/plain": [
       "array([ 0.96354167,  0.97135417,  0.95572917,  0.96614583,  0.95833333,\n",
       "        0.96866841,  0.96866841,  0.95300261,  0.95039164,  0.97120419])"
      ]
     },
     "execution_count": 10,
     "metadata": {},
     "output_type": "execute_result"
    }
   ],
   "source": [
    "# random forest cross validation\n",
    "\n",
    "from sklearn.model_selection import cross_val_score\n",
    "\n",
    "cross_val_score(rfc, X_test, y_test, cv=10)"
   ]
  },
  {
   "cell_type": "code",
   "execution_count": 11,
   "metadata": {},
   "outputs": [
    {
     "name": "stdout",
     "output_type": "stream",
     "text": [
      "(5749, 3799) (5749,)\n",
      "Training set score: 0.983997216907\n",
      "\n",
      "Test set score: 0.983046426708\n"
     ]
    }
   ],
   "source": [
    "# bag of words with linear regression\n",
    "\n",
    "from sklearn.linear_model import LogisticRegression\n",
    "\n",
    "lr = LogisticRegression()\n",
    "train = lr.fit(X_train, y_train)\n",
    "print(X_train.shape, y_train.shape)\n",
    "print('Training set score:', lr.score(X_train, y_train))\n",
    "print('\\nTest set score:', lr.score(X_test, y_test))"
   ]
  },
  {
   "cell_type": "code",
   "execution_count": 12,
   "metadata": {},
   "outputs": [
    {
     "data": {
      "text/plain": [
       "array([ 0.99479167,  0.97916667,  0.97395833,  0.98177083,  0.9765625 ,\n",
       "        0.9843342 ,  0.97911227,  0.98172324,  0.97911227,  0.9895288 ])"
      ]
     },
     "execution_count": 12,
     "metadata": {},
     "output_type": "execute_result"
    }
   ],
   "source": [
    "# linear regression cross validation\n",
    "\n",
    "cross_val_score(lr, X_test, y_test, cv=10)"
   ]
  },
  {
   "cell_type": "code",
   "execution_count": 15,
   "metadata": {
    "collapsed": true
   },
   "outputs": [],
   "source": [
    "del X_train\n",
    "del X_test"
   ]
  },
  {
   "cell_type": "markdown",
   "metadata": {},
   "source": [
    "**The linear regression model performed slightly better than random forest.  The linear regression cross validation scores are more evenly distributed and are closer to the train score.  Each model performed well, and the cross validation scores showed the models performed consistently.**"
   ]
  },
  {
   "cell_type": "code",
   "execution_count": 16,
   "metadata": {},
   "outputs": [
    {
     "name": "stdout",
     "output_type": "stream",
     "text": [
      "['[ Leaves of Grass by Walt Whitman 1855 ]', \"Come , said my soul , Such verses for my Body let us write , ( for we are one ,) That should I after return , Or , long , long hence , in other spheres , There to some group of mates the chants resuming , ( Tallying Earth ' s soil , trees , winds , tumultuous waves ,) Ever with pleas ' d smile I may keep on , Ever and ever yet the verses owning  as , first , I here and now Signing for Soul and Body , set to them my name ,\", 'Walt Whitman', '[ BOOK I . INSCRIPTIONS ]']\n"
     ]
    }
   ],
   "source": [
    "#reading in the data, this time in the form of paragraphs\n",
    "grass=gutenberg.paras('whitman-leaves.txt')\n",
    "\n",
    "#processing\n",
    "grass_paras=[]\n",
    "for paragraph in grass:\n",
    "    para=paragraph[0]\n",
    "    #removing the double-dash from all words\n",
    "    para=[re.sub(r'--','',word) for word in para]\n",
    "    #Forming each paragraph into a string and adding it to the list of strings.\n",
    "    grass_paras.append(' '.join(para))\n",
    "\n",
    "print(grass_paras[0:4])"
   ]
  },
  {
   "cell_type": "code",
   "execution_count": 17,
   "metadata": {},
   "outputs": [
    {
     "name": "stdout",
     "output_type": "stream",
     "text": [
      "Number of features: 4986\n",
      "Original sentence: } Song of Prudence\n",
      "Tf_idf vector: {'prudence': 0.82769588177439979, 'song': 0.56117691265206071}\n"
     ]
    }
   ],
   "source": [
    "X_train, X_test = train_test_split(grass_paras, test_size=0.4, random_state=0)\n",
    "\n",
    "vectorizer = TfidfVectorizer(max_df=0.5, # drop words that occur in more than half the paragraphs\n",
    "                             min_df=2, # only use words that appear at least twice\n",
    "                             stop_words='english', \n",
    "                             lowercase=True, #convert everything to lower case\n",
    "                             use_idf=True,# use inverse document frequencies for weighting\n",
    "                             norm=u'l2', # Apply a correction factor so longer paragraphs and shorter paragraphs get \n",
    "                                         # treated equally\n",
    "                             smooth_idf=True # Add 1 to all document frequencies, as if an extra document existed that used every word once.  \n",
    "                                             # Prevents divide-by-zero errors\n",
    "                            )\n",
    "\n",
    "\n",
    "# Applying the vectorizer\n",
    "\n",
    "grass_paras_tfidf=vectorizer.fit_transform(grass_paras)\n",
    "print(\"Number of features: %d\" % grass_paras_tfidf.get_shape()[1])\n",
    "\n",
    "#splitting into training and test sets\n",
    "\n",
    "X_train_tfidf, X_test_tfidf= train_test_split(grass_paras_tfidf, test_size=0.4, random_state=0)\n",
    "\n",
    "\n",
    "# Reshape vectorizer output into something readable\n",
    "\n",
    "X_train_tfidf_csr = X_train_tfidf.tocsr()\n",
    "\n",
    "# number of paragraphs\n",
    "\n",
    "n = X_train_tfidf_csr.shape[0]\n",
    "\n",
    "# list dictionaries, one per paragraph\n",
    "\n",
    "tfidf_bypara = [{} for _ in range(0,n)]\n",
    "\n",
    "#List of features\n",
    "\n",
    "terms = vectorizer.get_feature_names()\n",
    "\n",
    "#for each paragraph, lists the feature words and their tf-idf scores\n",
    "\n",
    "for i, j in zip(*X_train_tfidf_csr.nonzero()):\n",
    "    tfidf_bypara[i][terms[j]] = X_train_tfidf_csr[i, j]\n",
    "\n",
    "#Keep in mind that the log base 2 of 1 is 0, so a tf-idf score of 0 indicates that the word was present once in that sentence.\n",
    "\n",
    "print('Original sentence:', X_train[5])\n",
    "print('Tf_idf vector:', tfidf_bypara[5])"
   ]
  },
  {
   "cell_type": "code",
   "execution_count": 18,
   "metadata": {},
   "outputs": [
    {
     "name": "stdout",
     "output_type": "stream",
     "text": [
      "Percent variance captured by all components: 29.7175707272\n",
      "Component 0:\n",
      "[ BOOK XXVIII ]    0.999571\n",
      "[ BOOK XXXIV .     0.999571\n",
      "[ BOOK XX .        0.999571\n",
      "[ BOOK IX ]        0.999571\n",
      "[ BOOK XXVII ]     0.999571\n",
      "[ BOOK XI ]        0.999571\n",
      "[ BOOK XXX .       0.999571\n",
      "[ BOOK XIX .       0.999571\n",
      "[ BOOK XXIII ]     0.999571\n",
      "[ BOOK XXXI ]      0.999571\n",
      "Name: 0, dtype: float64\n",
      "Component 1:\n",
      "Thanks in old age  thanks ere I go , For health , the midday sun , the impalpable air  for life , mere life , For precious ever - lingering memories , ( of you my mother dear  you , father  you , brothers , sisters , friends ,) For all my days  not those of peace alone  the days of war the same , For gentle words , caresses , gifts from foreign lands , For shelter , wine and meat  for sweet appreciation , ( You distant , dim unknown  or young or old  countless , unspecified , readers belov ' d , We never met , and neer shall meet  and yet our souls embrace , long , close and long ;) For beings , groups , love , deeds , words , books  for colors , forms , For all the brave strong men  devoted , hardy men  who ' ve forward sprung in freedom ' s help , all years , all lands For braver , stronger , more devoted men ( a special laurel ere I go , to life ' s war ' s chosen ones , The cannoneers of song and thought  the great artillerists  the foremost leaders , captains of the soul :) As soldier from an ended war return ' d  As traveler out of myriads , to the long procession retrospective , Thanks  joyful thanks ! a soldier ' s , traveler ' s thanks .                                                                                                                                                                                                                                                                                                                                                                                                                                                                                                                                                                                                                                                                                                                                                                                                                                                                                                                                                                                                                                                                                                                                                                                                                                                                                                                                                                                                                                                                                                                                                                                                                                                                                                                                                                                                                                                                                                                                                                                                                                                                                                                                                                                                                                                                                                                                                                                                                                                                                                                                                                                                                                                                                                                                                                                                                                                                                                                                                                                                                                                                                                                                                                                                                                                                                                                                                                                                                                                                                                                                                                                                                                                                                                                                                                                                                                                                                                                                                                                                                                                                                                                                                                                                                                                                                                                                                                                                     0.485850\n",
      "3 The log at the wood - pile , the axe supported by it , The sylvan hut , the vine over the doorway , the space clear ' d for garden , The irregular tapping of rain down on the leaves after the storm is lull ' d , The walling and moaning at intervals , the thought of the sea , The thought of ships struck in the storm and put on their beam ends , and the cutting away of masts , The sentiment of the huge timbers of old - fashion ' d houses and barns , The remember ' d print or narrative , the voyage at a venture of men , families , goods , The disembarkation , the founding of a new city , The voyage of those who sought a New England and found it , the outset anywhere , The settlements of the Arkansas , Colorado , Ottawa , Willamette , The slow progress , the scant fare , the axe , rifle , saddle - bags ; The beauty of all adventurous and daring persons , The beauty of wood - boys and wood - men with their clear untrimm ' d faces , The beauty of independence , departure , actions that rely on themselves , The American contempt for statutes and ceremonies , the boundless impatience of restraint , The loose drift of character , the inkling through random types , the solidification ; The butcher in the slaughter - house , the hands aboard schooners and sloops , the raftsman , the pioneer , Lumbermen in their winter camp , daybreak in the woods , stripes of snow on the limbs of trees , the occasional snapping , The glad clear sound of one ' s own voice , the merry song , the natural life of the woods , the strong day ' s work , The blazing fire at night , the sweet taste of supper , the talk , the bed of hemlock - boughs and the bear - skin ; The house - builder at work in cities or anywhere , The preparatory jointing , squaring , sawing , mortising , The hoist - up of beams , the push of them in their places , laying them regular , Setting the studs by their tenons in the mortises according as they were prepared , The blows of mallets and hammers , the attitudes of the men , their curv ' d limbs , Bending , standing , astride the beams , driving in pins , holding on by posts and braces , The hook ' d arm over the plate , the other arm wielding the axe , The floor - men forcing the planks close to be nail ' d , Their postures bringing their weapons downward on the bearers , The echoes resounding through the vacant building : The huge storehouse carried up in the city well under way , The six framing - men , two in the middle and two at each end , carefully bearing on their shoulders a heavy stick for a cross - beam , The crowded line of masons with trowels in their right hands rapidly laying the long side - wall , two hundred feet from front to rear , The flexible rise and fall of backs , the continual click of the trowels striking the bricks , The bricks one after another each laid so workmanlike in its place , and set with a knock of the trowel - handle , The piles of materials , the mortar on the mortar - boards , and the steady replenishing by the hod - men ; Spar - makers in the spar - yard , the swarming row of well - grown apprentices , The swing of their axes on the square - hew ' d log shaping it toward the shape of a mast , The brisk short crackle of the steel driven slantingly into the pine , The butter - color ' d chips flying off in great flakes and slivers , The limber motion of brawny young arms and hips in easy costumes , The constructor of wharves , bridges , piers , bulk - heads , floats , stays against the sea ; The city fireman , the fire that suddenly bursts forth in the close - pack ' d square , The arriving engines , the hoarse shouts , the nimble stepping and daring , The strong command through the fire - trumpets , the falling in line , the rise and fall of the arms forcing the water , The slender , spasmic , blue - white jets , the bringing to bear of the hooks and ladders and their execution , The crash and cut away of connecting wood - work , or through floors if the fire smoulders under them , The crowd with their lit faces watching , the glare and dense shadows ; The forger at his forge - furnace and the user of iron after him , The maker of the axe large and small , and the welder and temperer , The chooser breathing his breath on the cold steel and trying the edge with his thumb , The one who clean - shapes the handle and sets it firmly in the socket ; The shadowy processions of the portraits of the past users also , The primal patient mechanics , the architects and engineers , The far - off Assyrian edifice and Mizra edifice , The Roman lictors preceding the consuls , The antique European warrior with his axe in combat , The uplifted arm , the clatter of blows on the helmeted head , The death - howl , the limpsy tumbling body , the rush of friend and foe thither , The siege of revolted lieges determin ' d for liberty , The summons to surrender , the battering at castle gates , the truce and parley , The sack of an old city in its time , The bursting in of mercenaries and bigots tumultuously and disorderly , Roar , flames , blood , drunkenness , madness , Goods freely rifled from houses and temples , screams of women in the gripe of brigands , Craft and thievery of camp - followers , men running , old persons despairing , The hell of war , the cruelties of creeds , The list of all executive deeds and words just or unjust , The power of personality just or unjust .    0.468370\n",
      "Magnifying and applying come I , Outbidding at the start the old cautious hucksters , Taking myself the exact dimensions of Jehovah , Lithographing Kronos , Zeus his son , and Hercules his grandson , Buying drafts of Osiris , Isis , Belus , Brahma , Buddha , In my portfolio placing Manito loose , Allah on a leaf , the crucifix engraved , With Odin and the hideous - faced Mexitli and every idol and image , Taking them all for what they are worth and not a cent more , Admitting they were alive and did the work of their days , ( They bore mites as for unfledg ' d birds who have now to rise and fly and sing for themselves ,) Accepting the rough deific sketches to fill out better in myself , bestowing them freely on each man and woman I see , Discovering as much or more in a framer framing a house , Putting higher claims for him there with his roll ' d - up sleeves driving the mallet and chisel , Not objecting to special revelations , considering a curl of smoke or a hair on the back of my hand just as curious as any revelation , Lads ahold of fire - engines and hook - and - ladder ropes no less to me than the gods of the antique wars , Minding their voices peal through the crash of destruction , Their brawny limbs passing safe over charr ' d laths , their white foreheads whole and unhurt out of the flames ; By the mechanic ' s wife with her babe at her nipple interceding for every person born , Three scythes at harvest whizzing in a row from three lusty angels with shirts bagg ' d out at their waists , The snag - tooth ' d hostler with red hair redeeming sins past and to come , Selling all he possesses , traveling on foot to fee lawyers for his brother and sit by him while he is tried for forgery ; What was strewn in the amplest strewing the square rod about me , and not filling the square rod then , The bull and the bug never worshipp ' d half enough , Dung and dirt more admirable than was dream ' d , The supernatural of no account , myself waiting my time to be one of the supremes , The day getting ready for me when I shall do as much good as the best , and be as prodigious ; By my life - lumps !                                                                                                                                                                                                                                                                                                                                                                                                                                                                                                                                                                                                                                                                                                                                                                                                                                                                                                                                                                                                                                                                                                                                                                                                                                                                                                                                                                                                                                                                                                                                                                                                                                                                                                                                                                                                                                                                                                                                                                                                                                                                                                                                                                                                                                                                                                                                                                                                                                                                                                                                                                                                                                                                                                                                                                                                                                                                                                                                                                                                                                                                                                                                                                                                                                                                                                                                                                                              0.456192\n",
      "Vigil strange I kept on the field one night ; When you my son and my comrade dropt at my side that day , One look I but gave which your dear eyes return ' d with a look I shall never forget , One touch of your hand to mine O boy , reach ' d up as you lay on the ground , Then onward I sped in the battle , the even - contested battle , Till late in the night reliev ' d to the place at last again I made my way , Found you in death so cold dear comrade , found your body son of responding kisses , ( never again on earth responding ,) Bared your face in the starlight , curious the scene , cool blew the moderate night - wind , Long there and then in vigil I stood , dimly around me the battlefield spreading , Vigil wondrous and vigil sweet there in the fragrant silent night , But not a tear fell , not even a long - drawn sigh , long , long I gazed , Then on the earth partially reclining sat by your side leaning my chin in my hands , Passing sweet hours , immortal and mystic hours with you dearest comrade  not a tear , not a word , Vigil of silence , love and death , vigil for you my son and my soldier , As onward silently stars aloft , eastward new ones upward stole , Vigil final for you brave boy , ( I could not save you , swift was your death , I faithfully loved you and cared for you living , I think we shall surely meet again ,) Till at latest lingering of the night , indeed just as the dawn appear ' d , My comrade I wrapt in his blanket , envelop ' d well his form , Folded the blanket well , tucking it carefully over head and carefully under feet , And there and then and bathed by the rising sun , my son in his grave , in his rude - dug grave I deposited , Ending my vigil strange with that , vigil of night and battle - field dim , Vigil for boy of responding kisses , ( never again on earth responding ,) Vigil for comrade swiftly slain , vigil I never forget , how as day brighten ' d , I rose from the chill ground and folded my soldier well in his blanket , And buried him where he fell .                                                                                                                                                                                                                                                                                                                                                                                                                                                                                                                                                                                                                                                                                                                                                                                                                                                                                                                                                                                                                                                                                                                                                                                                                                                                                                                                                                                                                                                                                                                                                                                                                                                                                                                                                                                                                                                                                                                                                                                                                                                                                                                                                                                                                                                                                                                                                                                                                                                                                                                                                                                                                                                                                                                                                                                                                                                                                                                                                                                                                                                                                                                                                                                                                                                                                                                                                                                                                                                                                                               0.450726\n",
      "To - day , with bending head and eyes , thou , too , Columbia , Less for the mighty crown laid low in sorrow  less for the Emperor , Thy true condolence breathest , sendest out o ' er many a salt sea mile , Mourning a good old man  a faithful shepherd , patriot .                                                                                                                                                                                                                                                                                                                                                                                                                                                                                                                                                                                                                                                                                                                                                                                                                                                                                                                                                                                                                                                                                                                                                                                                                                                                                                                                                                                                                                                                                                                                                                                                                                                                                                                                                                                                                                                                                                                                                                                                                                                                                                                                                                                                                                                                                                                                                                                                                                                                                                                                                                                                                                                                                                                                                                                                                                                                                                                                                                                                                                                                                                                                                                                                                                                                                                                                                                                                                                                                                                                                                                                                                                                                                                                                                                                                                                                                                                                                                                                                                                                                                                                                                                                                                                                                                                                                                                                                                                                                                                                                                                                                                                                                                                                                                                                                                                                                                                                                                                                                                                                                                                                                                                                                                                                                                                                                          0.401753\n",
      "15 The pure contralto sings in the organ loft , The carpenter dresses his plank , the tongue of his foreplane whistles its wild ascending lisp , The married and unmarried children ride home to their Thanksgiving dinner , The pilot seizes the king - pin , he heaves down with a strong arm , The mate stands braced in the whale - boat , lance and harpoon are ready , The duck - shooter walks by silent and cautious stretches , The deacons are ordain ' d with cross ' d hands at the altar , The spinning - girl retreats and advances to the hum of the big wheel , The farmer stops by the bars as he walks on a First - day loafe and looks at the oats and rye , The lunatic is carried at last to the asylum a confirm ' d case , ( He will never sleep any more as he did in the cot in his mother ' s bed - room ;) The jour printer with gray head and gaunt jaws works at his case , He turns his quid of tobacco while his eyes blurr with the manuscript ; The malform ' d limbs are tied to the surgeon ' s table , What is removed drops horribly in a pail ; The quadroon girl is sold at the auction - stand , the drunkard nods by the bar - room stove , The machinist rolls up his sleeves , the policeman travels his beat , the gate - keeper marks who pass , The young fellow drives the express - wagon , ( I love him , though I do not know him ;) The half - breed straps on his light boots to compete in the race , The western turkey - shooting draws old and young , some lean on their rifles , some sit on logs , Out from the crowd steps the marksman , takes his position , levels his piece ; The groups of newly - come immigrants cover the wharf or levee , As the woolly - pates hoe in the sugar - field , the overseer views them from his saddle , The bugle calls in the ball - room , the gentlemen run for their partners , the dancers bow to each other , The youth lies awake in the cedar - roof ' d garret and harks to the musical rain , The Wolverine sets traps on the creek that helps fill the Huron , The squaw wrapt in her yellow - hemm ' d cloth is offering moccasins and bead - bags for sale , The connoisseur peers along the exhibition - gallery with half - shut eyes bent sideways , As the deck - hands make fast the steamboat the plank is thrown for the shore - going passengers , The young sister holds out the skein while the elder sister winds it off in a ball , and stops now and then for the knots , The one - year wife is recovering and happy having a week ago borne her first child , The clean - hair ' d Yankee girl works with her sewing - machine or in the factory or mill , The paving - man leans on his two - handed rammer , the reporter ' s lead flies swiftly over the note - book , the sign - painter is lettering with blue and gold , The canal boy trots on the tow - path , the book - keeper counts at his desk , the shoemaker waxes his thread , The conductor beats time for the band and all the performers follow him , The child is baptized , the convert is making his first professions , The regatta is spread on the bay , the race is begun , ( how the white sails sparkle !)                                                                                                                                                                                                                                                                                                                                                                                                                                                                                                                                                                                                                                                                                                                                                                                                                                                                                                                                                                                                                                                                                                                                                                                                                                                                                                                                                                                                                                                                                                                                                                                                                                                                                                                                                                                                                                                                                                                                                                                                                                                                                                                                                                                                                                                                                                                                                                                             0.401365\n",
      "3 Blow trumpeter free and clear , I follow thee , While at thy liquid prelude , glad , serene , The fretting world , the streets , the noisy hours of day withdraw , A holy calm descends like dew upon me , I walk in cool refreshing night the walks of Paradise , I scent the grass , the moist air and the roses ; Thy song expands my numb ' d imbonded spirit , thou freest , launchest me , Floating and basking upon heaven ' s lake .                                                                                                                                                                                                                                                                                                                                                                                                                                                                                                                                                                                                                                                                                                                                                                                                                                                                                                                                                                                                                                                                                                                                                                                                                                                                                                                                                                                                                                                                                                                                                                                                                                                                                                                                                                                                                                                                                                                                                                                                                                                                                                                                                                                                                                                                                                                                                                                                                                                                                                                                                                                                                                                                                                                                                                                                                                                                                                                                                                                                                                                                                                                                                                                                                                                                                                                                                                                                                                                                                                                                                                                                                                                                                                                                                                                                                                                                                                                                                                                                                                                                                                                                                                                                                                                                                                                                                                                                                                                                                                                                                                                                                                                                                                                                                                                                                                                                                                                                                                                                                                                                                                                                                                   0.399310\n",
      "I say I bring thee Muse to - day and here , All occupations , duties broad and close , Toil , healthy toil and sweat , endless , without cessation , The old , old practical burdens , interests , joys , The family , parentage , childhood , husband and wife , The house - comforts , the house itself and all its belongings , Food and its preservation , chemistry applied to it , Whatever forms the average , strong , complete , sweet - blooded man or woman , the perfect longeve personality , And helps its present life to health and happiness , and shapes its soul , For the eternal real life to come .                                                                                                                                                                                                                                                                                                                                                                                                                                                                                                                                                                                                                                                                                                                                                                                                                                                                                                                                                                                                                                                                                                                                                                                                                                                                                                                                                                                                                                                                                                                                                                                                                                                                                                                                                                                                                                                                                                                                                                                                                                                                                                                                                                                                                                                                                                                                                                                                                                                                                                                                                                                                                                                                                                                                                                                                                                                                                                                                                                                                                                                                                                                                                                                                                                                                                                                                                                                                                                                                                                                                                                                                                                                                                                                                                                                                                                                                                                                                                                                                                                                                                                                                                                                                                                                                                                                                                                                                                                                                                                                                                                                                                                                                                                                                                                                                                                                                                                                                                                                        0.398875\n",
      "This is thy hour O Soul , thy free flight into the wordless , Away from books , away from art , the day erased , the lesson done , Thee fully forth emerging , silent , gazing , pondering the themes thou lovest best , Night , sleep , death and the stars .                                                                                                                                                                                                                                                                                                                                                                                                                                                                                                                                                                                                                                                                                                                                                                                                                                                                                                                                                                                                                                                                                                                                                                                                                                                                                                                                                                                                                                                                                                                                                                                                                                                                                                                                                                                                                                                                                                                                                                                                                                                                                                                                                                                                                                                                                                                                                                                                                                                                                                                                                                                                                                                                                                                                                                                                                                                                                                                                                                                                                                                                                                                                                                                                                                                                                                                                                                                                                                                                                                                                                                                                                                                                                                                                                                                                                                                                                                                                                                                                                                                                                                                                                                                                                                                                                                                                                                                                                                                                                                                                                                                                                                                                                                                                                                                                                                                                                                                                                                                                                                                                                                                                                                                                                                                                                                                                                   0.395161\n",
      "14 Now while I sat in the day and look ' d forth , In the close of the day with its light and the fields of spring , and the farmers preparing their crops , In the large unconscious scenery of my land with its lakes and forests , In the heavenly aerial beauty , ( after the perturb ' d winds and the storms ,) Under the arching heavens of the afternoon swift passing , and the voices of children and women , The many - moving sea - tides , and I saw the ships how they sail ' d , And the summer approaching with richness , and the fields all busy with labor , And the infinite separate houses , how they all went on , each with its meals and minutia of daily usages , And the streets how their throbbings throbb ' d , and the cities pent  lo , then and there , Falling upon them all and among them all , enveloping me with the rest , Appear ' d the cloud , appear ' d the long black trail , And I knew death , its thought , and the sacred knowledge of death .                                                                                                                                                                                                                                                                                                                                                                                                                                                                                                                                                                                                                                                                                                                                                                                                                                                                                                                                                                                                                                                                                                                                                                                                                                                                                                                                                                                                                                                                                                                                                                                                                                                                                                                                                                                                                                                                                                                                                                                                                                                                                                                                                                                                                                                                                                                                                                                                                                                                                                                                                                                                                                                                                                                                                                                                                                                                                                                                                                                                                                                                                                                                                                                                                                                                                                                                                                                                                                                                                                                                                                                                                                                                                                                                                                                                                                                                                                                                                                                                                                                                                                                                                                                                                                                                                                                                                                                                                                                                                                                                                                                                                  0.388268\n",
      "Name: 1, dtype: float64\n",
      "Component 2:\n",
      "8 And thou America , Thy offspring towering e ' er so high , yet higher Thee above all towering , With Victory on thy left , and at thy right hand Law ; Thou Union holding all , fusing , absorbing , tolerating all , Thee , ever thee , I sing .                                                                                                                                                                                                                                                       0.707330\n",
      "1 Thou Mother with thy equal brood , Thou varied chain of different States , yet one identity only , A special song before I go I ' d sing o ' er all the rest , For thee , the future .                                                                                                                                                                                                                                                                                                                  0.653741\n",
      "With all thy gifts America , Standing secure , rapidly tending , overlooking the world , Power , wealth , extent , vouchsafed to thee  with these and like of these vouchsafed to thee , What if one gift thou lackest ?                                                                                                                                                                                                                                                                                  0.630382\n",
      "An ancient song , reciting , ending , Once gazing toward thee , Mother of All , Musing , seeking themes fitted for thee , Accept me , thou saidst , the elder ballads , And name for me before thou goest each ancient poet .                                                                                                                                                                                                                                                                             0.610077\n",
      "Thou , also thou , a World , With all thy wide geographies , manifold , different , distant , Rounded by thee in one  one common orbic language , One common indivisible destiny for All .                                                                                                                                                                                                                                                                                                                0.600255\n",
      "Approach strong deliveress , When it is so , when thou hast taken them I joyously sing the dead , Lost in the loving floating ocean of thee , Laved in the flood of thy bliss O death .                                                                                                                                                                                                                                                                                                                   0.566783\n",
      "Thou of the tawny flowing hair in battle , I erewhile saw , with erect head , pressing ever in front , bearing a bright sword in thy hand , Now ending well in death the splendid fever of thy deeds , ( I bring no dirge for it or thee , I bring a glad triumphal sonnet ,) Desperate and glorious , aye in defeat most desperate , most glorious , After thy many battles in which never yielding up a gun or a color , Leaving behind thee a memory sweet to soldiers , Thou yieldest up thyself .    0.555393\n",
      "Thou born to match the gale , ( thou art all wings ,) To cope with heaven and earth and sea and hurricane , Thou ship of air that never furl ' st thy sails , Days , even weeks untired and onward , through spaces , realms gyrating , At dusk that lookist on Senegal , at morn America , That sport ' st amid the lightning - flash and thunder - cloud , In them , in thy experiences , had ' st thou my soul , What joys !                                                                           0.523339\n",
      "1 For the lands and for these passionate days and for myself , Now I awhile retire to thee O soil of autumn fields , Reclining on thy breast , giving myself to thee , Answering the pulses of thy sane and equable heart , Turning a verse for thee .                                                                                                                                                                                                                                                    0.499817\n",
      "O soul , repressless , I with thee and thou with me , Thy circumnavigation of the world begin , Of man , the voyage of his mind ' s return , To reason ' s early paradise , Back , back to wisdom ' s birth , to innocent intuitions , Again with fair creation .                                                                                                                                                                                                                                         0.492404\n",
      "Name: 2, dtype: float64\n",
      "Component 3:\n",
      "} Thought                                                                                                                                                                                                  0.848231\n",
      "} Thought                                                                                                                                                                                                  0.848231\n",
      "} Thought                                                                                                                                                                                                  0.848231\n",
      "} Thought                                                                                                                                                                                                  0.848231\n",
      "} The Calming Thought of All                                                                                                                                                                               0.841857\n",
      "} Roaming in Thought [ After reading Hegel ]                                                                                                                                                               0.835949\n",
      "2 Do you suppose I could be content with all if I thought them their own finale ?                                                                                                                          0.727602\n",
      "3 To think the thought of death merged in the thought of materials , To think of all these wonders of city and country , and others taking great interest in them , and we taking no interest in them .    0.648360\n",
      "Every one else seem ' d fill ' d with gloom , Many no doubt thought of capitulation .                                                                                                                      0.635447\n",
      "One of the pumps has been shot away , it is generally thought we are sinking .                                                                                                                             0.612697\n",
      "Name: 3, dtype: float64\n",
      "Component 4:\n",
      "6 What will be will be well , for what is is well , To take interest is well , and not to take interest shall be well .                                                                                                                                                                                                                                                                                                                                                                                                                                                                                                                                                                                                                 0.709435\n",
      "One from Massachusetts shall be a Missourian ' s comrade , From Maine and from hot Carolina , and another an Oregonese , shall be friends triune , More precious to each other than all the riches of the earth .                                                                                                                                                                                                                                                                                                                                                                                                                                                                                                                       0.650817\n",
      "They shall arise in the States , They shall report Nature , laws , physiology , and happiness , They shall illustrate Democracy and the kosmos , They shall be alimentive , amative , perceptive , They shall be complete women and men , their pose brawny and supple , their drink water , their blood clean and clear , They shall fully enjoy materialism and the sight of products , they shall enjoy the sight of the beef , lumber , bread - stuffs , of Chicago the great city .                                                                                                                                                                                                                                                0.650107\n",
      "No danger shall balk Columbia ' s lovers , If need be a thousand shall sternly immolate themselves for one .                                                                                                                                                                                                                                                                                                                                                                                                                                                                                                                                                                                                                            0.625791\n",
      "One stately house shall be the music house , Others for other arts  learning , the sciences , shall all be here , None shall be slighted , none but shall here be honor ' d , help ' d , exampled .                                                                                                                                                                                                                                                                                                                                                                                                                                                                                                                                     0.605004\n",
      "Sons of the Mother of All , you shall yet be victorious , You shall yet laugh to scorn the attacks of all the remainder of the earth .                                                                                                                                                                                                                                                                                                                                                                                                                                                                                                                                                                                                  0.596633\n",
      "It shall be customary in the houses and streets to see manly affection , The most dauntless and rude shall touch face to face lightly , The dependence of Liberty shall be lovers , The continuance of Equality shall be comrades .                                                                                                                                                                                                                                                                                                                                                                                                                                                                                                     0.581910\n",
      "3 I swear the earth shall surely be complete to him or her who shall be complete , The earth remains jagged and broken only to him or her who remains jagged and broken .                                                                                                                                                                                                                                                                                                                                                                                                                                                                                                                                                               0.538772\n",
      "Through you I drain the pent - up rivers of myself , In you I wrap a thousand onward years , On you I graft the grafts of the best - beloved of me and America , The drops I distil upon you shall grow fierce and athletic girls , new artists , musicians , and singers , The babes I beget upon you are to beget babes in their turn , I shall demand perfect men and women out of my love - spendings , I shall expect them to interpenetrate with others , as I and you inter - penetrate now , I shall count on the fruits of the gushing showers of them , as I count on the fruits of the gushing showers I give now , I shall look for loving crops from the birth , life , death , immortality , I plant so lovingly now .    0.538568\n",
      "In the name of these States shall I scorn the antique ?                                                                                                                                                                                                                                                                                                                                                                                                                                                                                                                                                                                                                                                                                 0.524516\n",
      "Name: 4, dtype: float64\n"
     ]
    }
   ],
   "source": [
    "from sklearn.decomposition import TruncatedSVD\n",
    "from sklearn.pipeline import make_pipeline\n",
    "from sklearn.preprocessing import Normalizer\n",
    "\n",
    "# Our SVD data reducer.  Reduce the feature space from 4986 to 130.\n",
    "\n",
    "svd= TruncatedSVD(130)\n",
    "lsa = make_pipeline(svd, Normalizer(copy=False))\n",
    "\n",
    "# Run SVD on the training data, then project the training data.\n",
    "\n",
    "X_train_lsa = lsa.fit_transform(X_train_tfidf)\n",
    "\n",
    "variance_explained=svd.explained_variance_ratio_\n",
    "total_variance = variance_explained.sum()\n",
    "print(\"Percent variance captured by all components:\",total_variance*100)\n",
    "\n",
    "# Looking at what sorts of paragraphs our solution considers similar, for the first five identified topics\n",
    "\n",
    "paras_by_component=pd.DataFrame(X_train_lsa,index=X_train)\n",
    "for i in range(5):\n",
    "    print('Component {}:'.format(i))\n",
    "    print(paras_by_component.loc[:,i].sort_values(ascending=False)[0:10])"
   ]
  },
  {
   "cell_type": "code",
   "execution_count": 19,
   "metadata": {
    "scrolled": true
   },
   "outputs": [
    {
     "data": {
      "image/png": "[encoded data removed]",
      "text/plain": [
       "<matplotlib.figure.Figure at 0x1a13cddd30>"
      ]
     },
     "metadata": {},
     "output_type": "display_data"
    },
    {
     "name": "stdout",
     "output_type": "stream",
     "text": [
      "Key:\n",
      "0 } On the Beach at Night\n",
      "1 I need no assurances , I am a man who is preoccupied of his own soul ; I do not doubt that from under the feet and beside the hands and face I am cognizant of , are now looking faces I am not cognizant of , calm and actual faces , I do not doubt but the majesty and beauty of the world are latent in any iota of the world , I do not doubt I am limitless , and that the universes are limitless , in vain I try to think how limitless , I do not doubt that the orbs and the systems of orbs play their swift sports through the air on purpose , and that I shall one day be eligible to do as much as they , and more than they , I do not doubt that temporary affairs keep on and on millions of years , I do not doubt interiors have their interiors , and exteriors have their exteriors , and that the eyesight has another eyesight , and the hearing another hearing , and the voice another voice , I do not doubt that the passionately - wept deaths of young men are provided for , and that the deaths of young women and the deaths of little children are provided for , ( Did you think Life was so well provided for , and Death , the purport of all Life , is not well provided for ?)\n",
      "2 Sweet are the blooming cheeks of the living  sweet are the musical voices sounding , But sweet , ah sweet , are the dead with their silent eyes .\n",
      "3 Dark mother always gliding near with soft feet , Have none chanted for thee a chant of fullest welcome ?\n",
      "4 And you lady of ships , you Mannahatta , Old matron of this proud , friendly , turbulent city , Often in peace and wealth you were pensive or covertly frown ' d amid all your children , But now you smile with joy exulting old Mannahatta .\n",
      "5 } Song of Prudence\n",
      "6 10 I see vapors exhaling from unexplored countries , I see the savage types , the bow and arrow , the poison ' d splint , the fetich , and the obi .\n",
      "7 Ma femme !\n",
      "8 The aria sinking , All else continuing , the stars shining , The winds blowing , the notes of the bird continuous echoing , With angry moans the fierce old mother incessantly moaning , On the sands of Paumanok ' s shore gray and rustling , The yellow half - moon enlarged , sagging down , drooping , the face of the sea almost touching , The boy ecstatic , with his bare feet the waves , with his hair the atmosphere dallying , The love in the heart long pent , now loose , now at last tumultuously bursting , The aria ' s meaning , the ears , the soul , swiftly depositing , The strange tears down the cheeks coursing , The colloquy there , the trio , each uttering , The undertone , the savage old mother incessantly crying , To the boy ' s soul ' s questions sullenly timing , some drown ' d secret hissing , To the outsetting bard .\n",
      "9 Oxen that rattle the yoke and chain or halt in the leafy shade , what is that you express in your eyes ?\n"
     ]
    }
   ],
   "source": [
    "# Compute document similarity using LSA components\n",
    "\n",
    "similarity = np.asarray(np.asmatrix(X_train_lsa) * np.asmatrix(X_train_lsa).T)\n",
    "\n",
    "# Only taking the first 10 sentences\n",
    "\n",
    "sim_matrix=pd.DataFrame(similarity,index=X_train).iloc[0:10,0:10]\n",
    "\n",
    "# Make a plot\n",
    "\n",
    "ax = sns.heatmap(sim_matrix,yticklabels=range(10))\n",
    "plt.show()\n",
    "\n",
    "#Generate a key for the plot.\n",
    "\n",
    "print('Key:')\n",
    "for i in range(10):\n",
    "    print(i,sim_matrix.index[i])"
   ]
  },
  {
   "cell_type": "code",
   "execution_count": 20,
   "metadata": {},
   "outputs": [
    {
     "data": {
      "image/png": "[encoded data removed]",
      "text/plain": [
       "<matplotlib.figure.Figure at 0x1a13c126d8>"
      ]
     },
     "metadata": {},
     "output_type": "display_data"
    }
   ],
   "source": [
    "from sklearn.neighbors import NearestNeighbors\n",
    "\n",
    "nbrs = NearestNeighbors(n_neighbors=5, algorithm='ball_tree').fit(X_train_lsa)\n",
    "nbrs.kneighbors_graph(X_train_lsa).toarray()\n",
    "\n",
    "# Plot the solution.\n",
    "plt.scatter(X_train_lsa[:, 0], X_train_lsa[:, 1], c='mcygr')\n",
    "plt.show()"
   ]
  },
  {
   "cell_type": "code",
   "execution_count": 21,
   "metadata": {
    "scrolled": true
   },
   "outputs": [
    {
     "data": {
      "image/png": "[encoded data removed]",
      "text/plain": [
       "<matplotlib.figure.Figure at 0x1a13c01630>"
      ]
     },
     "metadata": {},
     "output_type": "display_data"
    }
   ],
   "source": [
    "# graph k-means clusters\n",
    "\n",
    "from sklearn.cluster import KMeans\n",
    "\n",
    "# Calculate predicted values.\n",
    "km = KMeans(n_clusters=6, random_state=42).fit_predict(X_train_lsa)\n",
    "\n",
    "plt.scatter(X_train_lsa[:, 0], X_train_lsa[:, 1], c='mcybgr')\n",
    "plt.show()"
   ]
  },
  {
   "cell_type": "code",
   "execution_count": 22,
   "metadata": {},
   "outputs": [
    {
     "name": "stdout",
     "output_type": "stream",
     "text": [
      "Number of estimated clusters: 1\n"
     ]
    }
   ],
   "source": [
    "from sklearn.cluster import MeanShift, estimate_bandwidth\n",
    "\n",
    "# Here we set the bandwidth. This function automatically derives a bandwidth\n",
    "# number based on an inspection of the distances among points in the data.\n",
    "bandwidth = estimate_bandwidth(X_train_lsa, quantile=0.2, n_samples=500)\n",
    "\n",
    "# Declare and fit the model.\n",
    "ms = MeanShift(bandwidth=bandwidth, bin_seeding=True)\n",
    "ms.fit(X_train_lsa)\n",
    "\n",
    "# Extract cluster assignments for each data point.\n",
    "labels = ms.labels_\n",
    "\n",
    "# Coordinates of the cluster centers.\n",
    "cluster_centers = ms.cluster_centers_\n",
    "\n",
    "# Count our clusters.\n",
    "n_clusters_ = len(np.unique(labels))\n",
    "\n",
    "print(\"Number of estimated clusters: {}\".format(n_clusters_))"
   ]
  },
  {
   "cell_type": "code",
   "execution_count": 23,
   "metadata": {},
   "outputs": [
    {
     "data": {
      "image/png": "[encoded data removed]",
      "text/plain": [
       "<matplotlib.figure.Figure at 0x1a13e30278>"
      ]
     },
     "metadata": {},
     "output_type": "display_data"
    },
    {
     "name": "stdout",
     "output_type": "stream",
     "text": [
      "Comparing the assigned categories to the ones in the data:\n",
      "col_0                                                  0\n",
      "row_0                                                   \n",
      "MeanShift(bandwidth=1.3673551571413245, bin_see...  1486\n"
     ]
    }
   ],
   "source": [
    "plt.scatter(X_train_lsa[:, 0], X_train_lsa[:, 1], c=labels)\n",
    "plt.show()\n",
    "\n",
    "print('Comparing the assigned categories to the ones in the data:')\n",
    "print(pd.crosstab(ms,labels))"
   ]
  },
  {
   "cell_type": "code",
   "execution_count": null,
   "metadata": {
    "collapsed": true
   },
   "outputs": [],
   "source": []
  }
 ],
 "metadata": {
  "kernelspec": {
   "display_name": "Python 3",
   "language": "python",
   "name": "python3"
  },
  "language_info": {
   "codemirror_mode": {
    "name": "ipython",
    "version": 3
   },
   "file_extension": ".py",
   "mimetype": "text/x-python",
   "name": "python",
   "nbconvert_exporter": "python",
   "pygments_lexer": "ipython3",
   "version": "3.6.3"
  }
 },
 "nbformat": 4,
 "nbformat_minor": 2
}
