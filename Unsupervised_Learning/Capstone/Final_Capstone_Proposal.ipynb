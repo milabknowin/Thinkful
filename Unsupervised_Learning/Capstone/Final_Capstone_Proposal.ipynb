{
 "cells": [
  {
   "cell_type": "markdown",
   "metadata": {},
   "source": [
    "# Final Capstone Proposal  \n",
    "\n",
    "\n",
    "## What is the problem you are attempting to solve?  \n",
    "\n",
    "### The negative effects of population dynamics and health/nutrition on fertility rates.\n",
    "\n",
    "## How is your solution valuable?  \n",
    "\n",
    "### By determining key factors affecting fertility rates, policy proposals can be written or amended to combat declining fertility rates.\n",
    "\n",
    "## What is your data source and how will you access it?\n",
    "\n",
    "### I have a dataset of 217 countries and regions with reproductive data, population dynamics, and nutrition data spanning 1960-2017.  I'll focus on factors affecting fertility.  For data selection, the 3 countries with the most data will be chosen from each continent.  Antarctica has a transitional population of approximately 5,000 people, so no data is available from that continent.  To offset the lack of data from Antarctica, 5 countries will be chosen from Asia, which is the largest and most populated continent, 4 countries will be selected from Africa, which is the second largest and most populated continent, and the remaining 4 continents will be represented by 3 countries each.\n",
    "\n",
    "## What techniques from the course do you anticipate using?  \n",
    "\n",
    "### I'll create visualizations using seaborn and matplotlib, feature engineering via dimensionality reduction by PCA or, lasso regression and creating interactions.   I'll use random forest classification modeI, and ensemble models as necessary based on accuracy.  I anticipate using supervised and unsupervised learning techniques including PCA and clustering.  \n",
    "\n",
    "### For model evaluation, data will be split into train and test sets.  Each model will be evaluated by cross validation and recall. \n",
    "\n",
    "## What do you anticipate to be the biggest challenge you’ll face?  \n",
    "\n",
    "### Wrangling the data into a format suitable for modeling, and dealing with inconsistencies in data reporting across countries and years."
   ]
  },
  {
   "cell_type": "code",
   "execution_count": null,
   "metadata": {
    "collapsed": true
   },
   "outputs": [],
   "source": []
  }
 ],
 "metadata": {
  "kernelspec": {
   "display_name": "Python 3",
   "language": "python",
   "name": "python3"
  },
  "language_info": {
   "codemirror_mode": {
    "name": "ipython",
    "version": 3
   },
   "file_extension": ".py",
   "mimetype": "text/x-python",
   "name": "python",
   "nbconvert_exporter": "python",
   "pygments_lexer": "ipython3",
   "version": "3.6.3"
  }
 },
 "nbformat": 4,
 "nbformat_minor": 2
}
