{
 "cells": [
  {
   "cell_type": "markdown",
   "metadata": {},
   "source": [
    "# Final Capstone Proposal  \n",
    "\n",
    "\n",
    "## What is the problem you are attempting to solve?  \n",
    "\n",
    "### The negative effects of population dynamics and health/nutrition on reproductive health.\n",
    "\n",
    "## How is your solution valuable?  \n",
    "\n",
    "### It can influence policy proposals based on key features.\n",
    "\n",
    "## What is your data source and how will you access it?\n",
    "\n",
    "### I have a dataset of 217 countries with data fertility rates, life expectancy, and health spanning 1960-2017.\n",
    "\n",
    "## What techniques from the course do you anticipate using?  \n",
    "\n",
    "### I'll create visualizations using seaborn and matplotlib, feature engineering via dimensionality reduction by PCA or, lasso regression and creating interactions.  I anticipate using supervised and unsupervised learning techniques including PCA and clustering.\n",
    "\n",
    "## What do you anticipate to be the biggest challenge you’ll face?  \n",
    "\n",
    "### Wrangling the data into a format suitable for modeling."
   ]
  },
  {
   "cell_type": "code",
   "execution_count": null,
   "metadata": {
    "collapsed": true
   },
   "outputs": [],
   "source": []
  }
 ],
 "metadata": {
  "kernelspec": {
   "display_name": "Python 3",
   "language": "python",
   "name": "python3"
  },
  "language_info": {
   "codemirror_mode": {
    "name": "ipython",
    "version": 3
   },
   "file_extension": ".py",
   "mimetype": "text/x-python",
   "name": "python",
   "nbconvert_exporter": "python",
   "pygments_lexer": "ipython3",
   "version": "3.6.3"
  }
 },
 "nbformat": 4,
 "nbformat_minor": 2
}
