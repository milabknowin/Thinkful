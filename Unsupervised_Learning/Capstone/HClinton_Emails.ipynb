{
 "cells": [
  {
   "cell_type": "code",
   "execution_count": 1,
   "metadata": {},
   "outputs": [
    {
     "name": "stderr",
     "output_type": "stream",
     "text": [
      "/Users/jamilab/anaconda3/lib/python3.6/site-packages/sklearn/cross_validation.py:41: DeprecationWarning: This module was deprecated in version 0.18 in favor of the model_selection module into which all the refactored classes and functions are moved. Also note that the interface of the new CV iterators are different from that of this module. This module will be removed in 0.20.\n",
      "  \"This module will be removed in 0.20.\", DeprecationWarning)\n"
     ]
    }
   ],
   "source": [
    "import numpy as np\n",
    "import pandas as pd\n",
    "import scipy as sp\n",
    "import matplotlib.pyplot as plt\n",
    "\n",
    "from sklearn.cross_validation import train_test_split, cross_val_score\n",
    "from sklearn.feature_extraction.text import CountVectorizer, TfidfVectorizer\n",
    "from sklearn.preprocessing import Normalizer\n",
    "from sklearn.linear_model import LogisticRegression\n",
    "from sklearn import metrics\n",
    "\n",
    "from textblob import TextBlob, Word\n",
    "\n",
    "%matplotlib inline\n",
    "plt.rcParams['figure.figsize'] = (20.0, 10.0)"
   ]
  },
  {
   "cell_type": "code",
   "execution_count": 2,
   "metadata": {},
   "outputs": [
    {
     "data": {
      "text/html": [
       "<div>\n",
       "<style>\n",
       "    .dataframe thead tr:only-child th {\n",
       "        text-align: right;\n",
       "    }\n",
       "\n",
       "    .dataframe thead th {\n",
       "        text-align: left;\n",
       "    }\n",
       "\n",
       "    .dataframe tbody tr th {\n",
       "        vertical-align: top;\n",
       "    }\n",
       "</style>\n",
       "<table border=\"1\" class=\"dataframe\">\n",
       "  <thead>\n",
       "    <tr style=\"text-align: right;\">\n",
       "      <th></th>\n",
       "      <th>Id</th>\n",
       "      <th>DocNumber</th>\n",
       "      <th>MetadataSubject</th>\n",
       "      <th>MetadataTo</th>\n",
       "      <th>MetadataFrom</th>\n",
       "      <th>SenderPersonId</th>\n",
       "      <th>MetadataDateSent</th>\n",
       "      <th>MetadataDateReleased</th>\n",
       "      <th>MetadataPdfLink</th>\n",
       "      <th>MetadataCaseNumber</th>\n",
       "      <th>...</th>\n",
       "      <th>ExtractedTo</th>\n",
       "      <th>ExtractedFrom</th>\n",
       "      <th>ExtractedCc</th>\n",
       "      <th>ExtractedDateSent</th>\n",
       "      <th>ExtractedCaseNumber</th>\n",
       "      <th>ExtractedDocNumber</th>\n",
       "      <th>ExtractedDateReleased</th>\n",
       "      <th>ExtractedReleaseInPartOrFull</th>\n",
       "      <th>ExtractedBodyText</th>\n",
       "      <th>RawText</th>\n",
       "    </tr>\n",
       "  </thead>\n",
       "  <tbody>\n",
       "    <tr>\n",
       "      <th>0</th>\n",
       "      <td>1</td>\n",
       "      <td>C05739545</td>\n",
       "      <td>WOW</td>\n",
       "      <td>H</td>\n",
       "      <td>Sullivan, Jacob J</td>\n",
       "      <td>87.0</td>\n",
       "      <td>2012-09-12T04:00:00+00:00</td>\n",
       "      <td>2015-05-22T04:00:00+00:00</td>\n",
       "      <td>DOCUMENTS/HRC_Email_1_296/HRCH2/DOC_0C05739545...</td>\n",
       "      <td>F-2015-04841</td>\n",
       "      <td>...</td>\n",
       "      <td>NaN</td>\n",
       "      <td>Sullivan, Jacob J &lt;Sullivan11@state.gov&gt;</td>\n",
       "      <td>NaN</td>\n",
       "      <td>Wednesday, September 12, 2012 10:16 AM</td>\n",
       "      <td>F-2015-04841</td>\n",
       "      <td>C05739545</td>\n",
       "      <td>05/13/2015</td>\n",
       "      <td>RELEASE IN FULL</td>\n",
       "      <td>NaN</td>\n",
       "      <td>UNCLASSIFIED\\nU.S. Department of State\\nCase N...</td>\n",
       "    </tr>\n",
       "    <tr>\n",
       "      <th>1</th>\n",
       "      <td>2</td>\n",
       "      <td>C05739546</td>\n",
       "      <td>H: LATEST: HOW SYRIA IS AIDING QADDAFI AND MOR...</td>\n",
       "      <td>H</td>\n",
       "      <td>NaN</td>\n",
       "      <td>NaN</td>\n",
       "      <td>2011-03-03T05:00:00+00:00</td>\n",
       "      <td>2015-05-22T04:00:00+00:00</td>\n",
       "      <td>DOCUMENTS/HRC_Email_1_296/HRCH1/DOC_0C05739546...</td>\n",
       "      <td>F-2015-04841</td>\n",
       "      <td>...</td>\n",
       "      <td>NaN</td>\n",
       "      <td>NaN</td>\n",
       "      <td>NaN</td>\n",
       "      <td>NaN</td>\n",
       "      <td>F-2015-04841</td>\n",
       "      <td>C05739546</td>\n",
       "      <td>05/13/2015</td>\n",
       "      <td>RELEASE IN PART</td>\n",
       "      <td>B6\\nThursday, March 3, 2011 9:45 PM\\nH: Latest...</td>\n",
       "      <td>UNCLASSIFIED\\nU.S. Department of State\\nCase N...</td>\n",
       "    </tr>\n",
       "    <tr>\n",
       "      <th>2</th>\n",
       "      <td>3</td>\n",
       "      <td>C05739547</td>\n",
       "      <td>CHRIS STEVENS</td>\n",
       "      <td>;H</td>\n",
       "      <td>Mills, Cheryl D</td>\n",
       "      <td>32.0</td>\n",
       "      <td>2012-09-12T04:00:00+00:00</td>\n",
       "      <td>2015-05-22T04:00:00+00:00</td>\n",
       "      <td>DOCUMENTS/HRC_Email_1_296/HRCH2/DOC_0C05739547...</td>\n",
       "      <td>F-2015-04841</td>\n",
       "      <td>...</td>\n",
       "      <td>B6</td>\n",
       "      <td>Mills, Cheryl D &lt;MillsCD@state.gov&gt;</td>\n",
       "      <td>Abedin, Huma</td>\n",
       "      <td>Wednesday, September 12, 2012 11:52 AM</td>\n",
       "      <td>F-2015-04841</td>\n",
       "      <td>C05739547</td>\n",
       "      <td>05/14/2015</td>\n",
       "      <td>RELEASE IN PART</td>\n",
       "      <td>Thx</td>\n",
       "      <td>UNCLASSIFIED\\nU.S. Department of State\\nCase N...</td>\n",
       "    </tr>\n",
       "    <tr>\n",
       "      <th>3</th>\n",
       "      <td>4</td>\n",
       "      <td>C05739550</td>\n",
       "      <td>CAIRO CONDEMNATION - FINAL</td>\n",
       "      <td>H</td>\n",
       "      <td>Mills, Cheryl D</td>\n",
       "      <td>32.0</td>\n",
       "      <td>2012-09-12T04:00:00+00:00</td>\n",
       "      <td>2015-05-22T04:00:00+00:00</td>\n",
       "      <td>DOCUMENTS/HRC_Email_1_296/HRCH2/DOC_0C05739550...</td>\n",
       "      <td>F-2015-04841</td>\n",
       "      <td>...</td>\n",
       "      <td>NaN</td>\n",
       "      <td>Mills, Cheryl D &lt;MillsCD@state.gov&gt;</td>\n",
       "      <td>Mitchell, Andrew B</td>\n",
       "      <td>Wednesday, September 12,2012 12:44 PM</td>\n",
       "      <td>F-2015-04841</td>\n",
       "      <td>C05739550</td>\n",
       "      <td>05/13/2015</td>\n",
       "      <td>RELEASE IN PART</td>\n",
       "      <td>NaN</td>\n",
       "      <td>UNCLASSIFIED\\nU.S. Department of State\\nCase N...</td>\n",
       "    </tr>\n",
       "    <tr>\n",
       "      <th>4</th>\n",
       "      <td>5</td>\n",
       "      <td>C05739554</td>\n",
       "      <td>H: LATEST: HOW SYRIA IS AIDING QADDAFI AND MOR...</td>\n",
       "      <td>Abedin, Huma</td>\n",
       "      <td>H</td>\n",
       "      <td>80.0</td>\n",
       "      <td>2011-03-11T05:00:00+00:00</td>\n",
       "      <td>2015-05-22T04:00:00+00:00</td>\n",
       "      <td>DOCUMENTS/HRC_Email_1_296/HRCH1/DOC_0C05739554...</td>\n",
       "      <td>F-2015-04841</td>\n",
       "      <td>...</td>\n",
       "      <td>NaN</td>\n",
       "      <td>NaN</td>\n",
       "      <td>NaN</td>\n",
       "      <td>NaN</td>\n",
       "      <td>F-2015-04841</td>\n",
       "      <td>C05739554</td>\n",
       "      <td>05/13/2015</td>\n",
       "      <td>RELEASE IN PART</td>\n",
       "      <td>H &lt;hrod17@clintonemail.com&gt;\\nFriday, March 11,...</td>\n",
       "      <td>B6\\nUNCLASSIFIED\\nU.S. Department of State\\nCa...</td>\n",
       "    </tr>\n",
       "  </tbody>\n",
       "</table>\n",
       "<p>5 rows × 22 columns</p>\n",
       "</div>"
      ],
      "text/plain": [
       "   Id  DocNumber                                    MetadataSubject  \\\n",
       "0   1  C05739545                                                WOW   \n",
       "1   2  C05739546  H: LATEST: HOW SYRIA IS AIDING QADDAFI AND MOR...   \n",
       "2   3  C05739547                                      CHRIS STEVENS   \n",
       "3   4  C05739550                         CAIRO CONDEMNATION - FINAL   \n",
       "4   5  C05739554  H: LATEST: HOW SYRIA IS AIDING QADDAFI AND MOR...   \n",
       "\n",
       "     MetadataTo       MetadataFrom  SenderPersonId           MetadataDateSent  \\\n",
       "0             H  Sullivan, Jacob J            87.0  2012-09-12T04:00:00+00:00   \n",
       "1             H                NaN             NaN  2011-03-03T05:00:00+00:00   \n",
       "2            ;H    Mills, Cheryl D            32.0  2012-09-12T04:00:00+00:00   \n",
       "3             H    Mills, Cheryl D            32.0  2012-09-12T04:00:00+00:00   \n",
       "4  Abedin, Huma                  H            80.0  2011-03-11T05:00:00+00:00   \n",
       "\n",
       "        MetadataDateReleased  \\\n",
       "0  2015-05-22T04:00:00+00:00   \n",
       "1  2015-05-22T04:00:00+00:00   \n",
       "2  2015-05-22T04:00:00+00:00   \n",
       "3  2015-05-22T04:00:00+00:00   \n",
       "4  2015-05-22T04:00:00+00:00   \n",
       "\n",
       "                                     MetadataPdfLink MetadataCaseNumber  \\\n",
       "0  DOCUMENTS/HRC_Email_1_296/HRCH2/DOC_0C05739545...       F-2015-04841   \n",
       "1  DOCUMENTS/HRC_Email_1_296/HRCH1/DOC_0C05739546...       F-2015-04841   \n",
       "2  DOCUMENTS/HRC_Email_1_296/HRCH2/DOC_0C05739547...       F-2015-04841   \n",
       "3  DOCUMENTS/HRC_Email_1_296/HRCH2/DOC_0C05739550...       F-2015-04841   \n",
       "4  DOCUMENTS/HRC_Email_1_296/HRCH1/DOC_0C05739554...       F-2015-04841   \n",
       "\n",
       "                         ...                         ExtractedTo  \\\n",
       "0                        ...                                 NaN   \n",
       "1                        ...                                 NaN   \n",
       "2                        ...                                  B6   \n",
       "3                        ...                                 NaN   \n",
       "4                        ...                                 NaN   \n",
       "\n",
       "                              ExtractedFrom         ExtractedCc  \\\n",
       "0  Sullivan, Jacob J <Sullivan11@state.gov>                 NaN   \n",
       "1                                       NaN                 NaN   \n",
       "2       Mills, Cheryl D <MillsCD@state.gov>        Abedin, Huma   \n",
       "3       Mills, Cheryl D <MillsCD@state.gov>  Mitchell, Andrew B   \n",
       "4                                       NaN                 NaN   \n",
       "\n",
       "                        ExtractedDateSent ExtractedCaseNumber  \\\n",
       "0  Wednesday, September 12, 2012 10:16 AM        F-2015-04841   \n",
       "1                                     NaN        F-2015-04841   \n",
       "2  Wednesday, September 12, 2012 11:52 AM        F-2015-04841   \n",
       "3   Wednesday, September 12,2012 12:44 PM        F-2015-04841   \n",
       "4                                     NaN        F-2015-04841   \n",
       "\n",
       "  ExtractedDocNumber ExtractedDateReleased ExtractedReleaseInPartOrFull  \\\n",
       "0          C05739545            05/13/2015              RELEASE IN FULL   \n",
       "1          C05739546            05/13/2015              RELEASE IN PART   \n",
       "2          C05739547            05/14/2015              RELEASE IN PART   \n",
       "3          C05739550            05/13/2015              RELEASE IN PART   \n",
       "4          C05739554            05/13/2015              RELEASE IN PART   \n",
       "\n",
       "                                   ExtractedBodyText  \\\n",
       "0                                                NaN   \n",
       "1  B6\\nThursday, March 3, 2011 9:45 PM\\nH: Latest...   \n",
       "2                                                Thx   \n",
       "3                                                NaN   \n",
       "4  H <hrod17@clintonemail.com>\\nFriday, March 11,...   \n",
       "\n",
       "                                             RawText  \n",
       "0  UNCLASSIFIED\\nU.S. Department of State\\nCase N...  \n",
       "1  UNCLASSIFIED\\nU.S. Department of State\\nCase N...  \n",
       "2  UNCLASSIFIED\\nU.S. Department of State\\nCase N...  \n",
       "3  UNCLASSIFIED\\nU.S. Department of State\\nCase N...  \n",
       "4  B6\\nUNCLASSIFIED\\nU.S. Department of State\\nCa...  \n",
       "\n",
       "[5 rows x 22 columns]"
      ]
     },
     "execution_count": 2,
     "metadata": {},
     "output_type": "execute_result"
    }
   ],
   "source": [
    "# create df\n",
    "\n",
    "df = pd.read_csv('/Users/jamilab/Data_Science/Data_Sets/hillary-clinton-emails/Emails.csv')\n",
    "df.head()"
   ]
  },
  {
   "cell_type": "code",
   "execution_count": 3,
   "metadata": {
    "scrolled": true
   },
   "outputs": [
    {
     "data": {
      "text/plain": [
       "array(['Sullivan, Jacob J <Sullivan11@state.gov>', nan,\n",
       "       'Mills, Cheryl D <MillsCD@state.gov>',\n",
       "       'Sullivan, Jacob J <Sullivanli@stategov>',\n",
       "       'Sullivan, Jacob 1 <Sullivan)) state.gov>',\n",
       "       'Sullivan, Jacob J <SullivanJJ@state.gov>',\n",
       "       'Mills, Cheryl 0 <MillsCD@state.gov›',\n",
       "       'Koh, Harold Hongju <KohliFf@state.gov>',\n",
       "       'Sherman, Wendy R <ShermanWR@state.gov>',\n",
       "       'Sullivan, Jacobi <Sullivanii@state.gov>',\n",
       "       'H <hrod17©clintonemaiLcom>', 'H <hrod17@clintonemail.com>',\n",
       "       'Sullivan, Jacob .1 ‹Sullivann@state.gov>',\n",
       "       'Sullivan, Jacob I <Sullivanit@state,gov›',\n",
       "       'Mills, Cheryl 0 <MillsCD@stategov>', 'Burns Strider',\n",
       "       'Abedin, Huma <AbedinH@state.goy>',\n",
       "       'McDonough, Denis R. (mailto: B6',\n",
       "       'Mills, Cheryl 0 <MillsCD@state.gov>',\n",
       "       'Sullivan, Jacob .1 <Sullivarill@state.gov>',\n",
       "       'Russo, Robert V <RussoRV©state.gov>',\n",
       "       'Abeclin, Huma <AbedinH@state.gov>',\n",
       "       'Sullivan, Jacobi <SullivanJJOstate.goy>', 'Mills, Cheryl D',\n",
       "       'H < hrod17@clintonemail.com>-', 'H <hrod17@dintonemailcom>',\n",
       "       'Milts, Cheryl 0 <MillsCD@state.gov>',\n",
       "       'Sullivan, Jacobi <Sullivaniiestate.gov>', 'Sidney Blumenthal',\n",
       "       'H < hrod17@clintonemail.com>',\n",
       "       'Marshall, Capricia P <MarshalICP@state.gov>',\n",
       "       'Anne-Marie Slaughter', 'Burns, William J <BurnsW.1@state.gov>',\n",
       "       'H <hrod17@clintonernail.com>', 'Barton, Rick (CSO)',\n",
       "       'Sullivan, Jacob J <Sullivann@state.gov>',\n",
       "       'Sullivan, Jacob J <SullivanDostate.gov>',\n",
       "       'Mills, Cheryl ID <MillsCD@state.gov>',\n",
       "       'H <hrod17@clintonemailcom>',\n",
       "       'Sullivan, Jacob J <Sullivanii@stategov>',\n",
       "       'Sullivan, Jacobi <SullivanJJ state.gov>',\n",
       "       'H <hrodl7@clintonemaii.com›',\n",
       "       'Hanley, Monica R <HanleyMR@state.gov>',\n",
       "       'H <hrod17©clintonemailcom>',\n",
       "       'Sullivan, Jacob <Sullivanil@state.gov›',\n",
       "       'H <hrod17©clintonemail.com>', 'B6',\n",
       "       'Mills, Cheryl D <MillsCD@state.gov›',\n",
       "       'Schwerin, Daniel B <SchwerinDB@state.gov>',\n",
       "       'Sullivan, Jacob 3 <Sullivanii@state.gov>',\n",
       "       'Abedin, Huma <AbedinH@state.gov>',\n",
       "       'Sullivan, Jacobi <Suilivanll@state.gov>',\n",
       "       'Abedin, Hume <AbeclinH@stategov›',\n",
       "       'Hanky, Monica R <HanleyMR@stategov>',\n",
       "       'Reines, Philippe I < reinesp@state.gove',\n",
       "       'Abedin, Hume <AbedinH©state_gov>', 'H ehrod17@clintonemailcom>',\n",
       "       'Schwerin, Daniel B <SchwerinDB@state.gov›',\n",
       "       'Abedin, Hume <AbedinH state.gov>',\n",
       "       'Sullivan, Jacobi <Sullivan.11@state.gov>',\n",
       "       'lvlills, Cheryl D <MilisCD@state.gov>',\n",
       "       'Tomlinson, Christina B3 CIA PERS/ORG',\n",
       "       'H ‹hrod17@clintonernail.com>',\n",
       "       'Hanley, Monica R <HanleyMR©state.gov>',\n",
       "       'H <hroc117©clintonemailcom>',\n",
       "       'Sullivan, Jacob J <Sullivann@stategov>',\n",
       "       'Hanley, Monica R .<HarileyMR@state.gov>',\n",
       "       'H <hrod17@clintonemall.com›',\n",
       "       'Sullivan, Jacob.) <Sullivaralestate.gov>', 'Hemmen, Chris',\n",
       "       'Sullivan, Jacob J <Sullivanil@state.gov>',\n",
       "       'Mills, Cheryl D <MillsCD©state.gova',\n",
       "       'Sullivan, Jacob .‹Suilivan1J©st.ate.gov>',\n",
       "       'H <hrod17@clintortemail.com›',\n",
       "       'Mills, Cheryl D <MillsCDebstategov>',\n",
       "       'Sullivan, Jacob J <SullivanJJ@state,gov>',\n",
       "       'Mills, Chey 0 <MilisCD@state.gov>',\n",
       "       'Mills, Cheryl D <IVIillsCD@state.gov>',\n",
       "       'H <hrodi 7@clintonemail.com>', 'Sidney Blumenthal B6',\n",
       "       'Mills, Cheryl D <MilLsCD@state.gov›',\n",
       "       'Sullivan, Jacob J <Sullivanll@stategov>',\n",
       "       'Verveer, Melanne S <VerveerMS@state.gov>',\n",
       "       'H <hrod17@clintonernail.corn>',\n",
       "       'Coleman, Claire L <ColemanCL@state.gov>',\n",
       "       'H <hrodl7@ci into nemailcom >',\n",
       "       'Mills, Cheryl D <MillsCD@state.goy>',\n",
       "       'Mills, Cheryl 0 <MillsCDOstate.gov>', 'PIR',\n",
       "       'H <hrod17@clintonemail.corn>', 'H <hrod17@dintonemaii.com>',\n",
       "       'H <brod17@clintonernail.com>',\n",
       "       'Huma Abedin <Hurna@clintonemail.com>',\n",
       "       'Mills, Cheryl D <MilisCD@state.gov>.',\n",
       "       'Mills, Cheryl ID <MillsCD@state.gov›',\n",
       "       'H <hrod17@ciintonernailcom>', 'H 1',\n",
       "       'Mills. Cheryl 0 <ivtillsCD@stategov›',\n",
       "       'H <hrod17@clintoriemail.com>',\n",
       "       'Reines, Philippe I <reinesp@state.gov>',\n",
       "       'H < hrod17@clintonemaii.com>', 'H <hroc117@clintonemail.com>',\n",
       "       'Mills, Cheryl 0 <MillsC0@state.gov›',\n",
       "       'Sullivan, Jacob J <Sullivardi@state.gov>',\n",
       "       'Sullivan, Jacob J <Sullivarill@state.gov>',\n",
       "       'Sullivan, Jacob J eSullivanii@state,gov>',\n",
       "       'Sullivan, Jacob I <Stillivaral@state.gov›',\n",
       "       'Mills, Cheryl D -:MilisCD@stategov>',\n",
       "       'Mills, Cheryl D [mailto:MillsCD@stategovi',\n",
       "       'Sullivan, Jacob .1 <Sullivan.1.1@state.gov>',\n",
       "       'Mills, Cheryl D <MillsCD@stategov>',\n",
       "       'Sullivan, Jacob J <Sulliyantl@state.gov>',\n",
       "       'Mills, Cheryl D [mailto:MillsCD©state.gov]',\n",
       "       'Valmoro, Lona J ‹ValmoroU c stategov>',\n",
       "       'Valnnoro, Lona J <Valmoroti@stategov>',\n",
       "       'H <hrod17@c1intonemai1.com>',\n",
       "       'Coleman, Claire L <ColemanCL@state.gov›',\n",
       "       'Mills, Cheryl 0eMillsCD@state.gov>', 'Cheryl Mills < _',\n",
       "       'Cheryl Mills <', 'Mills, Cheryl D <MillsCD©state.gov>',\n",
       "       'Bums, William J <BurnsWi@state.gov>',\n",
       "       'Nides, Thomas R <NidesTR@state.gov>', 'H ‹hrod17@clintonemailcom>',\n",
       "       'H <hrod17@dintonemail.com>',\n",
       "       'Sullivan, Jacob J <Sullivanii@state.gov>',\n",
       "       'Reines, Philippe) <reinesp@state.gov>',\n",
       "       'Sullivan, Jacob I <Sullivanii@state.gov>',\n",
       "       'Sullivan, JacobJ <Sullivann@state.gov>',\n",
       "       'Sullivan, Jacob I <SullivanJJ@state.gov>', 'Jake Sullivan _',\n",
       "       'Sullivan, Jacob I <Sullivanli@state.gove',\n",
       "       'Sullivan, Jacob J <Sullivanll@state,gov›',\n",
       "       'Sullivan, Jacob .1 <SulliyanJJ©state.gov>', 'Stevens, John C',\n",
       "       'H <hrod17©clintonemail.com›',\n",
       "       'Hanley, Monica R <HanleyMROstate.gov>',\n",
       "       'H <hrod17@clintoneniail.com>',\n",
       "       'Nuland, Victoria 3 <nulandvi@state.gov>',\n",
       "       'Otero, Maria <OteroM2@state.gov>',\n",
       "       'Coleman, Claire L <Colernana@stategovs',\n",
       "       'H <hrod17@clintOnemail.com>', 'H <hrod17@clintonemail.com >',\n",
       "       'Alec', 'H <hrod17@clintonemail corn>',\n",
       "       'H\"<hrod17@clintonemail.com>', 'H <HDR22@clintonemail.com>',\n",
       "       'H <hrod17@clintonemail.com;', '• H <hrod17@clintonemail.com>',\n",
       "       'Cherie Blair', '. H <hrod17@clintonemail.com >',\n",
       "       \"1-1'<hrod17@clintonemail.com>\", 'H', 'Andy Manatos', 'Sid',\n",
       "       'H <hrod17@clintonemail.com> ,', 'H <hrod17@clintonemail.coni>',\n",
       "       'Reines, Philippe I (PACE) <ReinesPI@state.gov>', 'jake.sullivan',\n",
       "       'Valmoro, Lona J <ValmoroU@state.gov>',\n",
       "       'Jiloty, Lauren C <JilotyLC@state.gov>',\n",
       "       'Valmoro, Lona J <ValmoroLJ@state.gov>',\n",
       "       'Mills,.Cheryl D <MillsCD@state.gov>',\n",
       "       'Mills, Cheryl D <MillsCD©state.gov> •', 'cheryl.mills',\n",
       "       'Steinberg, James B <SteinbergJB@state.gov>',\n",
       "       'newmyer on behalf of Jackie Newmyer <newmyer', 'Cheryl Mills[',\n",
       "       'Jiloty, Lauren C <JilotyLC©state.goy>', 'newmyer',\n",
       "       'Abed in, Huma <AbedinH@state.gov>', 'Cheryl Mills',\n",
       "       'Cheryl Mills <cheryl.milk', 'jake.sullivar,',\n",
       "       'Mikulski, BAM (Mikulski) <BAM@Mikulski.senate.gov>', 'wburns66',\n",
       "       'Jake Sullivan <jake.sullivar',\n",
       "       \"' Mills, Cheryl D <MillsCD@state.gov>\",\n",
       "       'Abedin, Huma <AbedinH©state.gov>',\n",
       "       'newmyer on behalf of Jackie Newmyer',\n",
       "       'Abed in, Huma <AbedinH@state.goy>', 'H.<hrod17@clintonemail.com>',\n",
       "       'Huma Abedin <Huma B6', 'Valmoro, Lona J <VaImoroU@state.gov>',\n",
       "       'Jake Sullivan <jake.sullivan', 'Cheryl Mills <cheryl.mill!',\n",
       "       'Huma Abedin <Huma@clintonemail.com>',\n",
       "       'H [mailto:HDR22@clintonemail.com]', 'Ben Kobren',\n",
       "       'Lissa Muscatine', 'Abedin, Huma <AIDedinH@state.gov>',\n",
       "       'Cheryl Mills <cheryl.mills', 'Jackie Newmyer < B61',\n",
       "       'Jake Sullivan <_', 'Jake Sullivan', 'Jake Sullivan <',\n",
       "       'Mills, Cheryl D <MilIsCD@state.gov>',\n",
       "       'Sullivan, Jacob J <SullivanJJ©state.gov>', 'PIR <preine5',\n",
       "       'Neera Tanden <ntanden', 'Jackie Newmyer', 'pverveer B6',\n",
       "       'sbwhoeop', 'Long Term Strategy Group',\n",
       "       'Abedin, Huma <AbedinH©state,gov>', 'Neera Tanden',\n",
       "       'Jiloty, Lauren C <JilotyLC©state.gov>',\n",
       "       'Sullivan, Jacob 1 <SullivanJJ@state.gov>',\n",
       "       'Jiloty, Lauren C <JilotyLC4state.gov>', 'Lee Feinstein',\n",
       "       'cheryl.mills B6', 'Strobe Talbott', 'Berger, Samuel R.',\n",
       "       '• Abedin, Hurna <AbedinH@state.gov>',\n",
       "       'Abed in, Hu ma <AbedinH@state.gov>',\n",
       "       'Sullivan, JacobJ <SullivanJJ@state.gov>', 'Jeffrey L Farrow',\n",
       "       'PVervee _', 'cheryl.mills _', 'PIR <preines',\n",
       "       'Abedin, Hume <AbedinH@state.gov>',\n",
       "       'Balderston, Kris M <BalderstonKM@state.gov>',\n",
       "       'Verma, Richard R <VermaRR@state.gov>', 'postmaster@state.gov',\n",
       "       'Colin Powell', 'Jeffrey Farrow', 'Eizenstat, Stuart',\n",
       "       'Valmoro, Lona J WalmoroU@state.goy>',\n",
       "       'Russo, Robert V <RussoRV@state.gov>',\n",
       "       'Abedin, Hurna <AbedinH@state.gov>',\n",
       "       'Abedin, Hu ma <AbedinH@state.gov>', 'sbwhoeor',\n",
       "       'Strobe Talbott B6', 'Valmoro, Lona 1 <ValmoroU@state.gov>',\n",
       "       'Axelrod, David M.', 'John Podesta',\n",
       "       'Mikulski, BAM (Mikulski) <BAM@Mikulski.senate.gov>.',\n",
       "       'Adler, Caroline E <AdlerCE@state.gov>',\n",
       "       'Sullivan, Jacob J<SullivanJJ@state.gov>', 'Lissa Muscatine B6',\n",
       "       'Minyon Moore .', 'Sullivan, Jacob .1 <Sullivan11@state.gov>',\n",
       "       'Muscatine, Lissa <MuscatineL@state.gov>',\n",
       "       'Muscatine, Lissa <Muscatinel@state.gov>',\n",
       "       'Valmoro, Lona J WalmoroU@state.gov>', 'Wendy Sherman',\n",
       "       'Sullivan, Jacobi <SullivanJJ@state.gov>', 'Muscatine Lissa',\n",
       "       'Huma Abedin', 'Sullivan, Jacob J <SuIlivan1J@state.gov>',\n",
       "       'Sullivan, Jacob J <Sullivan.11@state.gov>',\n",
       "       'Mikulski, BAM (Mikulski)', 'jake.sullivan(',\n",
       "       'Shapiro, Andrew J <ShapiroA@state.gov>',\n",
       "       'ChoIlet, Derek H <CholletDH@state.gov>', 'Philippe Reines',\n",
       "       'Axelrod, David M. B6', 'Wendy Sherman <', 'wburns66 B6 I',\n",
       "       'Donilon, Thomas E.', 'Jacob Lew <', 'Strobe Talbott <',\n",
       "       'PIR <preines B6', 'CdeBaca, Luis', 'Lou de Baca, G/TIP',\n",
       "       '* Abedin, Huma <AbedinH@state.gov>', 'Rubiner, Laurie',\n",
       "       'Ilic, Werner X', 'Muscatine Lissa <',\n",
       "       'Crowley, Philip J <CrowleyPJ@state.gov>',\n",
       "       'Feltman, Jeffrey D <FeltmanJD@state.gov>', 'PVervee', 'pverveer',\n",
       "       'Mitchell, George', 'Valmoro, Lona1 <ValmoroU@state.gov>',\n",
       "       'Sullivan, Jacob J <SulliyanJJ@state.gov>', 'PIR <',\n",
       "       'Campbell, Kurt M <CampbellKM@state.gov>',\n",
       "       '0 Mills, Cheryl D <MillsCD@state.gov>', 'capriciamarshall',\n",
       "       'Fuchs, Michael H <FuchsMH@state.gov>', 'PVerveer', 'pvervee',\n",
       "       'Mills, Cheryl D <MillsCD@state.gov> BEST COPY',\n",
       "       'Abedin, Huma <AbedinH@state.goV>',\n",
       "       'Lew, Jacob J <LewJJ@state.gov>', 'Koh, Harold Hongju',\n",
       "       'Berger, Samuel R. B6', 'Mills, Cheryl D <MiIIsCD©state.gov>',\n",
       "       'Koh, Harold Hongju <KohHH@state.gov>',\n",
       "       'Abedin, Huma <AbedinH@state.gov> .', 'sbwhoeopc', 'sbwhoeop B6',\n",
       "       'Crowley, Philip J <CrowleyPJ©state.gov>',\n",
       "       'Verveer, Melanne S WerveerMS@state.gov>',\n",
       "       'Slaughter, Anne-Marie <SlaughterA@state.gov>',\n",
       "       'Shannon, Thomas A <ShannonTA@state.gov>',\n",
       "       'Jones, Paul W <JonesPW2@state.gov>', 'cheryl.millsc',\n",
       "       'Rodriguez, Miguel E <RodriguezME@state.gov>',\n",
       "       'Hill, Christopher R (Baghdad) <HilICR@state.gov>',\n",
       "       'M.K Albright <', 'Dewan, Linda L <DewanLL@state.gov>',\n",
       "       'Tauscher, Ellen 0 <TauscherE0@state.gov>', 'PIR <preines(',\n",
       "       'Valmoro, Lona J <ValmoroU©state.gov>', 'Jake Sullivar',\n",
       "       'Gina Glantz B6', 'Voda ebeling',\n",
       "       'Abedin, Huma eAbedinH@state.gov>',\n",
       "       'Sullivan, Jacob I <Sullivann@state.gov>',\n",
       "       'Lew, Jacob 1 <Lewil@state.gov>',\n",
       "       'Abedin, Huma <AbedinH©state.goy>', 'sbwhoeop B61',\n",
       "       'Gordon, Philip H <GordonPH©state.gov>',\n",
       "       'Koh, Harold Hongju <KohHH©state.gov>',\n",
       "       'Valmoro, Lona J <ValmoroU@state.goy>', 'info@mailva.evite.com',\n",
       "       'Daniel Baer',\n",
       "       'Reta Jo Lewis, Special Representative, Global Intergovernmental Affairs',\n",
       "       \"Sullivan, 'Jacob J <SullivanJJ@state.gov>\",\n",
       "       'Carson, Johnnie <CarsonJ@state.gov>', 'Daniel Baer •',\n",
       "       'Daniel Baer <', 'Huma Abedin <',\n",
       "       'Sullivan, Jacobi <Sullivarill@state.gov>',\n",
       "       'Baer, Daniel B <BaerDB@state.gov>',\n",
       "       'Verma, Richard R <VermaRR©state.gov>',\n",
       "       'Marshall, Capricia P <MarshalICP©state.goy>', 'Cherie Blair <',\n",
       "       'Toiv, Nora F <ToivNF@state.gov>', 'KPK', 'Merten, Kenneth H',\n",
       "       'PIR <preine', 'Burns, William J <BurnsWJ@state.gov>',\n",
       "       'McHale, Judith A <McHaleJA@state.gov>',\n",
       "       'Stern, Todd D (S/SECC) <SternTD@state.gov>',\n",
       "       'Verveer, Melanne S <VerveerMS©state.gov>',\n",
       "       'Slaughter, Anne-Marie <SlaughterA©state.gov>',\n",
       "       'Sullivan, Jacob 1 <SullivanJ1@state.gov>',\n",
       "       'Valmoro, Lona 1 <ValmoroU©state.gov>',\n",
       "       'Mills, Cheryl D <MillsCD©state.goy>', 'cheryl.mill',\n",
       "       'Shah, Rajiv (AID/A)', 'sbwhoeor.,',\n",
       "       'Hormats, Robert D <HormatsRD@state.gov>', 'Tillemann, Tomicah S',\n",
       "       'Sullivan, Jacob 1 <Sullivanii@state.gov>',\n",
       "       'McHale, Judith A <McHaleJA©state.gov>', 'sbwhoecip',\n",
       "       'Feltman, Jeffrey D <FeltmanJD©state.gov>',\n",
       "       'Jiloty, Lauren C <JilotyLC@state.goy>',\n",
       "       '. Sullivan, Jacobi <Sullivanil@state.gov>',\n",
       "       'Sullivan, Jacob J <Sullivaral@state.gov>',\n",
       "       'Sullivan, Jacob 1 <Sullivann@state.gov>', 'betsyebelin',\n",
       "       'Shannon, Thomas A', 'Capricia Marshall', 'sbwhoeor B6', 'Recos',\n",
       "       'Kelly, Craig A <KellyC@state.gov>', 'Daniel Meron',\n",
       "       'Butzgy, Christopher H <ButzgyCH2@state.gov>',\n",
       "       'Fuchs, Michael H <FuchsMH©state.gov>',\n",
       "       'Sullivan, Jacob i <Sullivanil@state.gov>',\n",
       "       'Mills; Cheryl D <MillsCD@state.gov>', 'Colby Cooper',\n",
       "       'Burns, William J <BurnsWi@state.gov>',\n",
       "       'Brimmer, Esther D <BrimmerE@state.gov>',\n",
       "       'Sullivan, Jacobi <Sullivan11@state.gov>', 'Cheryl Mills B6',\n",
       "       'Lew, Jacob J <Lew1J@state.gov>',\n",
       "       'Rooney, Megan <RooneyM@state.gov>', 'Ebeling, Betsy', 'sbwhoeor.',\n",
       "       'Sullivan, Jacob J <Sullivan1.1@state.gov>',\n",
       "       'Beale, Courtney A Kramer <BealeCA@state.gov>', 'Fareed Zein',\n",
       "       'Balderston, Kris M <BalderstonKM©state.gov>',\n",
       "       'Tillemann, Tomicah S <TillemannTS@state.gov>',\n",
       "       'Verveer, Melanne S <VerveerM5@state.gov>',\n",
       "       'Sullivan, JacobJ <SullivanJJ©state.gov>',\n",
       "       'Sullivan, Jacob i <Sullivanii@state.gov>',\n",
       "       'Sullivan, Jacobi <Sullivanil@state.gov>',\n",
       "       'Huma Abedin <Huma@clintonemail.com >',\n",
       "       'Blake, Robert 0 <BlakeR2@state.gov>',\n",
       "       'Valenzuela, Arturo A <ValenzuelaAA@state.gov>',\n",
       "       'Sullivan, Jacob J <SullivanJ1@state.gov>',\n",
       "       'Reines, Philippe I <reinesp@state.goy>',\n",
       "       'Crowley, Philip J <CrowleyP1@state.gov>',\n",
       "       'Crowley, Philip 1 <Crowley13.1@state.gov>',\n",
       "       'Crowley, Philip1 <CrowleyR1@state.gov>',\n",
       "       'Tillemann, Tomicah S <TillemannTS©state.gov>',\n",
       "       'Sullivan, Jacob J <Sullivarth@state.gov>',\n",
       "       'Sullivan, Jacobi <Sullivann@state.gov>', 'sbvvhoeop',\n",
       "       'Muscatine, Lissa <MuscatineL©state.gov>',\n",
       "       'H <HDR22@ciintonemail.com>', 'C — Cheryl Mills', 'PIR <preines >',\n",
       "       'Sullivan, Jacob <SullivanJJ@state.gov>',\n",
       "       'Rice, Susan E (USUN) <RiceSE@state.gov>', 'Ebeling, Betsy <',\n",
       "       'Sullivan, Jacobi <SullivanJJ©state.gov>',\n",
       "       'Abedin,,Huma <AbedinH@state.goy>', 'Philippe Reines < B6',\n",
       "       'Philippe Reines <', 'Sullivan, Jacob.) <SullivanJJ@state.gov>',\n",
       "       'Strobe Talbott < >', 'Hanley, Monica R <HanleyMR@state.goy>',\n",
       "       'Cherie Blair < >', 'Valmoro, Lona J <ValmoroU©state.goy>',\n",
       "       'Lew, Jacob J <LewJJ©state.gov>', 'Holbrooke, Richard',\n",
       "       'Slaughter, Anne-Marie', 'P1R <preines',\n",
       "       'McHale, Judith A <McHaleJA©state.goy>',\n",
       "       'Rooney, Megan <RooneyM©state.gov>',\n",
       "       'Sullivan, Jacob 1 <SullivanJJ©state.gov>', 'betsyebeling',\n",
       "       'Zachary Iscol', 'Sullivan, Jacob .1 <SullivanJJ@state.gov>',\n",
       "       'PIR <prein0', 'Jiloty, Lauren C dilotyLC@state.gov>',\n",
       "       'Mitchell, George <', 'Sullivan, Jacobi <Sullivantl@state.gov>',\n",
       "       'Verma, Richard R <VermaRR©state.goy>',\n",
       "       'Marshall, Capricia P <MarshalICP@state.gdy>', 'Samuel Berger',\n",
       "       'PIR <preines(i _', 'PVerveeL',\n",
       "       'Valmoro, Lona .1 <ValmoroU@state.gov>', 'Lauren Jiloty',\n",
       "       'Huma Abedin <Humat', 'Lew, Jacob J <Lewil@state.gov>',\n",
       "       'Sullivan, Jacob J <Sullivan.1.1@state.gov>',\n",
       "       'Jiloty, Lauren C <filotyLC@state.gov>',\n",
       "       'Valmoro, Lona1 <ValmoroLJ@state.gov>', 'Sandy',\n",
       "       'Crowley, Philip J <CrowleyR1@state.gov>',\n",
       "       'Sullivan, Jacob 1 <Sullivan11@state.gov>',\n",
       "       'Lauren Jiloty <laurenjiloty', 'Lauren Jiloty <laurenjiloty B6',\n",
       "       'Jake Sullivan B6', 'Jeffrey L Farrow <',\n",
       "       'Mills, Cheryl D <MillsCDOstate.gov>',\n",
       "       'Slaughter, Anne-Marie <SlaughterA@state.gov> I',\n",
       "       'Campbell, Kurt M <CampbelIKM@state.gov>',\n",
       "       'Abed in, Huma <AbedinH©state.gov>',\n",
       "       'Mills, Cheryl D <MillsCD@state.gov> _',\n",
       "       'Gordon, Philip H <GordonPH@state.gov>',\n",
       "       'Lew, Jacob J <Lewn@state.gov>', 'Jake Sullivan < >',\n",
       "       'Lissa Muscatine <', 'Samuel Berger <',\n",
       "       'Sullivan, Jacob 1 <SullivarW@state.gov>',\n",
       "       'Laszczych, Joanne <Laszczychi@state.gov>',\n",
       "       'Laszczych, Joanne <LaszczychJ@state.gov>',\n",
       "       'Woodard, Eric W <WoodardEW@state.gov>',\n",
       "       'Sullivan, Jacob) <Sullivann@state.gov>', 'Lissa Muscatine < >',\n",
       "       'Lauren Jiloty < >', 'Abedin, Hume <AbedinH©state.gov>',\n",
       "       'Lissa Muscatine < > Bi6', 'Verma, Richard R <VermaRR@state.gov?',\n",
       "       'Sullivan, Jacob J <Sullivard1@state.gov>', 'jake.sullivar',\n",
       "       'Sullivan, Jacob I <Sullivanil@state.gov>',\n",
       "       'Mills, Cheryl D <MiilsCD@state.gov>',\n",
       "       '- Abedin, Huma <AbedinH@state.gov>',\n",
       "       'Daniel, Joshua J <DanieW@state.gov>',\n",
       "       'Daniel, Joshua J <Danielil@state.gov>', 'Megan Rooney',\n",
       "       'Mikulski, BAM (Mikulski) <BAM@Mikuiski.senate.gov>',\n",
       "       'H < hrod17@clintonemail.com >', 'jake.sullivan B6',\n",
       "       'Jiloty, Lauren C <JilotylC@state.gov>',\n",
       "       'H <hrodl7@clintonemail.com>', 'Steven.EVERTS',\n",
       "       'Sullivan, JacobJ <Sullivanil@state.gov>',\n",
       "       'H <hrod176clintonemail.com>', 'H <hrod17@clintonemaiLcom>',\n",
       "       'Smith, James E <SmithJE©state.gov>',\n",
       "       'Campbell, Piper <CampbellP@state.gov>',\n",
       "       'Hyde, Dana <HydeD@state.gov>', 'H <hrod17@clintonernail.com >',\n",
       "       'aclb', 'aclb <', 'Huma Abedin < >',\n",
       "       'Sullivan, Jacob 1 <Sullivanil@state.gov>',\n",
       "       'Rodriguez, Miguel E <RodriguezME©state.gov>',\n",
       "       'Sullivan, Jacob1 <SullivanJJ@state.gov>',\n",
       "       '•H <hrod17@clintonemail.com>', 'Rina Amiri',\n",
       "       'H <hrod17@clintonemail.com> I', 'H hrod17@clintonemail.com>',\n",
       "       'H <hrod17@clintonemail.com>.', 'Burns Strider B6', 'aclb B6',\n",
       "       \"Sullivan, Jacob.' <SullivanJ1@state.gov>\", 'Scott Gration',\n",
       "       'David Brock', 'Strobe Talbott <STALBOTT', 'Lanny J. Davis',\n",
       "       'Sullivan, Jacob I <Sullivan11@state.gov>', 'PIR <preine;',\n",
       "       'Sullivan, Jacob., <Sullivan.1.1@state.gov>', 'Jake Sullivan •'], dtype=object)"
      ]
     },
     "execution_count": 3,
     "metadata": {},
     "output_type": "execute_result"
    }
   ],
   "source": [
    "df['ExtractedFrom'].unique()"
   ]
  },
  {
   "cell_type": "code",
   "execution_count": 4,
   "metadata": {
    "collapsed": true
   },
   "outputs": [],
   "source": [
    "df = df.dropna(subset=['ExtractedBodyText'], how='any')"
   ]
  },
  {
   "cell_type": "code",
   "execution_count": 5,
   "metadata": {},
   "outputs": [
    {
     "data": {
      "text/plain": [
       "0"
      ]
     },
     "execution_count": 5,
     "metadata": {},
     "output_type": "execute_result"
    }
   ],
   "source": [
    "df['ExtractedBodyText'].isnull().sum()"
   ]
  },
  {
   "cell_type": "code",
   "execution_count": 6,
   "metadata": {
    "collapsed": true
   },
   "outputs": [],
   "source": [
    "df['From_Hilary'] = np.where(df['MetadataFrom'] == 'H', 1, 0)"
   ]
  },
  {
   "cell_type": "code",
   "execution_count": 7,
   "metadata": {
    "collapsed": true
   },
   "outputs": [],
   "source": [
    "columns = ['ExtractedBodyText', 'From_Hilary']"
   ]
  },
  {
   "cell_type": "code",
   "execution_count": 8,
   "metadata": {},
   "outputs": [
    {
     "data": {
      "text/plain": [
       "(6742, 2)"
      ]
     },
     "execution_count": 8,
     "metadata": {},
     "output_type": "execute_result"
    }
   ],
   "source": [
    "ebt = df[columns]\n",
    "ebt.shape"
   ]
  },
  {
   "cell_type": "code",
   "execution_count": 9,
   "metadata": {},
   "outputs": [
    {
     "data": {
      "text/plain": [
       "ExtractedBodyText    0\n",
       "From_Hilary          0\n",
       "dtype: int64"
      ]
     },
     "execution_count": 9,
     "metadata": {},
     "output_type": "execute_result"
    }
   ],
   "source": [
    "ebt.isnull().sum()"
   ]
  },
  {
   "cell_type": "code",
   "execution_count": 10,
   "metadata": {},
   "outputs": [
    {
     "name": "stdout",
     "output_type": "stream",
     "text": [
      "0    4931\n",
      "1    1811\n",
      "Name: From_Hilary, dtype: int64\n"
     ]
    }
   ],
   "source": [
    "# define X and y\n",
    "X = ebt.ExtractedBodyText\n",
    "y = ebt.From_Hilary\n",
    "print(y.value_counts())\n",
    "\n",
    "# split the new DataFrame into training and testing sets\n",
    "X_train, X_test, y_train, y_test = train_test_split(X, y, test_size=0.25, random_state=1)"
   ]
  },
  {
   "cell_type": "code",
   "execution_count": 11,
   "metadata": {},
   "outputs": [],
   "source": [
    "# use CountVectorizer to create document-term matrices from X_train and X_test\n",
    "vect = CountVectorizer(stop_words='english', ngram_range=(1, 2))\n",
    "X_train_dtm = vect.fit_transform(X_train)\n",
    "X_test_dtm = vect.transform(X_test)"
   ]
  },
  {
   "cell_type": "code",
   "execution_count": 12,
   "metadata": {},
   "outputs": [
    {
     "data": {
      "text/plain": [
       "360              Can I fit in a visit at the State Dept??\n",
       "366                                            Pls print.\n",
       "3905    Folks,\\nI've attached the latest draft of the ...\n",
       "4197    Sullivan, Jacob i <Sullivanil@state.gov>\\nThur...\n",
       "1128                                    Were these added?\n",
       "Name: ExtractedBodyText, dtype: object"
      ]
     },
     "execution_count": 12,
     "metadata": {},
     "output_type": "execute_result"
    }
   ],
   "source": [
    "X_train.head()"
   ]
  },
  {
   "cell_type": "code",
   "execution_count": 13,
   "metadata": {},
   "outputs": [
    {
     "name": "stdout",
     "output_type": "stream",
     "text": [
      "(5056, 205731)\n",
      "(1686, 205731)\n"
     ]
    }
   ],
   "source": [
    "# rows are documents, columns are terms (phrases) (aka \"tokens\" or \"features\")\n",
    "print(X_train_dtm.shape)\n",
    "print(X_test_dtm.shape)"
   ]
  },
  {
   "cell_type": "code",
   "execution_count": 14,
   "metadata": {},
   "outputs": [
    {
     "name": "stdout",
     "output_type": "stream",
     "text": [
      "['00', '00 046', '00 11', '00 13', '00 143', '00 15', '00 258', '00 30', '00 351', '00 404', '00 440', '00 48', '00 56', '00 589', '00 603', '00 7th', '00 873', '00 922', '00 964', '00 990', '00 acs', '00 affairs', '00 approximately', '00 arrive', '00 bai3acan', '00 bilat', '00 bilateral', '00 breakfast', '00 chair', '00 conference', '00 coordinator', '00 dean', '00 depart', '00 deputy', '00 dimitrios', '00 early', '00 edt', '00 eleanor', '00 en', '00 experience', '00 following', '00 food', '00 funeral', '00 haiti', '00 hamad', '00 hold', '00 hst', '00 html', '00 iv', '00 jacobson']\n"
     ]
    }
   ],
   "source": [
    "# first 50 features\n",
    "print(vect.get_feature_names()[:50])"
   ]
  },
  {
   "cell_type": "code",
   "execution_count": 15,
   "metadata": {},
   "outputs": [
    {
     "name": "stdout",
     "output_type": "stream",
     "text": [
      "['zone international', 'zone issues', 'zone leadership', 'zone likely', 'zone make', 'zone nations', 'zone negotiability', 'zone north', 'zone organization', 'zone paris', 'zone partners', 'zone periphery', 'zone proves', 'zone providing', 'zone risk', 'zone said', 'zone security', 'zone suicide', 'zone timing', 'zone treasury', 'zone weeks', 'zones', 'zones aresecurity', 'zones aware', 'zones defined', 'zones didn', 'zones far', 'zones schools', 'zones west', 'zoo', 'zoo animals', 'zsu', 'zsu 23', 'zuckerman', 'zuckerman dinner', 'zuckerman praised', 'zuckerman publisher', 'zulciernain', 'zulciernain tahir', 'zuma', 'zuma add', 'zuma jibril', 'zuma making', 'zumbi', 'zumbi dos', 'zurich', 'zurich financial', 'zurich lisle', 'zzity', 'zzity ii']\n"
     ]
    }
   ],
   "source": [
    "# last 50 features\n",
    "print(vect.get_feature_names()[-50:])"
   ]
  },
  {
   "cell_type": "code",
   "execution_count": 16,
   "metadata": {},
   "outputs": [
    {
     "name": "stdout",
     "output_type": "stream",
     "text": [
      "0.845195729537\n"
     ]
    }
   ],
   "source": [
    "# use logistic regression with document feature matrix, NOT the text column\n",
    "\n",
    "logreg = LogisticRegression()\n",
    "logreg.fit(X_train_dtm, y_train)\n",
    "y_pred_class = logreg.predict(X_test_dtm)\n",
    "\n",
    "# calculate accuracy\n",
    "print(metrics.accuracy_score(y_test, y_pred_class))"
   ]
  },
  {
   "cell_type": "code",
   "execution_count": 17,
   "metadata": {},
   "outputs": [
    {
     "name": "stdout",
     "output_type": "stream",
     "text": [
      "0.796559905101\n"
     ]
    }
   ],
   "source": [
    "from sklearn import tree\n",
    "\n",
    "model = tree.DecisionTreeClassifier(criterion='gini')\n",
    "model.fit(X_train_dtm, y_train)\n",
    "y_pred_class_tree = model.predict(X_test_dtm)\n",
    "print(metrics.accuracy_score(y_test, y_pred_class_tree))"
   ]
  },
  {
   "cell_type": "code",
   "execution_count": 18,
   "metadata": {
    "collapsed": true
   },
   "outputs": [],
   "source": [
    "# TfidfVectorizer\n",
    "tfvect = TfidfVectorizer()"
   ]
  },
  {
   "cell_type": "code",
   "execution_count": 19,
   "metadata": {},
   "outputs": [
    {
     "data": {
      "text/plain": [
       "(5056, 205731)"
      ]
     },
     "execution_count": 19,
     "metadata": {},
     "output_type": "execute_result"
    }
   ],
   "source": [
    "# create a document-term matrix using TF-IDF\n",
    "tfvect = TfidfVectorizer(stop_words='english')\n",
    "dtm = vect.fit_transform(X_train)\n",
    "features = vect.get_feature_names()\n",
    "dtm.shape"
   ]
  },
  {
   "cell_type": "code",
   "execution_count": 20,
   "metadata": {},
   "outputs": [
    {
     "name": "stdout",
     "output_type": "stream",
     "text": [
      "Features:  205731\n",
      "Accuracy:  0.831881321276\n"
     ]
    }
   ],
   "source": [
    "tfvect = TfidfVectorizer(stop_words='english')\n",
    "print('Features: ', dtm.shape[1])\n",
    "print('Accuracy: ', cross_val_score(logreg, dtm, y_train, cv=5, scoring='accuracy').mean())"
   ]
  },
  {
   "cell_type": "code",
   "execution_count": null,
   "metadata": {
    "collapsed": true
   },
   "outputs": [],
   "source": [
    "from sklearn.decomposition import TruncatedSVD"
   ]
  },
  {
   "cell_type": "code",
   "execution_count": null,
   "metadata": {},
   "outputs": [],
   "source": [
    "svd = TruncatedSVD(n_components=5000)\n",
    "svd.fit(dtm)"
   ]
  },
  {
   "cell_type": "code",
   "execution_count": null,
   "metadata": {},
   "outputs": [],
   "source": [
    "# scree plot\n",
    "\n",
    "plt.plot(np.cumsum(svd.explained_variance_ratio_))"
   ]
  },
  {
   "cell_type": "code",
   "execution_count": null,
   "metadata": {
    "collapsed": true
   },
   "outputs": [],
   "source": [
    "tfidf = TfidfVectorizer(ngram_range=(1, 2), stop_words='english')\n",
    "svd = TruncatedSVD(n_components=15)\n",
    "normalizer = Normalizer()"
   ]
  },
  {
   "cell_type": "code",
   "execution_count": null,
   "metadata": {
    "collapsed": true
   },
   "outputs": [],
   "source": [
    "# create lsa pipeline\n",
    "\n",
    "from sklearn.pipeline import Pipeline\n",
    "lsa = Pipeline(steps=[('tfidf', tfidf), ('svd', svd), ('normalizer', normalizer)])"
   ]
  },
  {
   "cell_type": "code",
   "execution_count": null,
   "metadata": {},
   "outputs": [],
   "source": [
    "lsa_X_train = lsa.fit_transform(X_train)\n",
    "lsa_X_train.shape"
   ]
  },
  {
   "cell_type": "code",
   "execution_count": null,
   "metadata": {},
   "outputs": [],
   "source": [
    "km = KMeans(n_clusters=15)\n",
    "km.fit(lsa_X_train)"
   ]
  },
  {
   "cell_type": "code",
   "execution_count": null,
   "metadata": {},
   "outputs": [],
   "source": [
    "predicted_cluster = km.predict(lsa_X_train)\n",
    "predicted_cluster"
   ]
  },
  {
   "cell_type": "code",
   "execution_count": null,
   "metadata": {},
   "outputs": [],
   "source": [
    "# distribution of topics\n",
    "\n",
    "pd.Series(predicted_cluster).value_counts(normalize=True)\n",
    "\n",
    "# create df of texts & predicted topics\n",
    "\n",
    "texts_df = pd.DataFrame({'text':X_train, 'topic':predicted_cluster})\n",
    "texts_df.head()"
   ]
  },
  {
   "cell_type": "code",
   "execution_count": null,
   "metadata": {},
   "outputs": [],
   "source": [
    "print('Top terms per cluster:')\n",
    "original_space_centroids = svd.inverse_transform(km.cluster_centers_)\n",
    "order_centroids = original_space_centroids.argsort()[ : , ::-1]\n",
    "terms = lsa.steps[0][1].get_feature_names()\n",
    "\n",
    "for i in range(15):\n",
    "    print('Cluster %d:' %i)\n",
    "    print(', '.join([terms[ind] for ind in order_centroids[i, :5]]))\n",
    "lsa.steps[0][1]"
   ]
  }
 ],
 "metadata": {
  "kernelspec": {
   "display_name": "Python 3",
   "language": "python",
   "name": "python3"
  },
  "language_info": {
   "codemirror_mode": {
    "name": "ipython",
    "version": 3
   },
   "file_extension": ".py",
   "mimetype": "text/x-python",
   "name": "python",
   "nbconvert_exporter": "python",
   "pygments_lexer": "ipython3",
   "version": "3.6.3"
  }
 },
 "nbformat": 4,
 "nbformat_minor": 2
}
