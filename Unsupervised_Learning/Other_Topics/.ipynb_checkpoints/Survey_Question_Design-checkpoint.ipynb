{
 "cells": [
  {
   "cell_type": "markdown",
   "metadata": {},
   "source": [
    "# State whether a survey would be the best option for answering each of the following questions.   \n",
    "\n",
    "\n",
    "### Popularity of various Uber drivers.  \n",
    "\n",
    "#### No, the survey would be biased toward riders who have ridden with specific drivers.  \n",
    "\n",
    "### A grocery store wants to know how much people like strawberry, chocolate, and vanilla ice cream.   \n",
    "\n",
    "#### No, if conducted in a frozen foods section, it would be biased towards customers who were already shopping in that department.  \n",
    "\n",
    "### Trojan wants to know whether their condoms are more popular among straight people or gay people.   \n",
    "\n",
    "#### No, the question presupposes condom use, and sexual orientation questions may not be answered honestly.  \n",
    "\n",
    "### Recently, rental rates for HappyCars have increased by 30%, which is quite unusual.  You want to find out why this is happening and how to keep the increase going.    \n",
    "\n",
    "#### Yes, surveying existing customer base could help identify trends in customer car rentals.   \n",
    "\n",
    "### Assessing the success rate of a new advertising campaign.     \n",
    "\n",
    "#### Yes.\n",
    "\n",
    "### Measuring the effect of nurse/patient ratio on patient recovery rates in hospital wards.  \n",
    "\n",
    "#### No, recovery rates are affected by more than nurse/patient interaction.  Recovery rates vary based on a multitude of factors including patient age, general well being, severity of illness/procedure.\n",
    "\n"
   ]
  },
  {
   "cell_type": "markdown",
   "metadata": {},
   "source": [
    "# DRILL: Fix the flaw   \n",
    "\n",
    "\n",
    "## Here is a link to a Mainstream Media Accountability Survey sent to the public by the Trump Administration in February 2017. Read over the survey and select five questions you believe can be improved. Describe the flaw you see and write an improved version of the question.\n",
    "\n",
    "### On which issues does the mainstream media do the worst job of representing President Trump? (Select as many that apply.)  \n",
    "\n",
    " Immigration  \n",
    " Economics  \n",
    " Radical Islamic Terrorism  \n",
    " Pro-life values/social issues  \n",
    " Religion  \n",
    " Health care  \n",
    " Second Amendment rights  \n",
    " \n",
    " ### REPHRASED:  \n",
    " \n",
    " #### Do you feel mainstream media poorly represents donald trump? yes/no. \n",
    " \n",
    " #### If yes, on which issues? (Select all that apply)   \n",
    " \n",
    "### Do you believe that the media sensationalizes and exaggerates stories in order to paint President Trump and conservatives in a bad light?\n",
    " Yes  \n",
    " No  \n",
    " No opinion  \n",
    " Other, please specify:  \n",
    "\n",
    "### REPHRASED:  \n",
    "\n",
    "#### Do you believe the media sensationalizes and exaggerates stories?  yes/no   \n",
    "\n",
    "#### Do you believe the media sensationalizes and exaggerates stories about donald trump to portray him negatively?  yes/no  \n",
    "\n",
    "#### Do you believe the media sensationalizes and exaggerates stories about conservatives to portray them negatively?  yes/no\n",
    "\n"
   ]
  },
  {
   "cell_type": "code",
   "execution_count": null,
   "metadata": {
    "collapsed": true
   },
   "outputs": [],
   "source": []
  }
 ],
 "metadata": {
  "kernelspec": {
   "display_name": "Python 3",
   "language": "python",
   "name": "python3"
  },
  "language_info": {
   "codemirror_mode": {
    "name": "ipython",
    "version": 3
   },
   "file_extension": ".py",
   "mimetype": "text/x-python",
   "name": "python",
   "nbconvert_exporter": "python",
   "pygments_lexer": "ipython3",
   "version": "3.6.3"
  }
 },
 "nbformat": 4,
 "nbformat_minor": 2
}
