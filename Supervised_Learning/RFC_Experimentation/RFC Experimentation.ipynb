{
 "cells": [
  {
   "cell_type": "markdown",
   "metadata": {},
   "source": [
    "# RFC Experimentation\n",
    "\n",
    "### Look back to the potential experiments in the previous assignment. For one of those experiments, write up the essential points of an RFC for an improved version of that experiment.\n",
    "\n",
    "\n",
    "***When people install the Happy Days Fitness Tracker app, they are asked to \"opt in\" to a data collection scheme where their level of physical activity data is automatically sent to the company for product research purposes. During your interview with the company, they tell you that the app is very effective because after installing the app, the data show that people's activity levels rise steadily.***\n"
   ]
  },
  {
   "cell_type": "markdown",
   "metadata": {},
   "source": [
    "## Define the question/problem\n",
    "\n",
    "**Justify why the problem should be studied, and review what we already know about the problem.**\n",
    "\n",
    "The app data is misleading in its current form of analysis because upon initial installation individual users have no baseline for comparison.  Any activity recorded is an increase as they are starting from zero.  Additionally, user fitness data will not increase indefinitely.  At some point user activity plateaus and it will appear individuals are not progressing in their fitness goals, which could cause a decline in motivation and app usage. "
   ]
  },
  {
   "cell_type": "markdown",
   "metadata": {},
   "source": [
    "## Potential solution\n",
    "\n",
    "**Propose a hypothesis (potential explanation) to be tested.** \n",
    "\n",
    "Establish a baseline for all users. Aggregate all user data after 45 days to form benchmark standard by which all new users will be compared.  After an individuals 45 days use their own data as the benchmark.  An accurate and consistent measurement of user activity will keep users motivated to pursue and maintain their fitness goals."
   ]
  },
  {
   "cell_type": "markdown",
   "metadata": {},
   "source": [
    "## Test the solution\n",
    "\n",
    "**Describe the design of the experiment, the analysis plan, and set benchmarks.**\n"
   ]
  },
  {
   "cell_type": "markdown",
   "metadata": {},
   "source": [
    "Aggregate data based on length of workout, intensity, and frequency per week.  Use this data to encourage activity for new users.  After 45 days aggregate individual data for comparison to data for all users.  Set benchmark achievements for users after 30 days, 45 days, 60 days, 90 days and 6 months.  Updates every 3 months after the first 6 months."
   ]
  },
  {
   "cell_type": "markdown",
   "metadata": {},
   "source": []
  }
 ],
 "metadata": {
  "kernelspec": {
   "display_name": "Python 3",
   "language": "python",
   "name": "python3"
  },
  "language_info": {
   "codemirror_mode": {
    "name": "ipython",
    "version": 3
   },
   "file_extension": ".py",
   "mimetype": "text/x-python",
   "name": "python",
   "nbconvert_exporter": "python",
   "pygments_lexer": "ipython3",
   "version": "3.6.3"
  }
 },
 "nbformat": 4,
 "nbformat_minor": 2
}
