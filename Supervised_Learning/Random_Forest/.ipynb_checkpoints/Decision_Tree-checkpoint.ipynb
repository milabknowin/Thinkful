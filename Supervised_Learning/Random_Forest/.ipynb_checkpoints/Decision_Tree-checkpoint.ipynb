{
 "cells": [
  {
   "cell_type": "code",
   "execution_count": 1,
   "metadata": {
    "collapsed": true
   },
   "outputs": [],
   "source": [
    "import pandas as pd\n",
    "import numpy as np\n",
    "import scipy\n",
    "import matplotlib.pyplot as plt\n",
    "%matplotlib inline"
   ]
  },
  {
   "cell_type": "code",
   "execution_count": 2,
   "metadata": {
    "collapsed": true
   },
   "outputs": [],
   "source": [
    "# Set up all our data in a couple of data frames.\n",
    "customers = pd.DataFrame()\n",
    "customers['purchases_amount'] = [105, 65, 89, 99, 149, 102, 34, 120, 129, 39,\n",
    "                                 20, 30, 109, 40, 55, 100, 23, 20, 70, 10]\n",
    "customers['purchases_items'] = [1, 4, 5, 4, 7, 1, 2, 10, 6, 5,\n",
    "                                1, 3, 2, 1, 5, 10, 3, 3, 1, 1]\n",
    "customers['promo'] = [1, 1, 0, 1, 0, 0, 0, 0, 0, 1,\n",
    "                      1, 1, 1, 0, 1, 1, 1, 0, 1, 1]\n",
    "customers['email_list'] = [1, 0, 1, 1, 1, 0, 1, 1, 1, 1,\n",
    "                           0, 1, 1, 0, 1, 0, 1, 1, 0, 0]\n",
    "customers['checkouts'] = [1, 5, 3, 3, 1, 2, 4, 4, 1, 1,\n",
    "                          1, 1, 2, 4, 1, 1, 2, 1, 1, 1]\n",
    "\n",
    "repeat_customer = pd.DataFrame()\n",
    "repeat_customer['repeat'] = [1, 1, 1, 1, 1, 1, 1, 1, 1, 1,\n",
    "                             0, 0, 0, 0, 0, 0, 0, 0, 0, 0]"
   ]
  },
  {
   "cell_type": "code",
   "execution_count": 16,
   "metadata": {},
   "outputs": [
    {
     "ename": "AttributeError",
     "evalue": "type object 'Image' has no attribute 'open'",
     "output_type": "error",
     "traceback": [
      "\u001b[0;31m---------------------------------------------------------------------------\u001b[0m",
      "\u001b[0;31mAttributeError\u001b[0m                            Traceback (most recent call last)",
      "\u001b[0;32m<ipython-input-16-c2377c43cff3>\u001b[0m in \u001b[0;36m<module>\u001b[0;34m()\u001b[0m\n\u001b[1;32m     26\u001b[0m \u001b[0mpath\u001b[0m \u001b[0;34m=\u001b[0m \u001b[0;34m'test_tree.png'\u001b[0m\u001b[0;34m\u001b[0m\u001b[0m\n\u001b[1;32m     27\u001b[0m \u001b[0;31m#graph = pydotplus.graph_from_dot_data('myfile.dot')\u001b[0m\u001b[0;34m\u001b[0m\u001b[0;34m\u001b[0m\u001b[0m\n\u001b[0;32m---> 28\u001b[0;31m \u001b[0mdisplay\u001b[0m\u001b[0;34m(\u001b[0m\u001b[0mImage\u001b[0m\u001b[0;34m.\u001b[0m\u001b[0mopen\u001b[0m\u001b[0;34m(\u001b[0m\u001b[0mpath\u001b[0m\u001b[0;34m)\u001b[0m\u001b[0;34m)\u001b[0m\u001b[0;34m\u001b[0m\u001b[0m\n\u001b[0m",
      "\u001b[0;31mAttributeError\u001b[0m: type object 'Image' has no attribute 'open'"
     ]
    }
   ],
   "source": [
    "# This is the model we'll be using.\n",
    "from sklearn import tree\n",
    "\n",
    "# A convenience for displaying visualizations.\n",
    "from IPython.display import Image\n",
    "\n",
    "# Packages for rendering our tree.\n",
    "import pydotplus\n",
    "from sklearn.tree import export_graphviz\n",
    "\n",
    "# define X and y\n",
    "feature_customers = ['purchases_amount','purchases_items' ,'promo', 'email_list', 'checkouts']\n",
    "X = customers[feature_customers]\n",
    "y = repeat_customer.repeat\n",
    "\n",
    "# Initialize and train our tree.\n",
    "decision_tree = tree.DecisionTreeClassifier(\n",
    "    criterion='entropy',\n",
    "    max_features=1,\n",
    "    max_depth=4,\n",
    ")\n",
    "decision_tree.fit(X, y)\n",
    "export_graphviz(decision_tree, out_file='myfile.dot', feature_names=feature_customers)\n",
    "\n",
    "from IPython.display import Image\n",
    "path = 'test_tree.png'\n",
    "#graph = pydotplus.graph_from_dot_data('myfile.dot')\n",
    "display(Image.open(path))"
   ]
  },
  {
   "cell_type": "code",
   "execution_count": null,
   "metadata": {
    "collapsed": true
   },
   "outputs": [],
   "source": []
  }
 ],
 "metadata": {
  "kernelspec": {
   "display_name": "Python 3",
   "language": "python",
   "name": "python3"
  },
  "language_info": {
   "codemirror_mode": {
    "name": "ipython",
    "version": 3
   },
   "file_extension": ".py",
   "mimetype": "text/x-python",
   "name": "python",
   "nbconvert_exporter": "python",
   "pygments_lexer": "ipython3",
   "version": "3.6.3"
  }
 },
 "nbformat": 4,
 "nbformat_minor": 2
}
