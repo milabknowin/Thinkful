{
 "cells": [
  {
   "cell_type": "code",
   "execution_count": 1,
   "metadata": {
    "collapsed": true
   },
   "outputs": [],
   "source": [
    "import the_beginning\n",
    "from initial_cleaning import initial_cleaning\n",
    "\n",
    "import pandas as pd\n",
    "from matplotlib import pyplot as plt\n",
    "import numpy as np\n",
    "import math\n",
    "import seaborn as sns\n",
    "import sklearn\n",
    "from sklearn import linear_model\n",
    "from sklearn import preprocessing\n",
    "\n",
    "%matplotlib inline\n",
    "sns.set_style('white')\n",
    "pd.options.display.float_format = '{:.3f}'.format\n",
    "plt.rcParams['figure.figsize'] = (20.0, 10.0)"
   ]
  },
  {
   "cell_type": "code",
   "execution_count": 2,
   "metadata": {},
   "outputs": [
    {
     "name": "stdout",
     "output_type": "stream",
     "text": [
      "   Year  Month  DayofMonth  DayOfWeek  DepTime  CRSDepTime  ArrTime  \\\n",
      "0  2007      1           1          1 1232.000        1225 1341.000   \n",
      "1  2007      1           1          1 1918.000        1905 2043.000   \n",
      "2  2007      1           1          1 2206.000        2130 2334.000   \n",
      "3  2007      1           1          1 1230.000        1200 1356.000   \n",
      "4  2007      1           1          1  831.000         830  957.000   \n",
      "\n",
      "   CRSArrTime UniqueCarrier  FlightNum        ...         TaxiIn  TaxiOut  \\\n",
      "0        1340            WN       2891        ...              4       11   \n",
      "1        2035            WN        462        ...              5        6   \n",
      "2        2300            WN       1229        ...              6        9   \n",
      "3        1330            WN       1355        ...              3        8   \n",
      "4        1000            WN       2278        ...              3        9   \n",
      "\n",
      "   Cancelled  CancellationCode  Diverted  CarrierDelay WeatherDelay NASDelay  \\\n",
      "0          0               NaN         0             0            0        0   \n",
      "1          0               NaN         0             0            0        0   \n",
      "2          0               NaN         0             3            0        0   \n",
      "3          0               NaN         0            23            0        0   \n",
      "4          0               NaN         0             0            0        0   \n",
      "\n",
      "   SecurityDelay  LateAircraftDelay  \n",
      "0              0                  0  \n",
      "1              0                  0  \n",
      "2              0                 31  \n",
      "3              0                  3  \n",
      "4              0                  0  \n",
      "\n",
      "[5 rows x 29 columns]\n",
      "Year                       0\n",
      "Month                      0\n",
      "DayofMonth                 0\n",
      "DayOfWeek                  0\n",
      "DepTime               160748\n",
      "CRSDepTime                 0\n",
      "ArrTime               177927\n",
      "CRSArrTime                 0\n",
      "UniqueCarrier              0\n",
      "FlightNum                  0\n",
      "TailNum                   22\n",
      "ActualElapsedTime     177927\n",
      "CRSElapsedTime           994\n",
      "AirTime               177927\n",
      "ArrDelay              177927\n",
      "DepDelay              160748\n",
      "Origin                     0\n",
      "Dest                       0\n",
      "Distance                   0\n",
      "TaxiIn                     0\n",
      "TaxiOut                    0\n",
      "Cancelled                  0\n",
      "CancellationCode     7292439\n",
      "Diverted                   0\n",
      "CarrierDelay               0\n",
      "WeatherDelay               0\n",
      "NASDelay                   0\n",
      "SecurityDelay              0\n",
      "LateAircraftDelay          0\n",
      "dtype: int64\n"
     ]
    }
   ],
   "source": [
    "y2007 = pd.DataFrame(initial_cleaning('2007.csv.bz2'))"
   ]
  },
  {
   "cell_type": "code",
   "execution_count": 3,
   "metadata": {},
   "outputs": [
    {
     "data": {
      "text/plain": [
       "(7453188, 29)"
      ]
     },
     "execution_count": 3,
     "metadata": {},
     "output_type": "execute_result"
    }
   ],
   "source": [
    "y2007.shape"
   ]
  },
  {
   "cell_type": "code",
   "execution_count": 4,
   "metadata": {
    "collapsed": true
   },
   "outputs": [],
   "source": [
    "y2007 = y2007.drop(['CancellationCode'], 1)"
   ]
  },
  {
   "cell_type": "code",
   "execution_count": 5,
   "metadata": {
    "collapsed": true
   },
   "outputs": [],
   "source": [
    "y2007 = y2007.dropna()"
   ]
  },
  {
   "cell_type": "code",
   "execution_count": 6,
   "metadata": {},
   "outputs": [
    {
     "data": {
      "text/plain": [
       "(7275261, 28)"
      ]
     },
     "execution_count": 6,
     "metadata": {},
     "output_type": "execute_result"
    }
   ],
   "source": [
    "y2007.shape"
   ]
  },
  {
   "cell_type": "code",
   "execution_count": 7,
   "metadata": {},
   "outputs": [
    {
     "data": {
      "text/plain": [
       "count   7275261.000\n",
       "mean       1339.201\n",
       "std         479.883\n",
       "min           1.000\n",
       "25%         930.000\n",
       "50%        1329.000\n",
       "75%        1733.000\n",
       "max        2400.000\n",
       "Name: DepTime, dtype: float64"
      ]
     },
     "execution_count": 7,
     "metadata": {},
     "output_type": "execute_result"
    }
   ],
   "source": [
    "y2007['DepTime'].describe()"
   ]
  },
  {
   "cell_type": "code",
   "execution_count": 8,
   "metadata": {},
   "outputs": [
    {
     "data": {
      "text/plain": [
       "count   7275261.000\n",
       "mean       1329.359\n",
       "std         464.793\n",
       "min           1.000\n",
       "25%         926.000\n",
       "50%        1320.000\n",
       "75%        1720.000\n",
       "max        2359.000\n",
       "Name: CRSDepTime, dtype: float64"
      ]
     },
     "execution_count": 8,
     "metadata": {},
     "output_type": "execute_result"
    }
   ],
   "source": [
    "y2007['CRSDepTime'].describe()"
   ]
  },
  {
   "cell_type": "code",
   "execution_count": 9,
   "metadata": {
    "collapsed": true
   },
   "outputs": [],
   "source": [
    "# determine if the flight arrived late\n",
    "\n",
    "y2007['late'] = np.where(y2007['ArrTime'] - y2007['CRSArrTime'] >30, 1, 0)"
   ]
  },
  {
   "cell_type": "code",
   "execution_count": 10,
   "metadata": {
    "collapsed": true
   },
   "outputs": [],
   "source": [
    "y2007 = y2007.drop(['Origin', 'Dest', 'TailNum', 'UniqueCarrier'], 1)"
   ]
  },
  {
   "cell_type": "code",
   "execution_count": null,
   "metadata": {
    "collapsed": true
   },
   "outputs": [],
   "source": []
  },
  {
   "cell_type": "code",
   "execution_count": 11,
   "metadata": {},
   "outputs": [
    {
     "name": "stdout",
     "output_type": "stream",
     "text": [
      "\n",
      "R-squared simple model:\n",
      "1.0\n"
     ]
    }
   ],
   "source": [
    "# Define the training and test sizes\n",
    "\n",
    "trainsize = int(y2007.shape[0] / 2)\n",
    "y2007_test = y2007.iloc[trainsize:, :].copy()\n",
    "y2007_train = y2007.iloc[:trainsize, :].copy()\n",
    "\n",
    "# Set up the regression model to predict defaults using all other variables as features.\n",
    "\n",
    "regr1 = linear_model.LinearRegression()\n",
    "Y_train = y2007_train['late'].values.reshape(-1, 1)\n",
    "X_train = y2007_train\n",
    "\n",
    "Y_test = y2007_test['late'].values.reshape(-1, 1)\n",
    "X_test = y2007_test\n",
    "\n",
    "regr1.fit(X_train, Y_train)\n",
    "print('\\nR-squared simple model:')\n",
    "print(regr1.score(X_train, Y_train))\n",
    "\n",
    "# Store parameter estimates\n",
    "\n",
    "origparams = np.append(regr1.coef_, regr1.intercept_)"
   ]
  },
  {
   "cell_type": "code",
   "execution_count": 12,
   "metadata": {},
   "outputs": [
    {
     "data": {
      "text/plain": [
       "(3637631, 1)"
      ]
     },
     "execution_count": 12,
     "metadata": {},
     "output_type": "execute_result"
    }
   ],
   "source": [
    "Y_test.shape"
   ]
  },
  {
   "cell_type": "code",
   "execution_count": 13,
   "metadata": {},
   "outputs": [
    {
     "data": {
      "text/plain": [
       "(3637631, 25)"
      ]
     },
     "execution_count": 13,
     "metadata": {},
     "output_type": "execute_result"
    }
   ],
   "source": [
    "X_test.shape"
   ]
  },
  {
   "cell_type": "code",
   "execution_count": null,
   "metadata": {
    "collapsed": true
   },
   "outputs": [],
   "source": []
  },
  {
   "cell_type": "code",
   "execution_count": 14,
   "metadata": {},
   "outputs": [
    {
     "name": "stdout",
     "output_type": "stream",
     "text": [
      "1.0\n",
      "1.0\n"
     ]
    }
   ],
   "source": [
    "print(regr1.score(X_test, Y_test))\n",
    "\n",
    "print(regr1.score(X_train, Y_train))"
   ]
  },
  {
   "cell_type": "code",
   "execution_count": 15,
   "metadata": {},
   "outputs": [
    {
     "name": "stdout",
     "output_type": "stream",
     "text": [
      "R² for the model with few features:\n",
      "0.541438213137\n",
      "\n",
      "Parameter estimates for the model with few features:\n",
      "[  0.00000000e+00  -0.00000000e+00  -0.00000000e+00   0.00000000e+00\n",
      "   1.38412690e-04  -8.94075999e-05   3.93619745e-04  -3.88376501e-04\n",
      "   3.32571298e-06   8.30570872e-04  -3.03629352e-04  -0.00000000e+00\n",
      "   4.87670850e-03  -2.68760918e-04  -4.38487849e-05   0.00000000e+00\n",
      "   1.06726353e-03   0.00000000e+00   0.00000000e+00  -0.00000000e+00\n",
      "  -2.23449513e-04   7.99717371e-04   0.00000000e+00   9.98089199e-04\n",
      "   8.70504373e-02  -7.67471699e-03]\n"
     ]
    }
   ],
   "source": [
    "lass = linear_model.Lasso(alpha=.08)\n",
    "lassfit = lass.fit(X_train, Y_train)\n",
    "print('R² for the model with few features:')\n",
    "print(lass.score(X_train, Y_train))\n",
    "lassparams = np.append(lassfit.coef_, lassfit.intercept_)\n",
    "print('\\nParameter estimates for the model with few features:')\n",
    "print(lassparams)"
   ]
  },
  {
   "cell_type": "code",
   "execution_count": 16,
   "metadata": {},
   "outputs": [
    {
     "name": "stdout",
     "output_type": "stream",
     "text": [
      "0.545525787573\n",
      "0.541438213137\n"
     ]
    }
   ],
   "source": [
    "print(lass.score(X_test, Y_test))\n",
    "\n",
    "print(lass.score(X_train, Y_train))"
   ]
  },
  {
   "cell_type": "code",
   "execution_count": 17,
   "metadata": {},
   "outputs": [
    {
     "name": "stdout",
     "output_type": "stream",
     "text": [
      "0.999999999998\n",
      "[  6.60616217e-12  -3.49712065e-09  -5.98286883e-10   2.56766683e-09\n",
      "   3.01532241e-10  -2.03071142e-10   7.83389155e-10  -7.75806100e-10\n",
      "   7.21953132e-12  -8.40299712e-09   1.66242477e-08  -7.60698492e-09\n",
      "   2.91327655e-08  -1.96931652e-08  -3.22661173e-11  -7.56322092e-09\n",
      "  -5.21780745e-09   0.00000000e+00   0.00000000e+00  -6.61360968e-10\n",
      "  -2.47622955e-09   1.12287743e-09   8.61798000e-09   2.00963613e-09\n",
      "   9.99998184e-01]\n",
      "\n",
      "Parameter Estimates for the same predictors for the small model:\n"
     ]
    },
    {
     "ename": "ValueError",
     "evalue": "all the input array dimensions except for the concatenation axis must match exactly",
     "output_type": "error",
     "traceback": [
      "\u001b[0;31m---------------------------------------------------------------------------\u001b[0m",
      "\u001b[0;31mValueError\u001b[0m                                Traceback (most recent call last)",
      "\u001b[0;32m<ipython-input-17-c9b31c190fb9>\u001b[0m in \u001b[0;36m<module>\u001b[0;34m()\u001b[0m\n\u001b[1;32m      7\u001b[0m \u001b[0;34m\u001b[0m\u001b[0m\n\u001b[1;32m      8\u001b[0m \u001b[0mprint\u001b[0m\u001b[0;34m(\u001b[0m\u001b[0;34m'\\nParameter Estimates for the same predictors for the small model:'\u001b[0m\u001b[0;34m)\u001b[0m\u001b[0;34m\u001b[0m\u001b[0m\n\u001b[0;32m----> 9\u001b[0;31m \u001b[0mcompare\u001b[0m \u001b[0;34m=\u001b[0m \u001b[0mnp\u001b[0m\u001b[0;34m.\u001b[0m\u001b[0mcolumn_stack\u001b[0m\u001b[0;34m(\u001b[0m\u001b[0;34m(\u001b[0m\u001b[0mlassparams\u001b[0m\u001b[0;34m,\u001b[0m \u001b[0mridgeparams\u001b[0m\u001b[0;34m)\u001b[0m\u001b[0;34m)\u001b[0m\u001b[0;34m\u001b[0m\u001b[0m\n\u001b[0m\u001b[1;32m     10\u001b[0m prettycompare = np.array2string(\n\u001b[1;32m     11\u001b[0m     \u001b[0mcompare\u001b[0m\u001b[0;34m,\u001b[0m\u001b[0;34m\u001b[0m\u001b[0m\n",
      "\u001b[0;32m~/anaconda3/lib/python3.6/site-packages/numpy/lib/shape_base.py\u001b[0m in \u001b[0;36mcolumn_stack\u001b[0;34m(tup)\u001b[0m\n\u001b[1;32m    351\u001b[0m             \u001b[0marr\u001b[0m \u001b[0;34m=\u001b[0m \u001b[0marray\u001b[0m\u001b[0;34m(\u001b[0m\u001b[0marr\u001b[0m\u001b[0;34m,\u001b[0m \u001b[0mcopy\u001b[0m\u001b[0;34m=\u001b[0m\u001b[0;32mFalse\u001b[0m\u001b[0;34m,\u001b[0m \u001b[0msubok\u001b[0m\u001b[0;34m=\u001b[0m\u001b[0;32mTrue\u001b[0m\u001b[0;34m,\u001b[0m \u001b[0mndmin\u001b[0m\u001b[0;34m=\u001b[0m\u001b[0;36m2\u001b[0m\u001b[0;34m)\u001b[0m\u001b[0;34m.\u001b[0m\u001b[0mT\u001b[0m\u001b[0;34m\u001b[0m\u001b[0m\n\u001b[1;32m    352\u001b[0m         \u001b[0marrays\u001b[0m\u001b[0;34m.\u001b[0m\u001b[0mappend\u001b[0m\u001b[0;34m(\u001b[0m\u001b[0marr\u001b[0m\u001b[0;34m)\u001b[0m\u001b[0;34m\u001b[0m\u001b[0m\n\u001b[0;32m--> 353\u001b[0;31m     \u001b[0;32mreturn\u001b[0m \u001b[0m_nx\u001b[0m\u001b[0;34m.\u001b[0m\u001b[0mconcatenate\u001b[0m\u001b[0;34m(\u001b[0m\u001b[0marrays\u001b[0m\u001b[0;34m,\u001b[0m \u001b[0;36m1\u001b[0m\u001b[0;34m)\u001b[0m\u001b[0;34m\u001b[0m\u001b[0m\n\u001b[0m\u001b[1;32m    354\u001b[0m \u001b[0;34m\u001b[0m\u001b[0m\n\u001b[1;32m    355\u001b[0m \u001b[0;32mdef\u001b[0m \u001b[0mdstack\u001b[0m\u001b[0;34m(\u001b[0m\u001b[0mtup\u001b[0m\u001b[0;34m)\u001b[0m\u001b[0;34m:\u001b[0m\u001b[0;34m\u001b[0m\u001b[0m\n",
      "\u001b[0;31mValueError\u001b[0m: all the input array dimensions except for the concatenation axis must match exactly"
     ]
    }
   ],
   "source": [
    "ridgeregr = linear_model.Ridge(alpha=.57, fit_intercept=False) \n",
    "ridgeregr.fit(X_train, Y_train)\n",
    "print(ridgeregr.score(X_train, Y_train))\n",
    "ridgeparams = ridgeregr.coef_[0]\n",
    "print(ridgeparams)\n",
    "\n",
    "\n",
    "print('\\nParameter Estimates for the same predictors for the small model:')\n",
    "compare = np.column_stack((lassparams, ridgeparams))\n",
    "prettycompare = np.array2string(\n",
    "    compare,\n",
    "    formatter={'float_kind':'{0:.3f}'.format})\n",
    "print(prettycompare)"
   ]
  },
  {
   "cell_type": "code",
   "execution_count": 18,
   "metadata": {},
   "outputs": [
    {
     "data": {
      "text/plain": [
       "(26,)"
      ]
     },
     "execution_count": 18,
     "metadata": {},
     "output_type": "execute_result"
    }
   ],
   "source": [
    "lassparams.shape"
   ]
  },
  {
   "cell_type": "code",
   "execution_count": 19,
   "metadata": {},
   "outputs": [
    {
     "data": {
      "text/plain": [
       "(25,)"
      ]
     },
     "execution_count": 19,
     "metadata": {},
     "output_type": "execute_result"
    }
   ],
   "source": [
    "ridgeparams.shape"
   ]
  },
  {
   "cell_type": "code",
   "execution_count": 20,
   "metadata": {},
   "outputs": [
    {
     "name": "stdout",
     "output_type": "stream",
     "text": [
      "0.999999999998\n",
      "0.999999999998\n"
     ]
    }
   ],
   "source": [
    "print(ridgeregr.score(X_test, Y_test))\n",
    "\n",
    "print(ridgeregr.score(X_train, Y_train))"
   ]
  },
  {
   "cell_type": "code",
   "execution_count": 21,
   "metadata": {},
   "outputs": [
    {
     "data": {
      "text/plain": [
       "array([ 1.,  1.,  1.,  1.,  1.,  1.,  1.,  1.,  1.,  1.])"
      ]
     },
     "execution_count": 21,
     "metadata": {},
     "output_type": "execute_result"
    }
   ],
   "source": [
    "# cross validation scores for 2007 data\n",
    "\n",
    "from sklearn.model_selection import cross_val_score\n",
    "cross_val_score(ridgeregr, X_test, Y_test, cv=10)"
   ]
  },
  {
   "cell_type": "markdown",
   "metadata": {},
   "source": [
    "**The linear and ridge regression models were both able to account for more than 99% of the variance in the dataset, while the lasso regression model was only able to account for 54%.  The ridge regression model would appear to be the best performer of the 3.  It also appears the ridge and linear regression models are predicting at greater than 99% accuracy.**"
   ]
  },
  {
   "cell_type": "code",
   "execution_count": 22,
   "metadata": {},
   "outputs": [
    {
     "name": "stdout",
     "output_type": "stream",
     "text": [
      "   Year  Month  DayofMonth  DayOfWeek  DepTime  CRSDepTime  ArrTime  \\\n",
      "0  2008      1           3          4 2003.000        1955 2211.000   \n",
      "1  2008      1           3          4  754.000         735 1002.000   \n",
      "2  2008      1           3          4  628.000         620  804.000   \n",
      "3  2008      1           3          4  926.000         930 1054.000   \n",
      "4  2008      1           3          4 1829.000        1755 1959.000   \n",
      "\n",
      "   CRSArrTime UniqueCarrier  FlightNum        ...         TaxiIn  TaxiOut  \\\n",
      "0        2225            WN        335        ...          4.000    8.000   \n",
      "1        1000            WN       3231        ...          5.000   10.000   \n",
      "2         750            WN        448        ...          3.000   17.000   \n",
      "3        1100            WN       1746        ...          3.000    7.000   \n",
      "4        1925            WN       3920        ...          3.000   10.000   \n",
      "\n",
      "   Cancelled  CancellationCode  Diverted  CarrierDelay WeatherDelay NASDelay  \\\n",
      "0          0               NaN         0           nan          nan      nan   \n",
      "1          0               NaN         0           nan          nan      nan   \n",
      "2          0               NaN         0           nan          nan      nan   \n",
      "3          0               NaN         0           nan          nan      nan   \n",
      "4          0               NaN         0         2.000        0.000    0.000   \n",
      "\n",
      "   SecurityDelay  LateAircraftDelay  \n",
      "0            nan                nan  \n",
      "1            nan                nan  \n",
      "2            nan                nan  \n",
      "3            nan                nan  \n",
      "4          0.000             32.000  \n",
      "\n",
      "[5 rows x 29 columns]\n",
      "Year                       0\n",
      "Month                      0\n",
      "DayofMonth                 0\n",
      "DayOfWeek                  0\n",
      "DepTime               136246\n",
      "CRSDepTime                 0\n",
      "ArrTime               151649\n",
      "CRSArrTime                 0\n",
      "UniqueCarrier              0\n",
      "FlightNum                  0\n",
      "TailNum                83365\n",
      "ActualElapsedTime     154699\n",
      "CRSElapsedTime           844\n",
      "AirTime               154699\n",
      "ArrDelay              154699\n",
      "DepDelay              136246\n",
      "Origin                     0\n",
      "Dest                       0\n",
      "Distance                   0\n",
      "TaxiIn                151649\n",
      "TaxiOut               137058\n",
      "Cancelled                  0\n",
      "CancellationCode     6872290\n",
      "Diverted                   0\n",
      "CarrierDelay         5484991\n",
      "WeatherDelay         5484991\n",
      "NASDelay             5484991\n",
      "SecurityDelay        5484991\n",
      "LateAircraftDelay    5484991\n",
      "dtype: int64\n"
     ]
    }
   ],
   "source": [
    "y2008 = pd.DataFrame(initial_cleaning('2008.csv.bz2'))"
   ]
  },
  {
   "cell_type": "code",
   "execution_count": 23,
   "metadata": {
    "collapsed": true
   },
   "outputs": [],
   "source": [
    "y2008 = y2008.drop(['CancellationCode', 'CarrierDelay', 'WeatherDelay', 'NASDelay', 'SecurityDelay', 'LateAircraftDelay'], 1)"
   ]
  },
  {
   "cell_type": "code",
   "execution_count": 24,
   "metadata": {
    "collapsed": true
   },
   "outputs": [],
   "source": [
    "y2008 = y2008.drop(['Origin', 'Dest', 'TailNum', 'UniqueCarrier'], 1)"
   ]
  },
  {
   "cell_type": "code",
   "execution_count": 25,
   "metadata": {
    "collapsed": true
   },
   "outputs": [],
   "source": [
    "y2008 = y2008.dropna()"
   ]
  },
  {
   "cell_type": "code",
   "execution_count": 26,
   "metadata": {},
   "outputs": [
    {
     "data": {
      "text/plain": [
       "(6855025, 19)"
      ]
     },
     "execution_count": 26,
     "metadata": {},
     "output_type": "execute_result"
    }
   ],
   "source": [
    "y2008.shape"
   ]
  },
  {
   "cell_type": "code",
   "execution_count": 27,
   "metadata": {
    "collapsed": true
   },
   "outputs": [],
   "source": [
    "# determine if the flight arrived late\n",
    "\n",
    "y2008['late'] = np.where(y2008['ArrTime'] - y2008['CRSArrTime'] >30, 1, 0)"
   ]
  },
  {
   "cell_type": "code",
   "execution_count": 28,
   "metadata": {},
   "outputs": [
    {
     "name": "stdout",
     "output_type": "stream",
     "text": [
      "\n",
      "R-squared simple model:\n",
      "1.0\n"
     ]
    }
   ],
   "source": [
    "# Define the training and test sizes.\n",
    "\n",
    "trainsize = int(y2008.shape[0] / 2)\n",
    "y2008_test = y2008.iloc[trainsize:, :].copy()\n",
    "y2008_train = y2008.iloc[:trainsize, :].copy()\n",
    "\n",
    "# Set up the regression model to predict defaults using all other\n",
    "# variables as features.\n",
    "regr2 = linear_model.LinearRegression()\n",
    "Y_train2 = y2008_train['late'].values.reshape(-1, 1)\n",
    "X_train2 = y2008_train\n",
    "\n",
    "Y_test2 = y2008_test['late'].values.reshape(-1, 1)\n",
    "X_test2 = y2008_test\n",
    "\n",
    "regr2.fit(X_train2, Y_train2)\n",
    "print('\\nR-squared simple model:')\n",
    "print(regr2.score(X_train2, Y_train2))\n",
    "\n",
    "#Store the parameter estimates.\n",
    "newparams = np.append(regr2.coef_, regr2.intercept_)"
   ]
  },
  {
   "cell_type": "code",
   "execution_count": 29,
   "metadata": {},
   "outputs": [
    {
     "name": "stdout",
     "output_type": "stream",
     "text": [
      "R² for the model with few features:\n",
      "0.525377682815\n",
      "\n",
      "Parameter estimates for the model with few features:\n",
      "[  0.00000000e+00  -0.00000000e+00  -0.00000000e+00   0.00000000e+00\n",
      "   1.45391534e-04  -9.59083673e-05   3.83127082e-04  -3.78933082e-04\n",
      "   2.31461103e-06   1.27514651e-03  -2.62281445e-04  -0.00000000e+00\n",
      "   5.25481645e-03  -5.54225134e-05  -1.01503924e-04   0.00000000e+00\n",
      "   9.97119121e-04   0.00000000e+00   0.00000000e+00   7.09211444e-02\n",
      "  -1.93265264e-02]\n"
     ]
    }
   ],
   "source": [
    "lass2 = linear_model.Lasso(alpha=.08)\n",
    "lassfit2 = lass2.fit(X_train2, Y_train2)\n",
    "print('R² for the model with few features:')\n",
    "print(lass2.score(X_train2, Y_train2))\n",
    "lassparams2 = np.append(lassfit2.coef_, lassfit2.intercept_)\n",
    "print('\\nParameter estimates for the model with few features:')\n",
    "print(lassparams2)"
   ]
  },
  {
   "cell_type": "code",
   "execution_count": 30,
   "metadata": {},
   "outputs": [
    {
     "name": "stdout",
     "output_type": "stream",
     "text": [
      "0.528985567939\n",
      "0.525377682815\n"
     ]
    }
   ],
   "source": [
    "print(lass2.score(X_test2, Y_test2))\n",
    "\n",
    "print(lass2.score(X_train2, Y_train2))"
   ]
  },
  {
   "cell_type": "code",
   "execution_count": 31,
   "metadata": {},
   "outputs": [
    {
     "name": "stdout",
     "output_type": "stream",
     "text": [
      "0.999999999998\n",
      "[  3.60645657e-12  -4.25255044e-09  -6.58826997e-10   1.92757174e-09\n",
      "   3.41935192e-10  -2.36460025e-10   8.04514163e-10  -7.94850627e-10\n",
      "   5.54514779e-12  -1.29217674e-07   1.82333622e-07  -5.20305550e-08\n",
      "   1.96359818e-07  -1.85619304e-07  -8.56059485e-11  -5.20244410e-08\n",
      "  -4.93160615e-08   0.00000000e+00   0.00000000e+00   9.99998045e-01]\n",
      "\n",
      "Parameter Estimates for the same predictors for the small model:\n"
     ]
    },
    {
     "ename": "ValueError",
     "evalue": "all the input array dimensions except for the concatenation axis must match exactly",
     "output_type": "error",
     "traceback": [
      "\u001b[0;31m---------------------------------------------------------------------------\u001b[0m",
      "\u001b[0;31mValueError\u001b[0m                                Traceback (most recent call last)",
      "\u001b[0;32m<ipython-input-31-e0f4d8627f04>\u001b[0m in \u001b[0;36m<module>\u001b[0;34m()\u001b[0m\n\u001b[1;32m      7\u001b[0m \u001b[0;34m\u001b[0m\u001b[0m\n\u001b[1;32m      8\u001b[0m \u001b[0mprint\u001b[0m\u001b[0;34m(\u001b[0m\u001b[0;34m'\\nParameter Estimates for the same predictors for the small model:'\u001b[0m\u001b[0;34m)\u001b[0m\u001b[0;34m\u001b[0m\u001b[0m\n\u001b[0;32m----> 9\u001b[0;31m \u001b[0mcompare\u001b[0m \u001b[0;34m=\u001b[0m \u001b[0mnp\u001b[0m\u001b[0;34m.\u001b[0m\u001b[0mcolumn_stack\u001b[0m\u001b[0;34m(\u001b[0m\u001b[0;34m(\u001b[0m\u001b[0mlassparams2\u001b[0m\u001b[0;34m,\u001b[0m \u001b[0mridgeparams2\u001b[0m\u001b[0;34m)\u001b[0m\u001b[0;34m)\u001b[0m\u001b[0;34m\u001b[0m\u001b[0m\n\u001b[0m\u001b[1;32m     10\u001b[0m prettycompare = np.array2string(\n\u001b[1;32m     11\u001b[0m     \u001b[0mcompare\u001b[0m\u001b[0;34m,\u001b[0m\u001b[0;34m\u001b[0m\u001b[0m\n",
      "\u001b[0;32m~/anaconda3/lib/python3.6/site-packages/numpy/lib/shape_base.py\u001b[0m in \u001b[0;36mcolumn_stack\u001b[0;34m(tup)\u001b[0m\n\u001b[1;32m    351\u001b[0m             \u001b[0marr\u001b[0m \u001b[0;34m=\u001b[0m \u001b[0marray\u001b[0m\u001b[0;34m(\u001b[0m\u001b[0marr\u001b[0m\u001b[0;34m,\u001b[0m \u001b[0mcopy\u001b[0m\u001b[0;34m=\u001b[0m\u001b[0;32mFalse\u001b[0m\u001b[0;34m,\u001b[0m \u001b[0msubok\u001b[0m\u001b[0;34m=\u001b[0m\u001b[0;32mTrue\u001b[0m\u001b[0;34m,\u001b[0m \u001b[0mndmin\u001b[0m\u001b[0;34m=\u001b[0m\u001b[0;36m2\u001b[0m\u001b[0;34m)\u001b[0m\u001b[0;34m.\u001b[0m\u001b[0mT\u001b[0m\u001b[0;34m\u001b[0m\u001b[0m\n\u001b[1;32m    352\u001b[0m         \u001b[0marrays\u001b[0m\u001b[0;34m.\u001b[0m\u001b[0mappend\u001b[0m\u001b[0;34m(\u001b[0m\u001b[0marr\u001b[0m\u001b[0;34m)\u001b[0m\u001b[0;34m\u001b[0m\u001b[0m\n\u001b[0;32m--> 353\u001b[0;31m     \u001b[0;32mreturn\u001b[0m \u001b[0m_nx\u001b[0m\u001b[0;34m.\u001b[0m\u001b[0mconcatenate\u001b[0m\u001b[0;34m(\u001b[0m\u001b[0marrays\u001b[0m\u001b[0;34m,\u001b[0m \u001b[0;36m1\u001b[0m\u001b[0;34m)\u001b[0m\u001b[0;34m\u001b[0m\u001b[0m\n\u001b[0m\u001b[1;32m    354\u001b[0m \u001b[0;34m\u001b[0m\u001b[0m\n\u001b[1;32m    355\u001b[0m \u001b[0;32mdef\u001b[0m \u001b[0mdstack\u001b[0m\u001b[0;34m(\u001b[0m\u001b[0mtup\u001b[0m\u001b[0;34m)\u001b[0m\u001b[0;34m:\u001b[0m\u001b[0;34m\u001b[0m\u001b[0m\n",
      "\u001b[0;31mValueError\u001b[0m: all the input array dimensions except for the concatenation axis must match exactly"
     ]
    }
   ],
   "source": [
    "ridgeregr2 = linear_model.Ridge(alpha=.57, fit_intercept=False) \n",
    "ridgeregr2.fit(X_train2, Y_train2)\n",
    "print(ridgeregr2.score(X_train2, Y_train2))\n",
    "ridgeparams2 = ridgeregr2.coef_[0]\n",
    "print(ridgeparams2)\n",
    "\n",
    "\n",
    "print('\\nParameter Estimates for the same predictors for the small model:')\n",
    "compare = np.column_stack((lassparams2, ridgeparams2))\n",
    "prettycompare = np.array2string(\n",
    "    compare,\n",
    "    formatter={'float_kind':'{0:.3f}'.format})\n",
    "print(prettycompare)"
   ]
  },
  {
   "cell_type": "code",
   "execution_count": 32,
   "metadata": {},
   "outputs": [
    {
     "name": "stdout",
     "output_type": "stream",
     "text": [
      "0.999999999998\n",
      "0.999999999998\n"
     ]
    }
   ],
   "source": [
    "print(ridgeregr2.score(X_test2, Y_test2))\n",
    "\n",
    "print(ridgeregr2.score(X_train2, Y_train2))"
   ]
  },
  {
   "cell_type": "markdown",
   "metadata": {},
   "source": [
    "**In terms of model accuracy and performance, there wasn't much difference in accuracy between the datasets.  The accuracy was slightly lower for lasso regression for the 2008 airline data, however, the difference was nominal.  The ridge regression model predicted >99% for both datasets.**"
   ]
  },
  {
   "cell_type": "code",
   "execution_count": null,
   "metadata": {
    "collapsed": true
   },
   "outputs": [],
   "source": []
  }
 ],
 "metadata": {
  "kernelspec": {
   "display_name": "Python 3",
   "language": "python",
   "name": "python3"
  },
  "language_info": {
   "codemirror_mode": {
    "name": "ipython",
    "version": 3
   },
   "file_extension": ".py",
   "mimetype": "text/x-python",
   "name": "python",
   "nbconvert_exporter": "python",
   "pygments_lexer": "ipython3",
   "version": "3.6.3"
  }
 },
 "nbformat": 4,
 "nbformat_minor": 2
}
