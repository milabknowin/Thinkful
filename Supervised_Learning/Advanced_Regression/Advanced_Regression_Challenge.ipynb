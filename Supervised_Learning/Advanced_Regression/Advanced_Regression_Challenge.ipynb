{
 "cells": [
  {
   "cell_type": "code",
   "execution_count": 1,
   "metadata": {},
   "outputs": [
    {
     "name": "stderr",
     "output_type": "stream",
     "text": [
      "/Users/jamilab/anaconda3/lib/python3.6/site-packages/statsmodels/compat/pandas.py:56: FutureWarning: The pandas.core.datetools module is deprecated and will be removed in a future version. Please use the pandas.tseries module instead.\n",
      "  from pandas.core import datetools\n"
     ]
    }
   ],
   "source": [
    "import pandas as pd\n",
    "import matplotlib.pyplot as plt\n",
    "import numpy as np\n",
    "import math\n",
    "import seaborn as sns\n",
    "import statsmodels.api as sm\n",
    "import sklearn\n",
    "\n",
    "from sklearn.linear_model import LogisticRegression\n",
    "from sklearn import linear_model\n",
    "from sklearn import preprocessing\n",
    "from initial_cleaning import initial_cleaning\n",
    "from patsy import dmatrices\n",
    "\n",
    "%matplotlib inline\n",
    "sns.set_style('white')\n",
    "pd.options.display.float_format = '{:.2f}'.format\n",
    "plt.rcParams['figure.figsize'] = (20.0, 10.0)"
   ]
  },
  {
   "cell_type": "code",
   "execution_count": 2,
   "metadata": {
    "scrolled": true
   },
   "outputs": [
    {
     "name": "stderr",
     "output_type": "stream",
     "text": [
      "/Users/jamilab/anaconda3/lib/python3.6/site-packages/IPython/core/interactiveshell.py:2802: DtypeWarning: Columns (1,2,3,4,5,6,7,8,9,10,11,12,16,17) have mixed types. Specify dtype option on import or set low_memory=False.\n",
      "  if self.run_code(code, result):\n"
     ]
    },
    {
     "name": "stdout",
     "output_type": "stream",
     "text": [
      "   User_ID Gender   Age Location  Verification Sexual_orientation  \\\n",
      "0 10386.00   male  34,6        A  Non_Verified         Homosexual   \n",
      "1    14.00   male  32,2        J  Non_Verified       Heterosexual   \n",
      "2 16721.00   male  33,6        K  Non_Verified       Heterosexual   \n",
      "3 16957.00   male    34        H  Non_Verified       Heterosexual   \n",
      "4 17125.00   male  39,5        B  Non_Verified       Heterosexual   \n",
      "\n",
      "  Sexual_polarity Looking_for Points_Rank      Last_login Member_since  \\\n",
      "0          Switch         Men          50  before_10_days    17.9.2012   \n",
      "1        Dominant       Women         518   before_1_days    1.11.2009   \n",
      "2        Dominant       Women         150   before_3_days     1.4.2013   \n",
      "3        Dominant       Women         114   before_4_days     8.4.2013   \n",
      "4        Dominant       Women         497   before_5_days    14.4.2013   \n",
      "\n",
      "  Number_of_Comments_in_public_forum Time_spent_chating_H:M  \\\n",
      "0                                 32                    0:2   \n",
      "1                                710                   3:45   \n",
      "2                                 25                   2:15   \n",
      "3                                107                 359:22   \n",
      "4                                600                   0:21   \n",
      "\n",
      "   Number_of_advertisments_posted  Number_of_offline_meetings_attended  \\\n",
      "0                            0.00                                 0.00   \n",
      "1                            9.00                                 0.00   \n",
      "2                            1.00                                 1.00   \n",
      "3                            1.00                                 0.00   \n",
      "4                            0.00                                 6.00   \n",
      "\n",
      "   Profile_pictures                                    Friends_ID_list  \\\n",
      "0              0.00                                              18260   \n",
      "1              0.00          11778,32024,43768,23969,27318,45884,31277   \n",
      "2             45.00                                  19805,21721,19802   \n",
      "3              1.00  40847,38183,9507,42259,5807,28118,24848,37170,...   \n",
      "4              8.00  1320,35739,34231,19097,20197,18069,12330,43342...   \n",
      "\n",
      "      Risk  \n",
      "0  No_risk  \n",
      "1  No_risk  \n",
      "2  No_risk  \n",
      "3  No_risk  \n",
      "4  No_risk  \n",
      "User_ID                                    1\n",
      "Gender                                     5\n",
      "Age                                        1\n",
      "Location                                   2\n",
      "Verification                               1\n",
      "Sexual_orientation                         2\n",
      "Sexual_polarity                            2\n",
      "Looking_for                              426\n",
      "Points_Rank                                1\n",
      "Last_login                                 1\n",
      "Member_since                               1\n",
      "Number_of_Comments_in_public_forum         1\n",
      "Time_spent_chating_H:M                     1\n",
      "Number_of_advertisments_posted             1\n",
      "Number_of_offline_meetings_attended        1\n",
      "Profile_pictures                           1\n",
      "Friends_ID_list                        25485\n",
      "Risk                                       1\n",
      "dtype: int64\n"
     ]
    }
   ],
   "source": [
    "df = pd.DataFrame(initial_cleaning('online_sex_work.csv'))"
   ]
  },
  {
   "cell_type": "code",
   "execution_count": 3,
   "metadata": {
    "collapsed": true
   },
   "outputs": [],
   "source": [
    "# drop friends_id_list column from dataset\n",
    "\n",
    "df = df.drop('Friends_ID_list', 1)"
   ]
  },
  {
   "cell_type": "code",
   "execution_count": 4,
   "metadata": {},
   "outputs": [
    {
     "data": {
      "text/plain": [
       "(28768, 17)"
      ]
     },
     "execution_count": 4,
     "metadata": {},
     "output_type": "execute_result"
    }
   ],
   "source": [
    "df.shape"
   ]
  },
  {
   "cell_type": "code",
   "execution_count": 5,
   "metadata": {
    "collapsed": true
   },
   "outputs": [],
   "source": [
    "# replace commas with periods & '???' with NaN\n",
    "\n",
    "df['Age'] = df['Age'].replace(',','.', regex=True)\n",
    "df['Age'] = df['Age'].replace('???', np.nan)"
   ]
  },
  {
   "cell_type": "code",
   "execution_count": 6,
   "metadata": {
    "collapsed": true
   },
   "outputs": [],
   "source": [
    "# fill missing values with mean age & convert to float\n",
    "\n",
    "df['Age'] = df['Age'].astype(float)\n",
    "df['Age'] = df['Age'].fillna(df['Age'].mean())"
   ]
  },
  {
   "cell_type": "code",
   "execution_count": 7,
   "metadata": {},
   "outputs": [
    {
     "data": {
      "text/plain": [
       "Heterosexual    20393\n",
       "bisexual         4382\n",
       "bicurious        2986\n",
       "Homosexual       1005\n",
       "Name: Sexual_orientation, dtype: int64"
      ]
     },
     "execution_count": 7,
     "metadata": {},
     "output_type": "execute_result"
    }
   ],
   "source": [
    "df['Sexual_orientation'].value_counts()"
   ]
  },
  {
   "cell_type": "code",
   "execution_count": 8,
   "metadata": {
    "collapsed": true
   },
   "outputs": [],
   "source": [
    "df['Sexual_orientation'] = df['Sexual_orientation'].fillna(df['Sexual_orientation'].mode())"
   ]
  },
  {
   "cell_type": "code",
   "execution_count": 9,
   "metadata": {},
   "outputs": [
    {
     "data": {
      "text/plain": [
       "count            28766\n",
       "unique               4\n",
       "top       Heterosexual\n",
       "freq             20393\n",
       "Name: Sexual_orientation, dtype: object"
      ]
     },
     "execution_count": 9,
     "metadata": {},
     "output_type": "execute_result"
    }
   ],
   "source": [
    "df['Sexual_orientation'].describe()"
   ]
  },
  {
   "cell_type": "code",
   "execution_count": 10,
   "metadata": {},
   "outputs": [
    {
     "data": {
      "text/plain": [
       "count     28763\n",
       "unique        2\n",
       "top        male\n",
       "freq      22338\n",
       "Name: Gender, dtype: object"
      ]
     },
     "execution_count": 10,
     "metadata": {},
     "output_type": "execute_result"
    }
   ],
   "source": [
    "df['Gender'].describe()"
   ]
  },
  {
   "cell_type": "code",
   "execution_count": 11,
   "metadata": {},
   "outputs": [
    {
     "data": {
      "text/plain": [
       "array(['male', 'female', nan], dtype=object)"
      ]
     },
     "execution_count": 11,
     "metadata": {},
     "output_type": "execute_result"
    }
   ],
   "source": [
    "# list genders\n",
    "\n",
    "df['Gender'].unique()"
   ]
  },
  {
   "cell_type": "code",
   "execution_count": 12,
   "metadata": {
    "collapsed": true
   },
   "outputs": [],
   "source": [
    "df['Gender'] = df['Gender'].fillna(df['Gender'].mode())"
   ]
  },
  {
   "cell_type": "code",
   "execution_count": 13,
   "metadata": {},
   "outputs": [
    {
     "data": {
      "text/plain": [
       "count     28763\n",
       "unique        2\n",
       "top        male\n",
       "freq      22338\n",
       "Name: Gender, dtype: object"
      ]
     },
     "execution_count": 13,
     "metadata": {},
     "output_type": "execute_result"
    }
   ],
   "source": [
    "df['Gender'].describe()"
   ]
  },
  {
   "cell_type": "code",
   "execution_count": 14,
   "metadata": {},
   "outputs": [
    {
     "data": {
      "text/plain": [
       "male      22338\n",
       "female     6425\n",
       "Name: Gender, dtype: int64"
      ]
     },
     "execution_count": 14,
     "metadata": {},
     "output_type": "execute_result"
    }
   ],
   "source": [
    "df['Gender'].value_counts()"
   ]
  },
  {
   "cell_type": "code",
   "execution_count": 15,
   "metadata": {},
   "outputs": [
    {
     "data": {
      "text/plain": [
       "array(['Men', 'Women', 'Nobody_but_maybe', 'Nobody', 'Men_and_Women', nan], dtype=object)"
      ]
     },
     "execution_count": 15,
     "metadata": {},
     "output_type": "execute_result"
    }
   ],
   "source": [
    "df['Looking_for'].unique()"
   ]
  },
  {
   "cell_type": "code",
   "execution_count": 16,
   "metadata": {
    "collapsed": true
   },
   "outputs": [],
   "source": [
    "# remove commas, spaces & the letter a from numbers in points rank column\n",
    "\n",
    "df['Points_Rank'] = df['Points_Rank'].replace(',','.', regex=True)\n",
    "df['Points_Rank'] = df['Points_Rank'].replace(' ','', regex=True)\n",
    "df['Points_Rank'] = df['Points_Rank'].replace('a',np.nan)"
   ]
  },
  {
   "cell_type": "code",
   "execution_count": 17,
   "metadata": {},
   "outputs": [
    {
     "data": {
      "text/plain": [
       "count   28560.00\n",
       "mean        9.62\n",
       "std        38.64\n",
       "min      -650.00\n",
       "25%         0.00\n",
       "50%         0.00\n",
       "75%        11.00\n",
       "max      1626.00\n",
       "Name: Points_Rank, dtype: float64"
      ]
     },
     "execution_count": 17,
     "metadata": {},
     "output_type": "execute_result"
    }
   ],
   "source": [
    "# convert points rank to float & describe data\n",
    "\n",
    "df['Points_Rank'] = df['Points_Rank'].astype(float)\n",
    "df['Points_Rank'].describe()"
   ]
  },
  {
   "cell_type": "code",
   "execution_count": 18,
   "metadata": {
    "collapsed": true
   },
   "outputs": [],
   "source": [
    "# create feature to make gender categorical\n",
    "\n",
    "df['gendercat'] = np.where(df['Gender'] == 'female', 1, 0)"
   ]
  },
  {
   "cell_type": "code",
   "execution_count": 19,
   "metadata": {
    "collapsed": true
   },
   "outputs": [],
   "source": [
    "# create interactions for homosexual male, homosexual female & dominant female\n",
    "\n",
    "df['homo_male'] = (df['Gender'] == 'male').astype(int) * (df['Sexual_orientation'] == 'Homosexual').astype(float)\n",
    "df['homo_fem'] = (df['Gender'] == 'female').astype(int) * (df['Sexual_orientation'] == 'Homosexual').astype(float)\n",
    "df['fem_dom'] = (df['Gender'] == 'female').astype(int) * (df['Sexual_polarity'] == 'Dominant').astype(float)"
   ]
  },
  {
   "cell_type": "code",
   "execution_count": 20,
   "metadata": {
    "collapsed": true
   },
   "outputs": [],
   "source": [
    "# create features for sexual orientation\n",
    "\n",
    "df['homo'] = np.where(df['Sexual_orientation'] == 'Homosexual', 1, 0).astype(float)\n",
    "df['hetero'] = np.where(df['Sexual_orientation'] == 'Heterosexual', 1, 0).astype(float)\n",
    "df['bisexual'] = np.where(df['Sexual_orientation'] == 'bisexual', 1, 0).astype(float)\n",
    "df['bicurious'] = np.where(df['Sexual_orientation'] == 'bicurious', 1, 0).astype(float)"
   ]
  },
  {
   "cell_type": "code",
   "execution_count": 21,
   "metadata": {
    "collapsed": true
   },
   "outputs": [],
   "source": [
    "# create features for sexual polarity\n",
    "\n",
    "df['dom'] = np.where(df['Sexual_polarity'] == 'Dominant', 1, 0)\n",
    "df['sub'] = np.where(df['Sexual_polarity'] == 'Submisive', 1, 0)\n",
    "df['switch'] = np.where(df['Sexual_polarity'] == 'Switch', 1, 0)"
   ]
  },
  {
   "cell_type": "code",
   "execution_count": 22,
   "metadata": {},
   "outputs": [
    {
     "data": {
      "text/html": [
       "<div>\n",
       "<style>\n",
       "    .dataframe thead tr:only-child th {\n",
       "        text-align: right;\n",
       "    }\n",
       "\n",
       "    .dataframe thead th {\n",
       "        text-align: left;\n",
       "    }\n",
       "\n",
       "    .dataframe tbody tr th {\n",
       "        vertical-align: top;\n",
       "    }\n",
       "</style>\n",
       "<table border=\"1\" class=\"dataframe\">\n",
       "  <thead>\n",
       "    <tr style=\"text-align: right;\">\n",
       "      <th></th>\n",
       "      <th>User_ID</th>\n",
       "      <th>Gender</th>\n",
       "      <th>Age</th>\n",
       "      <th>Location</th>\n",
       "      <th>Verification</th>\n",
       "      <th>Sexual_orientation</th>\n",
       "      <th>Sexual_polarity</th>\n",
       "      <th>Looking_for</th>\n",
       "      <th>Points_Rank</th>\n",
       "      <th>Last_login</th>\n",
       "      <th>...</th>\n",
       "      <th>homo_male</th>\n",
       "      <th>homo_fem</th>\n",
       "      <th>fem_dom</th>\n",
       "      <th>homo</th>\n",
       "      <th>hetero</th>\n",
       "      <th>bisexual</th>\n",
       "      <th>bicurious</th>\n",
       "      <th>dom</th>\n",
       "      <th>sub</th>\n",
       "      <th>switch</th>\n",
       "    </tr>\n",
       "  </thead>\n",
       "  <tbody>\n",
       "    <tr>\n",
       "      <th>0</th>\n",
       "      <td>10386.00</td>\n",
       "      <td>male</td>\n",
       "      <td>34.60</td>\n",
       "      <td>A</td>\n",
       "      <td>Non_Verified</td>\n",
       "      <td>Homosexual</td>\n",
       "      <td>Switch</td>\n",
       "      <td>Men</td>\n",
       "      <td>50.00</td>\n",
       "      <td>before_10_days</td>\n",
       "      <td>...</td>\n",
       "      <td>1.00</td>\n",
       "      <td>0.00</td>\n",
       "      <td>0.00</td>\n",
       "      <td>1.00</td>\n",
       "      <td>0.00</td>\n",
       "      <td>0.00</td>\n",
       "      <td>0.00</td>\n",
       "      <td>0</td>\n",
       "      <td>0</td>\n",
       "      <td>1</td>\n",
       "    </tr>\n",
       "    <tr>\n",
       "      <th>1</th>\n",
       "      <td>14.00</td>\n",
       "      <td>male</td>\n",
       "      <td>32.20</td>\n",
       "      <td>J</td>\n",
       "      <td>Non_Verified</td>\n",
       "      <td>Heterosexual</td>\n",
       "      <td>Dominant</td>\n",
       "      <td>Women</td>\n",
       "      <td>518.00</td>\n",
       "      <td>before_1_days</td>\n",
       "      <td>...</td>\n",
       "      <td>0.00</td>\n",
       "      <td>0.00</td>\n",
       "      <td>0.00</td>\n",
       "      <td>0.00</td>\n",
       "      <td>1.00</td>\n",
       "      <td>0.00</td>\n",
       "      <td>0.00</td>\n",
       "      <td>1</td>\n",
       "      <td>0</td>\n",
       "      <td>0</td>\n",
       "    </tr>\n",
       "    <tr>\n",
       "      <th>2</th>\n",
       "      <td>16721.00</td>\n",
       "      <td>male</td>\n",
       "      <td>33.60</td>\n",
       "      <td>K</td>\n",
       "      <td>Non_Verified</td>\n",
       "      <td>Heterosexual</td>\n",
       "      <td>Dominant</td>\n",
       "      <td>Women</td>\n",
       "      <td>150.00</td>\n",
       "      <td>before_3_days</td>\n",
       "      <td>...</td>\n",
       "      <td>0.00</td>\n",
       "      <td>0.00</td>\n",
       "      <td>0.00</td>\n",
       "      <td>0.00</td>\n",
       "      <td>1.00</td>\n",
       "      <td>0.00</td>\n",
       "      <td>0.00</td>\n",
       "      <td>1</td>\n",
       "      <td>0</td>\n",
       "      <td>0</td>\n",
       "    </tr>\n",
       "    <tr>\n",
       "      <th>3</th>\n",
       "      <td>16957.00</td>\n",
       "      <td>male</td>\n",
       "      <td>34.00</td>\n",
       "      <td>H</td>\n",
       "      <td>Non_Verified</td>\n",
       "      <td>Heterosexual</td>\n",
       "      <td>Dominant</td>\n",
       "      <td>Women</td>\n",
       "      <td>114.00</td>\n",
       "      <td>before_4_days</td>\n",
       "      <td>...</td>\n",
       "      <td>0.00</td>\n",
       "      <td>0.00</td>\n",
       "      <td>0.00</td>\n",
       "      <td>0.00</td>\n",
       "      <td>1.00</td>\n",
       "      <td>0.00</td>\n",
       "      <td>0.00</td>\n",
       "      <td>1</td>\n",
       "      <td>0</td>\n",
       "      <td>0</td>\n",
       "    </tr>\n",
       "    <tr>\n",
       "      <th>4</th>\n",
       "      <td>17125.00</td>\n",
       "      <td>male</td>\n",
       "      <td>39.50</td>\n",
       "      <td>B</td>\n",
       "      <td>Non_Verified</td>\n",
       "      <td>Heterosexual</td>\n",
       "      <td>Dominant</td>\n",
       "      <td>Women</td>\n",
       "      <td>497.00</td>\n",
       "      <td>before_5_days</td>\n",
       "      <td>...</td>\n",
       "      <td>0.00</td>\n",
       "      <td>0.00</td>\n",
       "      <td>0.00</td>\n",
       "      <td>0.00</td>\n",
       "      <td>1.00</td>\n",
       "      <td>0.00</td>\n",
       "      <td>0.00</td>\n",
       "      <td>1</td>\n",
       "      <td>0</td>\n",
       "      <td>0</td>\n",
       "    </tr>\n",
       "    <tr>\n",
       "      <th>5</th>\n",
       "      <td>17220.00</td>\n",
       "      <td>female</td>\n",
       "      <td>47.80</td>\n",
       "      <td>A</td>\n",
       "      <td>Non_Verified</td>\n",
       "      <td>Heterosexual</td>\n",
       "      <td>Dominant</td>\n",
       "      <td>Nobody_but_maybe</td>\n",
       "      <td>127.00</td>\n",
       "      <td>before_1_days</td>\n",
       "      <td>...</td>\n",
       "      <td>0.00</td>\n",
       "      <td>0.00</td>\n",
       "      <td>1.00</td>\n",
       "      <td>0.00</td>\n",
       "      <td>1.00</td>\n",
       "      <td>0.00</td>\n",
       "      <td>0.00</td>\n",
       "      <td>1</td>\n",
       "      <td>0</td>\n",
       "      <td>0</td>\n",
       "    </tr>\n",
       "    <tr>\n",
       "      <th>6</th>\n",
       "      <td>1726.00</td>\n",
       "      <td>male</td>\n",
       "      <td>36.70</td>\n",
       "      <td>B</td>\n",
       "      <td>Non_Verified</td>\n",
       "      <td>bicurious</td>\n",
       "      <td>Submisive</td>\n",
       "      <td>Women</td>\n",
       "      <td>18.00</td>\n",
       "      <td>before_1_days</td>\n",
       "      <td>...</td>\n",
       "      <td>0.00</td>\n",
       "      <td>0.00</td>\n",
       "      <td>0.00</td>\n",
       "      <td>0.00</td>\n",
       "      <td>0.00</td>\n",
       "      <td>0.00</td>\n",
       "      <td>1.00</td>\n",
       "      <td>0</td>\n",
       "      <td>1</td>\n",
       "      <td>0</td>\n",
       "    </tr>\n",
       "    <tr>\n",
       "      <th>7</th>\n",
       "      <td>1750.00</td>\n",
       "      <td>male</td>\n",
       "      <td>51.00</td>\n",
       "      <td>L</td>\n",
       "      <td>Non_Verified</td>\n",
       "      <td>Heterosexual</td>\n",
       "      <td>Dominant</td>\n",
       "      <td>Nobody</td>\n",
       "      <td>38.00</td>\n",
       "      <td>before_9_days</td>\n",
       "      <td>...</td>\n",
       "      <td>0.00</td>\n",
       "      <td>0.00</td>\n",
       "      <td>0.00</td>\n",
       "      <td>0.00</td>\n",
       "      <td>1.00</td>\n",
       "      <td>0.00</td>\n",
       "      <td>0.00</td>\n",
       "      <td>1</td>\n",
       "      <td>0</td>\n",
       "      <td>0</td>\n",
       "    </tr>\n",
       "    <tr>\n",
       "      <th>8</th>\n",
       "      <td>18162.00</td>\n",
       "      <td>female</td>\n",
       "      <td>29.50</td>\n",
       "      <td>A</td>\n",
       "      <td>Non_Verified</td>\n",
       "      <td>bicurious</td>\n",
       "      <td>Submisive</td>\n",
       "      <td>Nobody_but_maybe</td>\n",
       "      <td>150.00</td>\n",
       "      <td>before_4_days</td>\n",
       "      <td>...</td>\n",
       "      <td>0.00</td>\n",
       "      <td>0.00</td>\n",
       "      <td>0.00</td>\n",
       "      <td>0.00</td>\n",
       "      <td>0.00</td>\n",
       "      <td>0.00</td>\n",
       "      <td>1.00</td>\n",
       "      <td>0</td>\n",
       "      <td>1</td>\n",
       "      <td>0</td>\n",
       "    </tr>\n",
       "    <tr>\n",
       "      <th>9</th>\n",
       "      <td>18820.00</td>\n",
       "      <td>male</td>\n",
       "      <td>28.00</td>\n",
       "      <td>J</td>\n",
       "      <td>Non_Verified</td>\n",
       "      <td>Heterosexual</td>\n",
       "      <td>Switch</td>\n",
       "      <td>Women</td>\n",
       "      <td>-26.00</td>\n",
       "      <td>before_1_days</td>\n",
       "      <td>...</td>\n",
       "      <td>0.00</td>\n",
       "      <td>0.00</td>\n",
       "      <td>0.00</td>\n",
       "      <td>0.00</td>\n",
       "      <td>1.00</td>\n",
       "      <td>0.00</td>\n",
       "      <td>0.00</td>\n",
       "      <td>0</td>\n",
       "      <td>0</td>\n",
       "      <td>1</td>\n",
       "    </tr>\n",
       "  </tbody>\n",
       "</table>\n",
       "<p>10 rows × 28 columns</p>\n",
       "</div>"
      ],
      "text/plain": [
       "   User_ID  Gender   Age Location  Verification Sexual_orientation  \\\n",
       "0 10386.00    male 34.60        A  Non_Verified         Homosexual   \n",
       "1    14.00    male 32.20        J  Non_Verified       Heterosexual   \n",
       "2 16721.00    male 33.60        K  Non_Verified       Heterosexual   \n",
       "3 16957.00    male 34.00        H  Non_Verified       Heterosexual   \n",
       "4 17125.00    male 39.50        B  Non_Verified       Heterosexual   \n",
       "5 17220.00  female 47.80        A  Non_Verified       Heterosexual   \n",
       "6  1726.00    male 36.70        B  Non_Verified          bicurious   \n",
       "7  1750.00    male 51.00        L  Non_Verified       Heterosexual   \n",
       "8 18162.00  female 29.50        A  Non_Verified          bicurious   \n",
       "9 18820.00    male 28.00        J  Non_Verified       Heterosexual   \n",
       "\n",
       "  Sexual_polarity       Looking_for  Points_Rank      Last_login   ...    \\\n",
       "0          Switch               Men        50.00  before_10_days   ...     \n",
       "1        Dominant             Women       518.00   before_1_days   ...     \n",
       "2        Dominant             Women       150.00   before_3_days   ...     \n",
       "3        Dominant             Women       114.00   before_4_days   ...     \n",
       "4        Dominant             Women       497.00   before_5_days   ...     \n",
       "5        Dominant  Nobody_but_maybe       127.00   before_1_days   ...     \n",
       "6       Submisive             Women        18.00   before_1_days   ...     \n",
       "7        Dominant            Nobody        38.00   before_9_days   ...     \n",
       "8       Submisive  Nobody_but_maybe       150.00   before_4_days   ...     \n",
       "9          Switch             Women       -26.00   before_1_days   ...     \n",
       "\n",
       "  homo_male homo_fem fem_dom  homo  hetero  bisexual bicurious  dom  sub  \\\n",
       "0      1.00     0.00    0.00  1.00    0.00      0.00      0.00    0    0   \n",
       "1      0.00     0.00    0.00  0.00    1.00      0.00      0.00    1    0   \n",
       "2      0.00     0.00    0.00  0.00    1.00      0.00      0.00    1    0   \n",
       "3      0.00     0.00    0.00  0.00    1.00      0.00      0.00    1    0   \n",
       "4      0.00     0.00    0.00  0.00    1.00      0.00      0.00    1    0   \n",
       "5      0.00     0.00    1.00  0.00    1.00      0.00      0.00    1    0   \n",
       "6      0.00     0.00    0.00  0.00    0.00      0.00      1.00    0    1   \n",
       "7      0.00     0.00    0.00  0.00    1.00      0.00      0.00    1    0   \n",
       "8      0.00     0.00    0.00  0.00    0.00      0.00      1.00    0    1   \n",
       "9      0.00     0.00    0.00  0.00    1.00      0.00      0.00    0    0   \n",
       "\n",
       "   switch  \n",
       "0       1  \n",
       "1       0  \n",
       "2       0  \n",
       "3       0  \n",
       "4       0  \n",
       "5       0  \n",
       "6       0  \n",
       "7       0  \n",
       "8       0  \n",
       "9       1  \n",
       "\n",
       "[10 rows x 28 columns]"
      ]
     },
     "execution_count": 22,
     "metadata": {},
     "output_type": "execute_result"
    }
   ],
   "source": [
    "df.head(10)"
   ]
  },
  {
   "cell_type": "code",
   "execution_count": 23,
   "metadata": {},
   "outputs": [
    {
     "data": {
      "text/plain": [
       "array(['No_risk', 'High_risk', 'unknown_risk', nan], dtype=object)"
      ]
     },
     "execution_count": 23,
     "metadata": {},
     "output_type": "execute_result"
    }
   ],
   "source": [
    "df['Risk'].unique()"
   ]
  },
  {
   "cell_type": "code",
   "execution_count": 24,
   "metadata": {},
   "outputs": [
    {
     "data": {
      "text/plain": [
       "array(['Non_Verified', 'Verified', 'Administrator', nan], dtype=object)"
      ]
     },
     "execution_count": 24,
     "metadata": {},
     "output_type": "execute_result"
    }
   ],
   "source": [
    "df['Verification'].unique()"
   ]
  },
  {
   "cell_type": "code",
   "execution_count": 25,
   "metadata": {},
   "outputs": [],
   "source": [
    "df['Risk'] = np.where(df['Risk'] == 'High_risk', 1, 0)\n",
    "df['Verification'] = np.where(df['Verification'] == 'Verified', 1, 0)"
   ]
  },
  {
   "cell_type": "code",
   "execution_count": 26,
   "metadata": {},
   "outputs": [
    {
     "data": {
      "text/plain": [
       "Index(['User_ID', 'Gender', 'Age', 'Location', 'Verification',\n",
       "       'Sexual_orientation', 'Sexual_polarity', 'Looking_for', 'Points_Rank',\n",
       "       'Last_login', 'Member_since', 'Number_of_Comments_in_public_forum',\n",
       "       'Time_spent_chating_H:M', 'Number_of_advertisments_posted',\n",
       "       'Number_of_offline_meetings_attended', 'Profile_pictures', 'Risk',\n",
       "       'gendercat', 'homo_male', 'homo_fem', 'fem_dom', 'homo', 'hetero',\n",
       "       'bisexual', 'bicurious', 'dom', 'sub', 'switch'],\n",
       "      dtype='object')"
      ]
     },
     "execution_count": 26,
     "metadata": {},
     "output_type": "execute_result"
    }
   ],
   "source": [
    "df.columns"
   ]
  },
  {
   "cell_type": "code",
   "execution_count": 27,
   "metadata": {},
   "outputs": [],
   "source": [
    "df = df.drop('Time_spent_chating_H:M', 1)\n",
    "df = df.drop('Number_of_advertisments_posted', 1)\n",
    "df = df.drop('Number_of_Comments_in_public_forum', 1)\n",
    "df = df.drop('Number_of_offline_meetings_attended', 1)\n",
    "df = df.drop('Member_since', 1)\n",
    "df = df.drop('Last_login', 1)\n",
    "df = df.drop('Location', 1)\n",
    "df = df.drop('Looking_for', 1)\n",
    "df = df.drop('Sexual_polarity', 1)\n",
    "df = df.drop('Sexual_orientation', 1)\n",
    "df = df.drop('Gender', 1)\n",
    "df = df.drop('User_ID', 1)\n",
    "df = df.drop('Profile_pictures', 1)\n",
    "df = df.drop('Age', 1)\n",
    "df = df.drop('Points_Rank', 1)"
   ]
  },
  {
   "cell_type": "markdown",
   "metadata": {},
   "source": [
    "# Fitting a binary logistic model using statsmodels\n",
    "\n",
    "**FYI: I couldn't get the prediction table to work in the 2nd cell.**"
   ]
  },
  {
   "cell_type": "code",
   "execution_count": 28,
   "metadata": {},
   "outputs": [
    {
     "name": "stderr",
     "output_type": "stream",
     "text": [
      "/Users/jamilab/anaconda3/lib/python3.6/site-packages/ipykernel_launcher.py:6: SettingWithCopyWarning: \n",
      "A value is trying to be set on a copy of a slice from a DataFrame.\n",
      "Try using .loc[row_indexer,col_indexer] = value instead\n",
      "\n",
      "See the caveats in the documentation: http://pandas.pydata.org/pandas-docs/stable/indexing.html#indexing-view-versus-copy\n",
      "  \n"
     ]
    },
    {
     "name": "stdout",
     "output_type": "stream",
     "text": [
      "Warning: Maximum number of iterations has been exceeded.\n",
      "         Current function value: 0.513634\n",
      "         Iterations: 35\n",
      "                           Logit Regression Results                           \n",
      "==============================================================================\n",
      "Dep. Variable:              gendercat   No. Observations:                28768\n",
      "Model:                          Logit   Df Residuals:                    28763\n",
      "Method:                           MLE   Df Model:                            4\n",
      "Date:                Sun, 13 May 2018   Pseudo R-squ.:                 0.03289\n",
      "Time:                        19:45:38   Log-Likelihood:                -14776.\n",
      "converged:                      False   LL-Null:                       -15279.\n",
      "                                        LLR p-value:                2.936e-216\n",
      "==============================================================================\n",
      "                 coef    std err          z      P>|z|      [0.025      0.975]\n",
      "------------------------------------------------------------------------------\n",
      "hetero        14.5560   2200.406      0.007      0.995   -4298.161    4327.273\n",
      "homo          14.2895   2200.406      0.006      0.995   -4298.428    4327.007\n",
      "bisexual      15.5199   2200.406      0.007      0.994   -4297.197    4328.237\n",
      "bicurious     15.4960   2200.406      0.007      0.994   -4297.221    4328.213\n",
      "intercept    -16.0859   2200.406     -0.007      0.994   -4328.803    4296.631\n",
      "==============================================================================\n"
     ]
    },
    {
     "name": "stderr",
     "output_type": "stream",
     "text": [
      "/Users/jamilab/anaconda3/lib/python3.6/site-packages/statsmodels/base/model.py:496: ConvergenceWarning: Maximum Likelihood optimization failed to converge. Check mle_retvals\n",
      "  \"Check mle_retvals\", ConvergenceWarning)\n"
     ]
    }
   ],
   "source": [
    "# Declare predictors.\n",
    "X_statsmod = df[['hetero', 'homo', 'bisexual', 'bicurious']]\n",
    "\n",
    "# The Statsmodels formulation requires a column with constant value 1 that\n",
    "# will act as the intercept.\n",
    "X_statsmod['intercept'] = 1 \n",
    "\n",
    "# Declare and fit the model.\n",
    "logit = sm.Logit(df['gendercat'], X_statsmod)\n",
    "result = logit.fit()\n",
    "\n",
    "# Lots of information about the model and its coefficients, but the\n",
    "# accuracy rate for predictions is missing.\n",
    "print(result.summary())"
   ]
  },
  {
   "cell_type": "code",
   "execution_count": 29,
   "metadata": {},
   "outputs": [
    {
     "name": "stdout",
     "output_type": "stream",
     "text": [
      "\n",
      " Accuracy by gender\n",
      "col_0          0\n",
      "gendercat       \n",
      "0          22343\n",
      "1           6425\n",
      "\n",
      " Percentage accuracy\n"
     ]
    },
    {
     "ename": "IndexError",
     "evalue": "single positional indexer is out-of-bounds",
     "output_type": "error",
     "traceback": [
      "\u001b[0;31m---------------------------------------------------------------------------\u001b[0m",
      "\u001b[0;31mIndexError\u001b[0m                                Traceback (most recent call last)",
      "\u001b[0;32m<ipython-input-29-3529664d6589>\u001b[0m in \u001b[0;36m<module>\u001b[0;34m()\u001b[0m\n\u001b[1;32m     11\u001b[0m \u001b[0mprint\u001b[0m\u001b[0;34m(\u001b[0m\u001b[0mtable\u001b[0m\u001b[0;34m)\u001b[0m\u001b[0;34m\u001b[0m\u001b[0m\n\u001b[1;32m     12\u001b[0m \u001b[0mprint\u001b[0m\u001b[0;34m(\u001b[0m\u001b[0;34m'\\n Percentage accuracy'\u001b[0m\u001b[0;34m)\u001b[0m\u001b[0;34m\u001b[0m\u001b[0m\n\u001b[0;32m---> 13\u001b[0;31m \u001b[0mprint\u001b[0m\u001b[0;34m(\u001b[0m\u001b[0;34m(\u001b[0m\u001b[0mtable\u001b[0m\u001b[0;34m.\u001b[0m\u001b[0miloc\u001b[0m\u001b[0;34m[\u001b[0m\u001b[0;36m0\u001b[0m\u001b[0;34m,\u001b[0m\u001b[0;36m0\u001b[0m\u001b[0;34m]\u001b[0m \u001b[0;34m+\u001b[0m \u001b[0mtable\u001b[0m\u001b[0;34m.\u001b[0m\u001b[0miloc\u001b[0m\u001b[0;34m[\u001b[0m\u001b[0;36m1\u001b[0m\u001b[0;34m,\u001b[0m\u001b[0;36m1\u001b[0m\u001b[0;34m]\u001b[0m\u001b[0;34m)\u001b[0m \u001b[0;34m/\u001b[0m \u001b[0;34m(\u001b[0m\u001b[0mtable\u001b[0m\u001b[0;34m.\u001b[0m\u001b[0msum\u001b[0m\u001b[0;34m(\u001b[0m\u001b[0;34m)\u001b[0m\u001b[0;34m.\u001b[0m\u001b[0msum\u001b[0m\u001b[0;34m(\u001b[0m\u001b[0;34m)\u001b[0m\u001b[0;34m)\u001b[0m\u001b[0;34m)\u001b[0m\u001b[0;34m\u001b[0m\u001b[0m\n\u001b[0m",
      "\u001b[0;32m~/anaconda3/lib/python3.6/site-packages/pandas/core/indexing.py\u001b[0m in \u001b[0;36m__getitem__\u001b[0;34m(self, key)\u001b[0m\n\u001b[1;32m   1323\u001b[0m             \u001b[0;32mexcept\u001b[0m \u001b[0;34m(\u001b[0m\u001b[0mKeyError\u001b[0m\u001b[0;34m,\u001b[0m \u001b[0mIndexError\u001b[0m\u001b[0;34m)\u001b[0m\u001b[0;34m:\u001b[0m\u001b[0;34m\u001b[0m\u001b[0m\n\u001b[1;32m   1324\u001b[0m                 \u001b[0;32mpass\u001b[0m\u001b[0;34m\u001b[0m\u001b[0m\n\u001b[0;32m-> 1325\u001b[0;31m             \u001b[0;32mreturn\u001b[0m \u001b[0mself\u001b[0m\u001b[0;34m.\u001b[0m\u001b[0m_getitem_tuple\u001b[0m\u001b[0;34m(\u001b[0m\u001b[0mkey\u001b[0m\u001b[0;34m)\u001b[0m\u001b[0;34m\u001b[0m\u001b[0m\n\u001b[0m\u001b[1;32m   1326\u001b[0m         \u001b[0;32melse\u001b[0m\u001b[0;34m:\u001b[0m\u001b[0;34m\u001b[0m\u001b[0m\n\u001b[1;32m   1327\u001b[0m             \u001b[0mkey\u001b[0m \u001b[0;34m=\u001b[0m \u001b[0mcom\u001b[0m\u001b[0;34m.\u001b[0m\u001b[0m_apply_if_callable\u001b[0m\u001b[0;34m(\u001b[0m\u001b[0mkey\u001b[0m\u001b[0;34m,\u001b[0m \u001b[0mself\u001b[0m\u001b[0;34m.\u001b[0m\u001b[0mobj\u001b[0m\u001b[0;34m)\u001b[0m\u001b[0;34m\u001b[0m\u001b[0m\n",
      "\u001b[0;32m~/anaconda3/lib/python3.6/site-packages/pandas/core/indexing.py\u001b[0m in \u001b[0;36m_getitem_tuple\u001b[0;34m(self, tup)\u001b[0m\n\u001b[1;32m   1660\u001b[0m     \u001b[0;32mdef\u001b[0m \u001b[0m_getitem_tuple\u001b[0m\u001b[0;34m(\u001b[0m\u001b[0mself\u001b[0m\u001b[0;34m,\u001b[0m \u001b[0mtup\u001b[0m\u001b[0;34m)\u001b[0m\u001b[0;34m:\u001b[0m\u001b[0;34m\u001b[0m\u001b[0m\n\u001b[1;32m   1661\u001b[0m \u001b[0;34m\u001b[0m\u001b[0m\n\u001b[0;32m-> 1662\u001b[0;31m         \u001b[0mself\u001b[0m\u001b[0;34m.\u001b[0m\u001b[0m_has_valid_tuple\u001b[0m\u001b[0;34m(\u001b[0m\u001b[0mtup\u001b[0m\u001b[0;34m)\u001b[0m\u001b[0;34m\u001b[0m\u001b[0m\n\u001b[0m\u001b[1;32m   1663\u001b[0m         \u001b[0;32mtry\u001b[0m\u001b[0;34m:\u001b[0m\u001b[0;34m\u001b[0m\u001b[0m\n\u001b[1;32m   1664\u001b[0m             \u001b[0;32mreturn\u001b[0m \u001b[0mself\u001b[0m\u001b[0;34m.\u001b[0m\u001b[0m_getitem_lowerdim\u001b[0m\u001b[0;34m(\u001b[0m\u001b[0mtup\u001b[0m\u001b[0;34m)\u001b[0m\u001b[0;34m\u001b[0m\u001b[0m\n",
      "\u001b[0;32m~/anaconda3/lib/python3.6/site-packages/pandas/core/indexing.py\u001b[0m in \u001b[0;36m_has_valid_tuple\u001b[0;34m(self, key)\u001b[0m\n\u001b[1;32m    187\u001b[0m             \u001b[0;32mif\u001b[0m \u001b[0mi\u001b[0m \u001b[0;34m>=\u001b[0m \u001b[0mself\u001b[0m\u001b[0;34m.\u001b[0m\u001b[0mobj\u001b[0m\u001b[0;34m.\u001b[0m\u001b[0mndim\u001b[0m\u001b[0;34m:\u001b[0m\u001b[0;34m\u001b[0m\u001b[0m\n\u001b[1;32m    188\u001b[0m                 \u001b[0;32mraise\u001b[0m \u001b[0mIndexingError\u001b[0m\u001b[0;34m(\u001b[0m\u001b[0;34m'Too many indexers'\u001b[0m\u001b[0;34m)\u001b[0m\u001b[0;34m\u001b[0m\u001b[0m\n\u001b[0;32m--> 189\u001b[0;31m             \u001b[0;32mif\u001b[0m \u001b[0;32mnot\u001b[0m \u001b[0mself\u001b[0m\u001b[0;34m.\u001b[0m\u001b[0m_has_valid_type\u001b[0m\u001b[0;34m(\u001b[0m\u001b[0mk\u001b[0m\u001b[0;34m,\u001b[0m \u001b[0mi\u001b[0m\u001b[0;34m)\u001b[0m\u001b[0;34m:\u001b[0m\u001b[0;34m\u001b[0m\u001b[0m\n\u001b[0m\u001b[1;32m    190\u001b[0m                 raise ValueError(\"Location based indexing can only have [%s] \"\n\u001b[1;32m    191\u001b[0m                                  \"types\" % self._valid_types)\n",
      "\u001b[0;32m~/anaconda3/lib/python3.6/site-packages/pandas/core/indexing.py\u001b[0m in \u001b[0;36m_has_valid_type\u001b[0;34m(self, key, axis)\u001b[0m\n\u001b[1;32m   1595\u001b[0m             \u001b[0;32mreturn\u001b[0m \u001b[0;32mTrue\u001b[0m\u001b[0;34m\u001b[0m\u001b[0m\n\u001b[1;32m   1596\u001b[0m         \u001b[0;32melif\u001b[0m \u001b[0mis_integer\u001b[0m\u001b[0;34m(\u001b[0m\u001b[0mkey\u001b[0m\u001b[0;34m)\u001b[0m\u001b[0;34m:\u001b[0m\u001b[0;34m\u001b[0m\u001b[0m\n\u001b[0;32m-> 1597\u001b[0;31m             \u001b[0;32mreturn\u001b[0m \u001b[0mself\u001b[0m\u001b[0;34m.\u001b[0m\u001b[0m_is_valid_integer\u001b[0m\u001b[0;34m(\u001b[0m\u001b[0mkey\u001b[0m\u001b[0;34m,\u001b[0m \u001b[0maxis\u001b[0m\u001b[0;34m)\u001b[0m\u001b[0;34m\u001b[0m\u001b[0m\n\u001b[0m\u001b[1;32m   1598\u001b[0m         \u001b[0;32melif\u001b[0m \u001b[0mis_list_like_indexer\u001b[0m\u001b[0;34m(\u001b[0m\u001b[0mkey\u001b[0m\u001b[0;34m)\u001b[0m\u001b[0;34m:\u001b[0m\u001b[0;34m\u001b[0m\u001b[0m\n\u001b[1;32m   1599\u001b[0m             \u001b[0;32mreturn\u001b[0m \u001b[0mself\u001b[0m\u001b[0;34m.\u001b[0m\u001b[0m_is_valid_list_like\u001b[0m\u001b[0;34m(\u001b[0m\u001b[0mkey\u001b[0m\u001b[0;34m,\u001b[0m \u001b[0maxis\u001b[0m\u001b[0;34m)\u001b[0m\u001b[0;34m\u001b[0m\u001b[0m\n",
      "\u001b[0;32m~/anaconda3/lib/python3.6/site-packages/pandas/core/indexing.py\u001b[0m in \u001b[0;36m_is_valid_integer\u001b[0;34m(self, key, axis)\u001b[0m\n\u001b[1;32m   1636\u001b[0m         \u001b[0ml\u001b[0m \u001b[0;34m=\u001b[0m \u001b[0mlen\u001b[0m\u001b[0;34m(\u001b[0m\u001b[0max\u001b[0m\u001b[0;34m)\u001b[0m\u001b[0;34m\u001b[0m\u001b[0m\n\u001b[1;32m   1637\u001b[0m         \u001b[0;32mif\u001b[0m \u001b[0mkey\u001b[0m \u001b[0;34m>=\u001b[0m \u001b[0ml\u001b[0m \u001b[0;32mor\u001b[0m \u001b[0mkey\u001b[0m \u001b[0;34m<\u001b[0m \u001b[0;34m-\u001b[0m\u001b[0ml\u001b[0m\u001b[0;34m:\u001b[0m\u001b[0;34m\u001b[0m\u001b[0m\n\u001b[0;32m-> 1638\u001b[0;31m             \u001b[0;32mraise\u001b[0m \u001b[0mIndexError\u001b[0m\u001b[0;34m(\u001b[0m\u001b[0;34m\"single positional indexer is out-of-bounds\"\u001b[0m\u001b[0;34m)\u001b[0m\u001b[0;34m\u001b[0m\u001b[0m\n\u001b[0m\u001b[1;32m   1639\u001b[0m         \u001b[0;32mreturn\u001b[0m \u001b[0;32mTrue\u001b[0m\u001b[0;34m\u001b[0m\u001b[0m\n\u001b[1;32m   1640\u001b[0m \u001b[0;34m\u001b[0m\u001b[0m\n",
      "\u001b[0;31mIndexError\u001b[0m: single positional indexer is out-of-bounds"
     ]
    }
   ],
   "source": [
    "# Calculate accuracy. First, get probability that each row will be admitted.\n",
    "pred_statsmod = result.predict(X_statsmod)\n",
    "\n",
    "# Code female as 1 if probability is greater than .5.\n",
    "pred_y_statsmod = np.where(pred_statsmod < .5, 0, 1)\n",
    "\n",
    "# Accuracy table.\n",
    "table = pd.crosstab(df['gendercat'], pred_y_statsmod)\n",
    "\n",
    "print('\\n Accuracy by gender')\n",
    "print(table)\n",
    "print('\\n Percentage accuracy')\n",
    "print((table.iloc[0,0] + table.iloc[1,1]) / (table.sum().sum()))"
   ]
  },
  {
   "cell_type": "markdown",
   "metadata": {},
   "source": [
    "# Fitting a binary logistic model using SKLearn"
   ]
  },
  {
   "cell_type": "code",
   "execution_count": 30,
   "metadata": {},
   "outputs": [
    {
     "name": "stdout",
     "output_type": "stream",
     "text": [
      "Coefficients\n",
      "[[-0.46887022 -0.2019435   0.76195304  0.73804582]]\n",
      "[-1.32802468]\n",
      "\n",
      " Accuracy by sexual orientation\n",
      "gendercat      0     1\n",
      "row_0                 \n",
      "0          22343  6425\n",
      "\n",
      " Percentage accuracy\n",
      "0.776661568409\n"
     ]
    }
   ],
   "source": [
    "# Declare a logistic regression classifier.\n",
    "# Parameter regularization coefficient C described above.\n",
    "lr = LogisticRegression(C=1e9)\n",
    "y = df['gendercat']\n",
    "X = df[['homo', 'hetero', 'bisexual', 'bicurious']]\n",
    "\n",
    "# Fit the model.\n",
    "fit = lr.fit(X, y)\n",
    "\n",
    "# Display.\n",
    "print('Coefficients')\n",
    "print(fit.coef_)\n",
    "print(fit.intercept_)\n",
    "pred_y_sklearn = lr.predict(X)\n",
    "\n",
    "print('\\n Accuracy by sexual orientation')\n",
    "print(pd.crosstab(pred_y_sklearn, y))\n",
    "\n",
    "print('\\n Percentage accuracy')\n",
    "print(lr.score(X, y))"
   ]
  },
  {
   "cell_type": "markdown",
   "metadata": {},
   "source": [
    "# Ridge Regression"
   ]
  },
  {
   "cell_type": "code",
   "execution_count": 31,
   "metadata": {},
   "outputs": [
    {
     "name": "stdout",
     "output_type": "stream",
     "text": [
      "\n",
      "R-squared:\n",
      "1.0\n",
      "[ -2.75116220e-16   4.71844785e-15   1.00000000e+00   9.57260910e-02\n",
      "   9.57260910e-02  -2.16493490e-15   4.33964768e-01   5.29690859e-01\n",
      "   5.29690859e-01   5.29690859e-01  -5.29690859e-01  -5.29690859e-01\n",
      "  -5.29690859e-01  -1.06858966e-14]\n"
     ]
    }
   ],
   "source": [
    "# Define the training and test sizes.\n",
    "trainsize = int(df.shape[0] / 2)\n",
    "df_test = df.iloc[trainsize:, :].copy()\n",
    "df_train = df.iloc[:trainsize, :].copy()\n",
    "\n",
    "# Set up the regression model to predict defaults using all other variables as features.\n",
    "regr1 = linear_model.LinearRegression()\n",
    "Y_train = df_train['gendercat'].values.reshape(-1, 1)\n",
    "X_train = df_train\n",
    "regr1.fit(X_train, Y_train)\n",
    "print('\\nR-squared:')\n",
    "print(regr1.score(X_train, Y_train))\n",
    "\n",
    "#Store the parameter estimates.\n",
    "origparams = np.append(regr1.coef_, regr1.intercept_)\n",
    "print(origparams)"
   ]
  },
  {
   "cell_type": "code",
   "execution_count": 32,
   "metadata": {},
   "outputs": [
    {
     "name": "stdout",
     "output_type": "stream",
     "text": [
      "\n",
      "R-squared:\n",
      "1.0\n"
     ]
    }
   ],
   "source": [
    "# Test the model\n",
    "Y_test = df_test['gendercat'].values.reshape(-1, 1)\n",
    "X_test = df_test\n",
    "print('\\nR-squared:')\n",
    "print(regr1.score(X_test, Y_test))"
   ]
  },
  {
   "cell_type": "code",
   "execution_count": 33,
   "metadata": {},
   "outputs": [
    {
     "name": "stdout",
     "output_type": "stream",
     "text": [
      "0.99997584942\n",
      "[  6.19854530e-04  -9.35436483e-04   9.94101295e-01  -1.64963146e-03\n",
      "   2.28146734e-03   5.55715115e-03   6.31835879e-04   2.15621105e-04\n",
      "   5.82704299e-04   6.55550118e-04  -2.17066179e-04   1.70012761e-03\n",
      "   6.02649966e-04   0.00000000e+00]\n"
     ]
    }
   ],
   "source": [
    "ridgeregr = linear_model.Ridge(alpha=10, fit_intercept=False) \n",
    "ridgeregr.fit(X_train, Y_train)\n",
    "print(ridgeregr.score(X_train, Y_train))\n",
    "\n",
    "# Store the new parameter estimates for the same features.\n",
    "newparams = np.append(\n",
    "    ridgeregr.coef_[0,0:(len(origparams)-1)],\n",
    "    ridgeregr.intercept_)\n",
    "print(newparams)"
   ]
  },
  {
   "cell_type": "markdown",
   "metadata": {},
   "source": [
    "# Lasso Regression  \n",
    "\n",
    "**All I could get it do to was not fail. Everything else is 0. 🤷🏾‍♀️🤷🏾‍♀️**"
   ]
  },
  {
   "cell_type": "code",
   "execution_count": 34,
   "metadata": {},
   "outputs": [
    {
     "name": "stdout",
     "output_type": "stream",
     "text": [
      "R²:\n",
      "0.0\n",
      "\n",
      "Parameter estimates:\n",
      "[ 0.        -0.         0.        -0.         0.         0.        -0.        -0.\n",
      "  0.         0.        -0.         0.        -0.         0.2128059]\n"
     ]
    }
   ],
   "source": [
    "LY_train = df_train['gendercat'].values.reshape(-1, 1)\n",
    "LX_train = df_train\n",
    "\n",
    "# Small number of parameters.\n",
    "lass = linear_model.Lasso(alpha=35)\n",
    "lassfit = lass.fit(LX_train, LY_train)\n",
    "print('R²:')\n",
    "print(lass.score(X_train, Y_train))\n",
    "\n",
    "lassparams = np.append(lassfit.coef_, lassfit.intercept_)\n",
    "print('\\nParameter estimates:')\n",
    "print(lassparams)"
   ]
  },
  {
   "cell_type": "code",
   "execution_count": 35,
   "metadata": {},
   "outputs": [
    {
     "name": "stdout",
     "output_type": "stream",
     "text": [
      "0.0\n"
     ]
    }
   ],
   "source": [
    "print(lass.score(X_train, Y_train))"
   ]
  },
  {
   "cell_type": "code",
   "execution_count": null,
   "metadata": {
    "collapsed": true
   },
   "outputs": [],
   "source": []
  }
 ],
 "metadata": {
  "kernelspec": {
   "display_name": "Python 3",
   "language": "python",
   "name": "python3"
  },
  "language_info": {
   "codemirror_mode": {
    "name": "ipython",
    "version": 3
   },
   "file_extension": ".py",
   "mimetype": "text/x-python",
   "name": "python",
   "nbconvert_exporter": "python",
   "pygments_lexer": "ipython3",
   "version": "3.6.3"
  }
 },
 "nbformat": 4,
 "nbformat_minor": 2
}
