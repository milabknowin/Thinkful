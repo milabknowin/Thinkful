{
 "cells": [
  {
   "cell_type": "markdown",
   "metadata": {},
   "source": [
    "## Read the following descriptions of an experiment and its analysis, identify the flaws in each, and describe what you would do to correct them."
   ]
  },
  {
   "cell_type": "markdown",
   "metadata": {},
   "source": [
    "**1. The Sith Lords are concerned that their recruiting slogan, \"Give In to Your Anger,\" isn't very effective. Darth Vader develops an alternative slogan, \"Together We Can Rule the Galaxy.\" They compare the slogans on two groups of 50 captured droids each. In one group, Emperor Palpatine delivers the \"Anger\" slogan. In the other, Darth Vader presents the \"Together\" slogan. 20 droids convert to the Dark Side after hearing Palpatine's slogan, while only 5 droids convert after hearing Vader's. The Sith's data scientist concludes that \"Anger\" is a more effective slogan and should continue to be used.** \n",
    "\n",
    "Droids, being inorganic beings do not have the luxury of free will as do humans, so emotionally based conversion analysis wouldn't be effective.  The conversion would likely be more program centered.  As Palpatine is the Emperor & higher in authority than Vader it would reason that more droids would convert after hearing his slogan.  To correct bias, have each deliver their speech to one group, then swap groups and speeches to determine if converion is due to the speech or the giver.  Confounding effects."
   ]
  },
  {
   "cell_type": "markdown",
   "metadata": {},
   "source": [
    "**2. In the past, the Jedi have had difficulty with public relations. They send two envoys, Jar Jar Binks and Mace Windu, to four friendly and four unfriendly planets respectively, with the goal of promoting favorable feelings toward the Jedi. Upon their return, the envoys learn that Jar Jar was much more effective than Windu: Over 75% of the people surveyed said their attitudes had become more favorable after speaking with Jar Jar, while only 65% said their attitudes had become more favorable after speaking with Windu. This makes Windu angry, because he is sure that he had a better success rate than Jar Jar on every planet. The Jedi choose Jar Jar to be their representative in the future.**\n",
    "\n",
    "Jar Jar had a better success rate because he was sent to 4 friendly planets that likely already had a more favorble view of the Jedis than the 4 unfriendlies Mace Windu was sent to.  To correct the bias, send each envoy to 2 friendly and 2 unfriendly planets and weight the conversion of the unfriendlies a little higher since more finesse will be required to convert.\n",
    "\n",
    "Additionally, Simpson's Paradox could explain why Mace felt his envoy was more successful than Jar Jar's.  It's possible that Mace had better success on a planet by planet breakdown, but Jar Jar did better in an overall comparison of each envoy."
   ]
  },
  {
   "cell_type": "markdown",
   "metadata": {},
   "source": [
    "**3. A company with work sites in five different countries has sent you data on employee satisfaction rates for workers in Human Resources and workers in Information Technology. Most HR workers are concentrated in three of the countries, while IT workers are equally distributed across worksites. The company requests a report on satisfaction for each job type. You calculate average job satisfaction for HR and for IT and present the report.**\n",
    "\n",
    "The HR workers satisfaction data bias is due to assingment conditions, due to the lack of representation in 2 of the 5 countries.  The IT satisfaction data will be more representative because geographical differences may provide more balance and less variance than the HR data.  To correct the bias, HR data from the 2 missing countries could be imputed, or IT data from the 2 countries where there is no HR data could be omitted.  Job satisfaction as a whole ignores the significance of per country satisfaction rates."
   ]
  },
  {
   "cell_type": "markdown",
   "metadata": {},
   "source": [
    "**4. When people install the Happy Days Fitness Tracker app, they are asked to \"opt in\" to a data collection scheme where their level of physical activity data is automatically sent to the company for product research purposes. During your interview with the company, they tell you that the app is very effective because after installing the app, the data show that people's activity levels rise steadily.**\n",
    "\n",
    "The levels rise steadily because there was no baseline (per individual) prior to them installing the app.  Any amount of activity will constitute an increase.  Everyone plateaus at some point, no one's activity is going to indefinitely increase.  To correct the bias, establish a baseline for all users, or aggregate individual data after 45 days to determine an individual's baseline and evaluate based on that.  Sampling bias - people who download the app are likely more fitness inclined and knowing activity is being tracked could influence consistency of workouts."
   ]
  },
  {
   "cell_type": "markdown",
   "metadata": {},
   "source": [
    "**5. To prevent cheating, a teacher writes three versions of a test. She stacks the three versions together, first all copies of Version A, then all copies of Version B, then all copies of Version C. As students arrive for the exam, each student takes a test. When grading the test, the teacher finds that students who took Version B scored higher than students who took either Version A or Version C. She concludes from this that Version B is easier, and discards it.**\n",
    "\n",
    "The teacher is exhibiting observer bias by assuming version b is easier because it was the higher scoring version.  This doesn't take into account the preparedness or lack thereof of the students, or contextual/situational factors.  The students who scored higher on version b were likely the most prepared students and would've scored highly on either of the other 2 versions as well.  To correct the bias, retest with the lowest scoring version of the test."
   ]
  },
  {
   "cell_type": "markdown",
   "metadata": {},
   "source": []
  }
 ],
 "metadata": {
  "kernelspec": {
   "display_name": "Python 3",
   "language": "python",
   "name": "python3"
  },
  "language_info": {
   "codemirror_mode": {
    "name": "ipython",
    "version": 3
   },
   "file_extension": ".py",
   "mimetype": "text/x-python",
   "name": "python",
   "nbconvert_exporter": "python",
   "pygments_lexer": "ipython3",
   "version": "3.6.3"
  }
 },
 "nbformat": 4,
 "nbformat_minor": 2
}
