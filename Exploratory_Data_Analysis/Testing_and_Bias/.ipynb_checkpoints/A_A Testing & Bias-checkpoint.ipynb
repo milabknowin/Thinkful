{
 "cells": [
  {
   "cell_type": "markdown",
   "metadata": {},
   "source": [
    "## For each of the following scenarios, call out the potential biases in the proposed experiment. Do your best to try to discover not only the bias, but the initial design. There is plenty of room for interpretation here, so make sure to state what assumptions you're making."
   ]
  },
  {
   "cell_type": "markdown",
   "metadata": {},
   "source": [
    "### You're testing advertising emails for a bathing suit company and you test one version of the email in February and the other in May.\n",
    "\n",
    "***Initial design - Which bathing suit ad is most efefctive?***\n",
    "\n",
    "***Bias*** - Testing method/time of year.  Bathing suit interest is lower in February because it's winter.  In May, summer is approaching, people are planning summer travel including beach visits and vacations.  Children will be out of school and parents will be looking for summer activities."
   ]
  },
  {
   "cell_type": "markdown",
   "metadata": {},
   "source": [
    "### You open a clinic to treat anxiety and find that the people who visit show a higher rate of anxiety than the general population.\n",
    "\n",
    "***Initial design - A general health clinic is opened in a new area.***\n",
    "\n",
    "***Bias*** - Geographical location/perception.  The clinic is geared (or perceived to be) toward people with anxiety/anxiety related disorders, not a general health clinic.  The clinic opened in an area with a higher than average concentration of people with anxiety/anxiety related disorders."
   ]
  },
  {
   "cell_type": "markdown",
   "metadata": {},
   "source": [
    "### You launch a new ad billboard based campaign and see an increase in website visits in the first week.\n",
    "\n",
    "***Initial design - A new product is introduced via billboard ad campaign.***\n",
    "\n",
    "***Bias*** - Sample size.  The billboard is highly visible and targets a wide range of people, not necessarily the specific/intended customer base.  The billboard could produce a superficial interest in a product that is otherwise unmarketable.  The billboard's purpose is to increase product sales.  Does the billboard ad generate sales? After the first week, do website visits increase, decrease or stagnate? \n",
    "\n",
    "-different billboards in different areas; targeted advertising-\n",
    "-ip addresses from customers in billboard area; new vs returning customers-"
   ]
  },
  {
   "cell_type": "markdown",
   "metadata": {},
   "source": [
    "### You launch a loyalty program but see no change in visits in the first week.\n",
    "\n",
    "***Initial design - Introducing a loyalty program will promote customer retentnion.***\n",
    "\n",
    "***Bias*** - The loyalty program is based on increased website visits, which is an unreliable metric.  The number of visits not changing is not a reflection of the failure/success of the loyalty program.  The purpose of a loyalty program is customer retention, increasing the amount of repeat buyers, inspiring loyalty to the brand/product.  There is no distinction between new/current customer visits.  Visits haven't changed because the loyalty program hasn't sparked interest among new/potential customers.\n",
    "\n",
    "-testing period too short; what's the sciene behind the loyalty program-"
   ]
  }
 ],
 "metadata": {
  "kernelspec": {
   "display_name": "Python 3",
   "language": "python",
   "name": "python3"
  },
  "language_info": {
   "codemirror_mode": {
    "name": "ipython",
    "version": 3
   },
   "file_extension": ".py",
   "mimetype": "text/x-python",
   "name": "python",
   "nbconvert_exporter": "python",
   "pygments_lexer": "ipython3",
   "version": "3.6.3"
  }
 },
 "nbformat": 4,
 "nbformat_minor": 2
}
