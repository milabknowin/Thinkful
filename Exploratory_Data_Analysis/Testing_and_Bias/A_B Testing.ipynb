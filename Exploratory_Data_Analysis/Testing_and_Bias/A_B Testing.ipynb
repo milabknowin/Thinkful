{
 "cells": [
  {
   "cell_type": "markdown",
   "metadata": {},
   "source": [
    "## For each of the following questions, outline how you could use an A/B test to find an answer. Be sure to identify all five key components of an A/B test we outlined above."
   ]
  },
  {
   "cell_type": "markdown",
   "metadata": {},
   "source": [
    "### Does a new supplement help people sleep better?\n",
    "\n",
    "***2 versions*** - The current \"control version\" consists of people not taking a sleep aid.  The \"test version\" is the supplement being introduced. \n",
    "\n",
    "***sample*** - women and men age range 25-45 who currently do not take sleep aids and have no sleep related disorders.\n",
    "\n",
    "***hypothesis*** - for individuals with no sleep related disorders sleep aids help people sleep longer (better).\n",
    "\n",
    "***outcome*** - measure the duration of sleep stages with/without sleep aids\n",
    "\n",
    "***other measured variables*** - time to fall asleep or reach REM sleep, whether people feel more/less rested on/off sleep aids"
   ]
  },
  {
   "cell_type": "markdown",
   "metadata": {},
   "source": [
    "### Will new uniforms help a gym's business?\n",
    "\n",
    "***2 versions*** - The control version is no uniforms.  The test version is color coded uniforms for all staff.\n",
    "\n",
    "***sample*** - half of the staff per shift will wear uniforms and half will not.\n",
    "\n",
    "***hypothesis*** - uniforms make staff easier to differentiate from patrons and increase marketability.\n",
    "\n",
    "***outcome*** - compare sales data/new memberships for uniformed vs non uniformed staff\n",
    "\n",
    "***other measured variables*** - anonymous customer survey cards"
   ]
  },
  {
   "cell_type": "markdown",
   "metadata": {},
   "source": [
    "### Will a new homepage improve my online exotic pet rental business?\n",
    "\n",
    "***2 versions*** - Control version is the current basic homepage.  The test version is an updated webpage with picture/videos of pets available for rental.\n",
    "\n",
    "***sample*** - current customers and potential new customers half routed to old webpage & the other half routed to the new webpage\n",
    "\n",
    "***hypothesis*** - the new homepage improves business by increasing pet rentals\n",
    "\n",
    "***outcome*** - new & recurring customer rentals, conversion rates, click throughs\n",
    "\n",
    "***other measured variables*** - visits/website traffic, current and past sales data for comparison between old and new homepages"
   ]
  },
  {
   "cell_type": "markdown",
   "metadata": {},
   "source": [
    "### If I put 'please read' in the email subject will more people read my emails?\n",
    "\n",
    "***2 versions*** - Emails without 'please read' in the subject title and emails with 'please read' in the subject title.\n",
    "\n",
    "***sample*** - current marketing email customer list\n",
    "\n",
    "***hypothesis*** - Emails with 'please read' in the subject line get read/opened more than emails without\n",
    "\n",
    "***outcome*** - count opens for emails with 'please read' vs emals without\n",
    "\n",
    "***other measured variables*** - follow through on actionable items in email, time spent with email open"
   ]
  },
  {
   "cell_type": "markdown",
   "metadata": {},
   "source": []
  }
 ],
 "metadata": {
  "kernelspec": {
   "display_name": "Python 3",
   "language": "python",
   "name": "python3"
  },
  "language_info": {
   "codemirror_mode": {
    "name": "ipython",
    "version": 3
   },
   "file_extension": ".py",
   "mimetype": "text/x-python",
   "name": "python",
   "nbconvert_exporter": "python",
   "pygments_lexer": "ipython3",
   "version": "3.6.3"
  }
 },
 "nbformat": 4,
 "nbformat_minor": 2
}
